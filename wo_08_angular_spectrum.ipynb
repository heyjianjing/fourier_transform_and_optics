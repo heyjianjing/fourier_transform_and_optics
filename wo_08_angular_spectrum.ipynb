{
  "nbformat": 4,
  "nbformat_minor": 0,
  "metadata": {
    "colab": {
      "provenance": []
    },
    "kernelspec": {
      "name": "python3",
      "display_name": "Python 3"
    },
    "language_info": {
      "name": "python"
    }
  },
  "cells": [
    {
      "cell_type": "markdown",
      "source": [
        "#### `Angular spectrum` method for wave propagation"
      ],
      "metadata": {
        "id": "XOEDyDz58y3u"
      }
    },
    {
      "cell_type": "markdown",
      "source": [
        "Given a field at plane $z_0=0$, how will we find the `propagated field` at some other $z$? We do the following\n",
        "\n",
        "* Decompose field $U(x, y, 0)$ into 2d plane waves\n",
        "* Propagrate each plane wave separately to $z$\n",
        "* Aggregate propagated plane waves together to find $U(x, y, z)$"
      ],
      "metadata": {
        "id": "Vcg2eYC3wmOJ"
      }
    },
    {
      "cell_type": "markdown",
      "source": [
        "Recall plane wave is expressed as\n",
        "\n",
        "$$\\boxed{e^{i \\textbf{k} \\cdot \\textbf{r}}=e^{i(k_x x +k_y y +k_z z)}}$$\n",
        "\n",
        "* Any $\\textbf{r}$ having a `constant` dot-product with $\\textbf{k}$ (i.e., constant phase) lies on a line/plane perpendicular to $\\textbf{k}$\n",
        "* For time-dependent expression $e^{i (\\textbf{k} \\cdot \\textbf{r} - \\omega t)}$, $\\textbf{k}$ is the `propagation direction` and line/plane of constant phase is `wavefront`\n",
        "* `Wave number` $|\\textbf{k}|=\\frac{2\\pi}{\\lambda}$, and `phase velocity` $c=\\frac{\\omega}{|\\textbf{k}|}$"
      ],
      "metadata": {
        "id": "WD1FVDfmx7Mn"
      }
    },
    {
      "cell_type": "markdown",
      "source": [
        "#### `Decomposition` of field"
      ],
      "metadata": {
        "id": "f6r625l3Ky5G"
      }
    },
    {
      "cell_type": "markdown",
      "source": [
        "We first `decompose` $U(x, y, 0)$ into plane waves $e^{2\\pi i (f_x x + f_y y)}$ with spatial frequencies $f_x$ and $f_y$\n",
        "\n",
        "$$U(x, y, 0)=\\iint \\hat{U}_0(f_x, f_y)\\cdot e^{2\\pi i (f_x x + f_y y)}df_x df_y$$\n",
        "\n",
        "where $\\hat{U}_0(f_x, f_y)$ can be considered `weights` to each decomposed plane wave and is obtained, by definition, through `Fourier transform` of $U(x, y, 0)$\n",
        "\n",
        "$$\\begin{align*}\\hat{U}(f_x, f_y) &=F\\left.\\{U(x, y, 0)\\}\\right|_{(f_x, f_y)} \\\\\n",
        "&= \\iint U(x, y, 0)\\cdot e^{-2\\pi i (f_x x + f_y y)}dx dy \\\\\n",
        "\\end{align*}$$\n",
        "\n",
        "We call $\\hat{U}_0(f_x, f_y)$ the `angular spectrum` of $U(x, y, 0)$"
      ],
      "metadata": {
        "id": "BnxnkS9n7rps"
      }
    },
    {
      "cell_type": "markdown",
      "source": [
        "#### `Propagation` of plane waves"
      ],
      "metadata": {
        "id": "vsgydj-gz3c1"
      }
    },
    {
      "cell_type": "markdown",
      "source": [
        "We then `propagate` each plane wave to $z$. Since\n",
        "\n",
        "$$|\\mathbf{k}|=\\sqrt{k_x^2+k_y^2+k_z^2}=\\frac{2\\pi}{\\lambda}$$\n",
        "\n",
        "We have\n",
        "\n",
        "$$k_z=\\pm\\sqrt{\\left(\\frac{2\\pi}{\\lambda}\\right)^2-k_x^2-k_y^2}$$\n",
        "\n",
        "For $z>0$, wave propagates in `positive` $z$ direction and the propagated plane wave is expressed as\n",
        "\n",
        "$$\\boxed{\\exp\\left({2\\pi i\\left(f_x x+ f_y y+ f_zz\\right)}\\right)}$$\n",
        "\n",
        "where $2\\pi f_x=k_x$ and $2\\pi f_y=k_y$. This is just the plane wave from $z=0$ with an `added phase term` due to propagation in $z$\n",
        "\n",
        "$$f_zz=\\left(\\sqrt{\\left(\\frac{1}{\\lambda}\\right)^2-f_x^2-f_y^2}\\right)z$$"
      ],
      "metadata": {
        "id": "9rBVO-JB7uIt"
      }
    },
    {
      "cell_type": "markdown",
      "source": [
        "#### `Reconstruction` of field after propagation"
      ],
      "metadata": {
        "id": "njZQR8Fv2ACv"
      }
    },
    {
      "cell_type": "markdown",
      "source": [
        "Finally, we `aggregate` all propagated wave at $z$ weighted by respective weights $\\hat{U}_0(f_x, f_y)$\n",
        "\n",
        "$$U(x, y, z)=\\iint \\hat{U}_0(f_x, f_y)\\cdot \\exp\\left(2\\pi i\\left(f_x x+ f_y y+ f_zz\\right)\\right) df_x df_y$$\n",
        "\n",
        "We write $\\hat{U}_0(f_x, f_y)$ as Fourier transform of original field $U(x, y, 0)$\n",
        "\n",
        "$$\\begin{align*}\n",
        "U(x, y, z)&=\\iint \\left.F \\{U(x, y, 0)\\}\\right|_{f_x, f_y} \\cdot \\exp\\left(2\\pi i\\left(f_x x+ f_y y+ f_zz\\right)\\right) df_x df_y\\\\\n",
        "&\\text{Break up the exponential}\\\\\n",
        "&=\\iint \\left[\\left.F \\{U(x, y, 0)\\}\\right|_{f_x, f_y} \\cdot \\exp\\left(2\\pi if_zz\\right)\\right] \\cdot\\exp\\left(2\\pi i\\left(f_x x+ f_y y\\right)\\right)df_x df_y\\\\\n",
        "&\\text{Then, we take inverse fourier transform}\\\\\n",
        "&=\\boxed{F^{-1}\\left.\\left\\{ \\left.F \\{U(x, y, 0)\\}\\right|_{f_x, f_y} \\cdot \\exp\\left({2\\pi if_zz}\\right) \\right\\}\\right|_{x, y}}\n",
        "\\end{align*}$$"
      ],
      "metadata": {
        "id": "lvcBTqCw7www"
      }
    },
    {
      "cell_type": "markdown",
      "source": [
        "#### `Evanescent field`"
      ],
      "metadata": {
        "id": "Co4RsiSrF_aE"
      }
    },
    {
      "cell_type": "markdown",
      "source": [
        "If $\\left(\\frac{1}{\\lambda}\\right)^2-f_x^2-f_y^2<0$, which indicates $f_x^2+f_y^2>\\left(\\frac{1}{\\lambda}\\right)^2$ or $k_x^2+k_y^2>k^2$, the phase term becomes `imaginary` and we get an exponential decay term\n",
        "\n",
        "$$\\exp\\left({2\\pi iz\\sqrt{\\left(\\frac{1}{\\lambda}\\right)^2-f_x^2-f_y^2}}\\right)=\\exp\\left(-2\\pi |f_z|z\\right)=\\exp(-|k_z|z)$$\n",
        "\n",
        "Since $f_x^2+f_y^2>\\left(\\frac{1}{\\lambda}\\right)^2$ define the region outside of a `circle` of radius $\\frac{1}{\\lambda}$ in `spatial frequency` domain, therefore, `high frequency` information in the field for which\n",
        "\n",
        "$$f_x^2+f_y^2>\\left(\\frac{1}{\\lambda}\\right)^2$$\n",
        "\n",
        "will be lost as they will be in `evanescent field`, while low frequency information will propagate normally\n",
        "\n",
        "This `limit of resolution` is determined by $\\lambda$, as `features` smaller than $\\lambda$ will be in evanescent field"
      ],
      "metadata": {
        "id": "FanxKQD9GKdh"
      }
    },
    {
      "cell_type": "code",
      "source": [],
      "metadata": {
        "id": "TFkMI7gGNC4r"
      },
      "execution_count": null,
      "outputs": []
    }
  ]
}