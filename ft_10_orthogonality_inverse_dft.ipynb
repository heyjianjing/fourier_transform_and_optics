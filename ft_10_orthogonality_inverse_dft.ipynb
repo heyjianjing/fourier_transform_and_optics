{
  "nbformat": 4,
  "nbformat_minor": 0,
  "metadata": {
    "colab": {
      "provenance": []
    },
    "kernelspec": {
      "name": "python3",
      "display_name": "Python 3"
    },
    "language_info": {
      "name": "python"
    }
  },
  "cells": [
    {
      "cell_type": "markdown",
      "source": [
        "#### Recap DFT"
      ],
      "metadata": {
        "id": "IV1ymdEa-4U7"
      }
    },
    {
      "cell_type": "markdown",
      "source": [
        "* $f(t)$ is limited to $0 \\leq t \\leq L$\n",
        "* $F(s)$ is limited to $0 \\leq s \\leq 2B$"
      ],
      "metadata": {
        "id": "i1X0zSoJlAz0"
      }
    },
    {
      "cell_type": "markdown",
      "source": [
        "We have `discrete function`\n",
        "\n",
        "$$f=\\left(f[0], \\cdots, f[N-1]\\right)$$\n",
        "\n",
        "and `discrete Fourier transform`\n",
        "\n",
        "$$F=\\left(F[0], \\cdots, F[N-1]\\right)$$\n",
        "\n",
        "with the following relationship\n",
        "\n",
        "$$\\boxed{F[m]=\\sum_{n=0}^{N-1}f[n]\\color{orange}{e^{-2\\pi i \\frac{mn}{N}}} \\, (m=0,\\cdots, N-1)}$$"
      ],
      "metadata": {
        "id": "d6XL4hDow668"
      }
    },
    {
      "cell_type": "markdown",
      "source": [
        "#### Discrete `complex exponentials`"
      ],
      "metadata": {
        "id": "AQhY8HUhxsa2"
      }
    },
    {
      "cell_type": "markdown",
      "source": [
        "Similar to continuous case, we can write discrete version of `complex exponentials` as\n",
        "\n",
        "$$\\boxed{\\omega=e^{2\\pi i/N}}$$\n",
        "\n",
        "$$\\mathbf{\\omega}=(\\omega^0, \\omega^1, \\cdots, \\omega^{N-1})=(1, \\omega^1, \\cdots, \\omega^{N-1})$$"
      ],
      "metadata": {
        "id": "WQu-NgjOx7xE"
      }
    },
    {
      "cell_type": "markdown",
      "source": [
        "We can also define `powers` of $\\mathbf{\\omega}$\n",
        "\n",
        "$$\\omega^n=(1, \\omega^{n \\cdot 1}, \\omega^{n \\cdot 2}, \\cdots, \\omega^{n \\cdot (N-1)})$$\n",
        "\n",
        "$$\\omega^{-n}=(1, \\omega^{-n \\cdot 1}, \\omega^{-n \\cdot 2}, \\cdots, \\omega^{-n \\cdot (N-1)})$$"
      ],
      "metadata": {
        "id": "19LuKrMQf9-6"
      }
    },
    {
      "cell_type": "markdown",
      "source": [
        "And we can write `mth` `component` of $\\omega^n$ and $\\omega^{-n}$\n",
        "\n",
        "$$\\omega^n[m]=\\omega^{nm}=\\omega^m[n]$$\n",
        "$$\\omega^{-n}[m]=\\omega^{-nm}=\\omega^{-m}[n]$$"
      ],
      "metadata": {
        "id": "3Ir_XCrvgjbP"
      }
    },
    {
      "cell_type": "markdown",
      "source": [
        "This allows us to write DFT more compactly\n",
        "\n",
        "$$\\boxed{F[m]=\\sum_{n=0}^{N-1}f[n]\\omega^{-n}[m]}$$"
      ],
      "metadata": {
        "id": "gGIqCf09zlEH"
      }
    },
    {
      "cell_type": "markdown",
      "source": [
        "and using `matrix notation`\n",
        "\n",
        "$$\\begin{bmatrix}F[0]\\\\F[\\color{magenta}{1}]\\\\F[2]\\\\ \\dots\\\\F[N-1]\\end{bmatrix}=\\begin{bmatrix} 1 & 1 & 1 & \\cdots & 1 \\\\\n",
        "1 & \\omega^{-\\color{red}{1}\\cdot \\color{magenta}{1}}\\ & \\omega^{-\\color{limegreen}{2}\\cdot \\color{magenta}{1}} & \\cdots & \\omega^{-\\color{orange}{(N-1)}\\cdot \\color{magenta}{1}} \\\\\n",
        "1 & \\omega^{-1\\cdot2}\\ & \\omega^{-2 \\cdot 2} & \\cdots & \\omega^{-(N-1) \\cdot 2} \\\\\n",
        "\\vdots & \\vdots & \\vdots & \\ddots & \\vdots \\\\\n",
        "1 & \\omega^{-1\\cdot (N-1)}\\ & \\omega^{-2\\cdot (N-1)} & \\cdots & \\omega^{-(N-1)\\cdot (N-1)} \\\\\n",
        "\\end{bmatrix}_{m\\times n}\\begin{bmatrix}f[0]\\\\f[\\color{red}{1}]\\\\f[\\color{limegreen}{2}]\\\\ \\dots\\\\f[\\color{orange}{N-1}]\\end{bmatrix}$$"
      ],
      "metadata": {
        "id": "TMJWvKQjcVTT"
      }
    },
    {
      "cell_type": "markdown",
      "source": [
        "Compare to continuous version, pretty close\n",
        "\n",
        "$$F(s)=\\int_{-\\infty}^{\\infty}f(t)e^{2\\pi i(-t)s} dt$$"
      ],
      "metadata": {
        "id": "CBKPBQcD17hz"
      }
    },
    {
      "cell_type": "markdown",
      "source": [
        "#### `Orthogonality` between discrete complex exponentials"
      ],
      "metadata": {
        "id": "MyIT12Xi4s61"
      }
    },
    {
      "cell_type": "markdown",
      "source": [
        "We have seen the `inner product` between two continuous complex exponentials `defined` as\n",
        "\n",
        "$$\\int_0^1e^{2\\pi imt}e^{-2\\pi int} dt = \\left\\{\\begin{array}{ll}0 &m\\neq n \\\\1 &m=n \\end{array}\\right.$$\n",
        "\n",
        "indicating that continuous complex exponentials are `orthonormal`"
      ],
      "metadata": {
        "id": "FZbdtGM5eV93"
      }
    },
    {
      "cell_type": "markdown",
      "source": [
        "In `discrete` case, similarly, we extend the idea two $\\omega$ `vectors` corresponding to `different powers`\n",
        "\n",
        "This is NOT exactly analogous to continous case, as strictly `by definition`, for example, if $n=-2$, $\\omega^{-2}$ would refer to a `column` of the DFT matrix. Therefore, the inner product would resemble integration over $s$, not $t$ as in continuous case\n",
        "\n",
        "However, due to `symmetry` of the DFT matrix, it is mathematically equivalent to doing inner product over `rows`, which gives the sense of integration over $t$ as in the continous case\n",
        "\n",
        "Like in continous case, we `define` inner product as\n",
        "\n",
        "$$\n",
        "\\begin{align*}\n",
        "\\omega^k\\cdot \\omega^l&=\\sum_{n=0}^{N-1}\\omega^k[n]\\overline{\\omega^l[n]}\\\\\n",
        "&=\\sum_{n=0}^{N-1}e^{2\\pi i \\frac{kn}{N}}\\cdot e^{-2\\pi i \\frac{ln}{N}} \\\\\n",
        "&=\\sum_{n=0}^{N-1}\\left(e^{2\\pi i \\frac{(k-l)}{N}}\\right)^n \\\\\n",
        "& \\text{if } k=l \\\\\n",
        "&=N \\\\\n",
        "& \\text{if } k\\neq l \\\\\n",
        "&=\\frac{1-\\left(e^{2\\pi i \\frac{k-l}{N}}\\right)^N}{1-e^{2\\pi i \\frac{k-l}{N}}} \\\\\n",
        "&=\\frac{1-e^{2\\pi i (k-l)}}{1-e^{2\\pi i \\frac{k-l}{N}}} \\\\\n",
        "&= 0\n",
        "\\end{align*}$$"
      ],
      "metadata": {
        "id": "vTPC2HO5VqMs"
      }
    },
    {
      "cell_type": "markdown",
      "source": [
        "Therefore\n",
        "\n",
        "$$\\boxed{\\omega^k\\cdot \\omega^l =\\sum_{n=0}^{N-1}\\omega^k[n]\\omega^{-l}[n]= \\left\\{\\begin{array}{ll} N &k=l \\\\0 &k\\neq l \\end{array}\\right.}$$\n",
        "\n",
        "We see that discrete complex exponentials are `orthogonal`, but `NOT orthonormal`\n",
        "\n",
        "The factor $N$ can show up in places, the first one is the inverse DFT"
      ],
      "metadata": {
        "id": "ARreKkruXk88"
      }
    },
    {
      "cell_type": "markdown",
      "source": [
        "#### `Inverse` DFT"
      ],
      "metadata": {
        "id": "RoZDGY_cZa4R"
      }
    },
    {
      "cell_type": "markdown",
      "source": [
        "$$\\begin{align*}\n",
        "F^{-1}f[m]&=\\frac{1}{N}\\sum_{n=0}^{N-1}f[n]e^{2\\pi i \\frac{nm}{N}} \\\\\n",
        "&=\\frac{1}{N}\\sum_{n=0}^{N-1}f[n]\\omega^n[m]\n",
        "\\end{align*}$$\n",
        "\n",
        "$F^{-1}f[m]$ refers to inverse Fourier transform evaluated at index $m$"
      ],
      "metadata": {
        "id": "gWj4T_oYZkko"
      }
    },
    {
      "cell_type": "markdown",
      "source": [
        "We can verify that this expression is indeed the inverse DFT by showing that\n",
        "\n",
        "$$F^{-1}Ff[m]=f[m]$$"
      ],
      "metadata": {
        "id": "lSNCy_P6qHII"
      }
    },
    {
      "cell_type": "markdown",
      "source": [
        "$$\\begin{align*}\n",
        "F^{-1}Ff[m]&=\\frac{1}{N}\\sum_{n=0}^{N-1}\\color{orange}{Ff[n]}\\omega^n[m]\\\\\n",
        "&=\\frac{1}{N}\\sum_{n=0}^{N-1}\\left(\\color{orange}{\\sum_{k=0}^{N-1}f[k]\\omega^{-k}[n]}\\right)\\omega^n[m]\\\\\n",
        "&=\\frac{1}{N}\\sum_{n=0}^{N-1}\\sum_{k=0}^{N-1}f[k]\\omega^n[m]\\omega^{-k}[n] \\\\\n",
        "&=\\frac{1}{N}\\sum_{k=0}^{N-1}f[k]\\sum_{n=0}^{N-1}\\omega^n[m]\\omega^{-k}[n] \\\\\n",
        "&=\\frac{1}{N}\\sum_{k=0}^{N-1}f[k]\\sum_{n=0}^{N-1}\\omega^m[n]\\omega^{-k}[n] \\\\\n",
        "& \\sum_{n=0}^{N-1}\\omega^m[n]\\omega^{-k}[n]=N \\, \\text{if } k=m, 0 \\text{ otherwise}\\\\\n",
        "&=\\frac{1}{N}f[m]N \\\\\n",
        "&=f[m]\n",
        "\\end{align*}$$"
      ],
      "metadata": {
        "id": "a8TjJfYvqZ0r"
      }
    },
    {
      "cell_type": "markdown",
      "source": [
        "#### Some `examples`"
      ],
      "metadata": {
        "id": "9h-D3j71Fo_Y"
      }
    },
    {
      "cell_type": "markdown",
      "source": [
        "(1) Fourier transform evaluated at 0\n",
        "\n",
        "$$\\begin{align*}\n",
        "F[0]&=\\sum_{n=0}^{N-1}f[n]\\omega^{-n}[0] \\\\\n",
        "&=\\sum_{n=0}^{N-1}f[n]\\omega^{-n\\cdot 0} \\\\\n",
        "&=\\sum_{n=0}^{N-1}f[n]\n",
        "\\end{align*}$$\n",
        "\n",
        "That is, sum of all `discrete` function values\n",
        "\n",
        "Analogous to `continous` case\n",
        "\n",
        "$$F(0)=\\int f(t) dt$$"
      ],
      "metadata": {
        "id": "8a2Dn2tdFqdU"
      }
    },
    {
      "cell_type": "markdown",
      "source": [
        "(2) Two special discrete functions\n",
        "\n",
        "Discrete `constant` function\n",
        "$$1=(1,1,\\cdots,1)$$\n",
        "\n",
        "Discrete `delta` function, where the `kth` element is $1$\n",
        "$$\\delta_k=(0,0,\\cdots,1,\\cdots,0,0)$$"
      ],
      "metadata": {
        "id": "MngBjlMKKERQ"
      }
    },
    {
      "cell_type": "markdown",
      "source": [
        "`DFT` of $\\delta_0$\n",
        "\n",
        "$$\\begin{align*}F\\delta_0[m]&=\\sum_{n=0}^{N-1}\\delta_0[n]\\omega^{-n}[m] \\\\\n",
        "& \\text{only}\\, n=0 \\, \\text{term survives} \\\\\n",
        "&=\\delta_0[0]\\cdot \\omega^{-0}[m]\\\\\n",
        "&=1\n",
        "\\end{align*}$$\n",
        "\n",
        "Therefore, $F\\delta_0=(1,1,\\cdots,1)$\n",
        "\n",
        "`Continous` case\n",
        "\n",
        "$$F\\delta_0=1$$"
      ],
      "metadata": {
        "id": "eH9LG62wKzIl"
      }
    },
    {
      "cell_type": "markdown",
      "source": [
        "`DFT` of $\\delta_k$\n",
        "\n",
        "$$\\begin{align*}F\\delta_k[m]&=\\sum_{n=0}^{N-1}\\delta_k[n]\\omega^{-n}[m] \\\\\n",
        "& \\text{only}\\, n=k \\, \\text{term survives} \\\\\n",
        "&=\\delta_k[k]\\cdot \\omega^{-k}[m]\\\\\n",
        "&=1\\cdot \\omega^{-k}[m]\n",
        "\\end{align*}$$\n",
        "\n",
        "Therefore, $F\\delta_k=\\left(1,\\omega^{-k \\cdot 1},\\omega^{-k\\cdot 2},\\cdots,\\omega^{-k \\cdot (N-1)}\\right)$\n",
        "\n",
        "`Continous` case\n",
        "\n",
        "$$F\\delta_a=e^{-2\\pi i a x}$$"
      ],
      "metadata": {
        "id": "jyLK3s9OMUDA"
      }
    },
    {
      "cell_type": "markdown",
      "source": [
        "(3) `DFT` of `complex exponential`\n",
        "\n",
        "$$\\begin{align*}\n",
        "F\\omega^k[m]&=\\sum_{n=0}^{N-1}\\omega^k[n]\\omega^{-n}[m]\\\\\n",
        "&=\\sum_{n=0}^{N-1}\\omega^{nk}\\omega^{-nm} \\\\\n",
        "& \\text{only}\\, m=k \\, \\text{term survives} \\\\\n",
        "&=\\left\\{\\begin{array}{ll} N & m=k \\\\ 0 & m\\neq k\\end{array}\\right.\n",
        "\\end{align*}$$\n",
        "\n",
        "Therefore, $F\\omega^k=N\\delta_k$\n",
        "\n",
        "`Continous` case\n",
        "\n",
        "$$Fe^{2\\pi i a x} = \\delta_a$$"
      ],
      "metadata": {
        "id": "p_TpZWMuN28v"
      }
    },
    {
      "cell_type": "markdown",
      "source": [
        "#### Periodicity"
      ],
      "metadata": {
        "id": "C_dkd1OtkIB1"
      }
    },
    {
      "cell_type": "markdown",
      "source": [
        "Due to periodicity of discrete complex exponential\n",
        "\n",
        "$$\\begin{align*}w^1[m]&=e^{2\\pi i \\frac{m}{N}}\\\\\n",
        "&=e^{2\\pi i \\frac{m}{N}}e^{2\\pi i \\frac{N}{N}} \\\\\n",
        "&=e^{2\\pi i \\frac{m+N}{N}}\\\\\n",
        "&=w^1[m+N]\n",
        "\\end{align*}$$"
      ],
      "metadata": {
        "id": "ytWm_MwkkNKv"
      }
    },
    {
      "cell_type": "markdown",
      "source": [
        "Therefore, the output of DFT is by `setup` periodic of period $N$\n",
        "\n",
        "$$\\begin{align*}\n",
        "F[m+kN]&=\\sum_{n=0}^{N-1}f[n]\\omega^{-n}[m+kN] \\\\\n",
        "&=\\sum_{n=0}^{N-1}f[n]\\omega^{-n}[m] \\\\\n",
        "&=F[m]\n",
        "\\end{align*}$$\n",
        "\n",
        "It is straightforward to see the same applies to the iDFT"
      ],
      "metadata": {
        "id": "xU0sO7a5mIIK"
      }
    },
    {
      "cell_type": "markdown",
      "source": [
        "By extension, if we take DFT then iDFT of a discrete function $f$, then the output would be periodic as well, although originally $f$ is not when serving as input to the DFT\n",
        "\n",
        "Therefore, we may just as well `assume` that $f$ is `periodic function` of period $N$ in the first place, when invoking DFT/iDFT"
      ],
      "metadata": {
        "id": "miA7Rs0lna5q"
      }
    },
    {
      "cell_type": "markdown",
      "source": [
        "A consequence of periodicity is that we don't have to worry about indexing, DFT can be defined over any set of $N$ consecutive indices\n",
        "\n",
        "$$F[m]=\\sum_{n=p}^{p+N-1}f[k]\\omega^{-n}[m]$$\n",
        "\n",
        "where $p$ can be any integer, plus or minus"
      ],
      "metadata": {
        "id": "pUFDPU2foxRY"
      }
    },
    {
      "cell_type": "markdown",
      "source": [
        "#### Other `convention`"
      ],
      "metadata": {
        "id": "DtX_9qe8pn_e"
      }
    },
    {
      "cell_type": "markdown",
      "source": [
        "When $N$ is `even`, it is very common to index $F$ from $-\\frac{N}{2}+1$ to $\\frac{N}{2}$\n",
        "\n",
        "$$\\boxed{F[m]=\\sum_{n=-\\frac{N}{2}+1}^{\\frac{N}{2}}f[k]\\omega^{-n}[m]}$$\n"
      ],
      "metadata": {
        "id": "kYG7f_alpqJh"
      }
    },
    {
      "cell_type": "markdown",
      "source": [
        "#### Duality for `reversed function`"
      ],
      "metadata": {
        "id": "_SI9rnX9qsFK"
      }
    },
    {
      "cell_type": "markdown",
      "source": [
        "Let $f^-[n]=f[-n]=(f[N-1], f[N-2],\\cdots, f[1])$\n",
        "\n",
        "Then, what is its Fourier transform? We can resort to `periodicity`\n",
        "\n",
        "$$\\begin{align*}\n",
        "Ff^-&=\\sum_{n=0}^{N-1}f[-n]\\omega^{-n}[m] \\\\\n",
        "&=\\sum_{n=0}^{N-1}f[N-n]\\omega^{-n}[m] \\\\\n",
        "& \\text{Let}\\, l=N-n \\\\\n",
        "&=\\sum_{l=N}^{1}f[l]\\omega^{l-N}[m] \\\\\n",
        "&=\\sum_{l=N}^{1}f[l]\\omega^{l}[m] \\\\\n",
        "&=\\sum_{l=0}^{N-1}f[l]\\omega^{l}[m] \\\\\n",
        "&=\\sum_{l=0}^{N-1}f[l]\\omega^{-l}[-m] \\\\\n",
        "&=(Ff)^-\n",
        "\\end{align*}$$"
      ],
      "metadata": {
        "id": "LI5FYTMQqwBS"
      }
    },
    {
      "cell_type": "markdown",
      "source": [
        "#### `Shifting` property"
      ],
      "metadata": {
        "id": "YGYrewpwfEpb"
      }
    },
    {
      "cell_type": "markdown",
      "source": [
        "$$\\tau_pf[n]=f[n-p]$$\n",
        "\n",
        "and\n",
        "\n",
        "$$F(\\tau_pf)=\\omega^{-p}Ff$$\n"
      ],
      "metadata": {
        "id": "vdO7n32IfHMP"
      }
    },
    {
      "cell_type": "markdown",
      "source": [
        "To show this, we turn to the definition and use periodic property\n",
        "\n",
        "$$\\begin{align*}\n",
        "F(\\tau_pf) & =\\sum_{n=0}^{N-1}\\tau_p f[n] \\omega^{-n} \\\\\n",
        "& =\\sum_{n=0}^{N-1}f[n-p] \\omega^{-n} \\\\\n",
        "& k=n-p \\\\\n",
        "&=\\sum_{k=-p}^{N-1-p}f[k] \\omega^{-(k+p)} \\\\\n",
        "&=\\omega^{-p}\\sum_{k=-p}^{N-1-p}f[k] \\omega^{-k} \\\\\n",
        "&=\\omega^{-p}Ff \\\\\n",
        "\\end{align*}$$"
      ],
      "metadata": {
        "id": "AjoD_x_U8XKD"
      }
    },
    {
      "cell_type": "markdown",
      "source": [
        "This property directly leads to Fourier transform of shifted `delta function` earlier\n",
        "\n",
        "$F\\delta_p[m]=F(\\tau_p\\delta_0)[m]=\\omega^{-p}(F\\delta_0)[m]=\\omega^{-pm}$"
      ],
      "metadata": {
        "id": "EgLukyfWfXhq"
      }
    },
    {
      "cell_type": "code",
      "execution_count": null,
      "metadata": {
        "id": "tXOxl43V-mKU"
      },
      "outputs": [],
      "source": []
    }
  ]
}