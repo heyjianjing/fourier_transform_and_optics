{
  "nbformat": 4,
  "nbformat_minor": 0,
  "metadata": {
    "colab": {
      "provenance": []
    },
    "kernelspec": {
      "name": "python3",
      "display_name": "Python 3"
    },
    "language_info": {
      "name": "python"
    }
  },
  "cells": [
    {
      "cell_type": "markdown",
      "source": [
        "#### `Discrete` LTI system"
      ],
      "metadata": {
        "id": "Dal9h0CjeuPD"
      }
    },
    {
      "cell_type": "markdown",
      "source": [
        "For vectors $w$ and $v$, a linear system $w=Av$ is LTI `if and only if`\n",
        "\n",
        "$$w=h*v$$\n",
        "\n",
        "where\n",
        "\n",
        "$$L\\delta_m[n]=(h*\\delta_m)[n]=h[n-m]$$"
      ],
      "metadata": {
        "id": "j-Ksdmx7eyCi"
      }
    },
    {
      "cell_type": "markdown",
      "source": [
        "##### An example"
      ],
      "metadata": {
        "id": "-GiRMKPCfurZ"
      }
    },
    {
      "cell_type": "markdown",
      "source": [
        "Let $h=(1,2,3,4)$, if\n",
        "\n",
        "$$w=Av=h*v$$\n",
        "\n",
        "then, what is $A$?"
      ],
      "metadata": {
        "id": "ASxMziB3fyIW"
      }
    },
    {
      "cell_type": "markdown",
      "source": [
        "The 1st column of $A$ is given by\n",
        "\n",
        "$$A\\delta_0,\\, \\delta_0=(1,0,0,0)$$\n",
        "\n",
        "The 2nd column of $A$ is given by\n",
        "\n",
        "$$A\\delta_1,\\, \\delta_1=(0,1,0,0)$$\n",
        "\n",
        "and so on..."
      ],
      "metadata": {
        "id": "5-4VCoDTgHTT"
      }
    },
    {
      "cell_type": "markdown",
      "source": [
        "We compute these by `convolution`\n",
        "\n",
        "$$\\begin{align}\n",
        "A\\delta_0=h*\\delta_0=h\n",
        "\\end{align}$$"
      ],
      "metadata": {
        "id": "ljNetQgCgw9h"
      }
    },
    {
      "cell_type": "markdown",
      "source": [
        "$$\\begin{align}\n",
        "A\\delta_1=h*\\delta_1=\\tau_1h\n",
        "\\end{align}$$\n",
        "\n",
        "or\n",
        "\n",
        "$$(h*\\delta_1)[m]=h[m-1]$$"
      ],
      "metadata": {
        "id": "_LpehHKvhKWk"
      }
    },
    {
      "cell_type": "markdown",
      "source": [
        "This goes on for 3rd and 4th column, we get\n",
        "\n",
        "$$A=\\begin{bmatrix}1&4&3&2\\\\2&1&4&3\\\\3&2&1&4\\\\4&3&2&1\\end{bmatrix}$$"
      ],
      "metadata": {
        "id": "cMePrG7Th_Da"
      }
    },
    {
      "cell_type": "markdown",
      "source": [
        "#### Complex exponentials are `eigenvectors` of discrete LTI system"
      ],
      "metadata": {
        "id": "fUxUm-HYq9nN"
      }
    },
    {
      "cell_type": "markdown",
      "source": [
        "$$w=Lv=h*v$$\n",
        "\n",
        "Let $v=\\omega^k$, and take DFT on both sides\n",
        "\n",
        "$$\\begin{align}\n",
        "Fw[m]&=Fh[m]F\\omega^k[m] \\\\\n",
        "& m=k \\,\\text{term survives} \\\\\n",
        "&=H[k]N\\delta_k\n",
        "\\end{align}$$"
      ],
      "metadata": {
        "id": "RDCAnFcgrIGn"
      }
    },
    {
      "cell_type": "markdown",
      "source": [
        "Then, take iDFT and we get ($F^{-1}\\delta_k=\\frac{1}{N}\\left(1,\\omega^{k \\cdot 1},\\omega^{k\\cdot 2},\\cdots,\\omega^{k \\cdot (N-1)}\\right)$)\n",
        "\n",
        "$$w=H[k]\\omega^k$$\n",
        "\n",
        "and we are done"
      ],
      "metadata": {
        "id": "o5M_RvETr69d"
      }
    }
  ]
}