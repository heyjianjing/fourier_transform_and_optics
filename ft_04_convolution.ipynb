{
  "nbformat": 4,
  "nbformat_minor": 0,
  "metadata": {
    "colab": {
      "provenance": []
    },
    "kernelspec": {
      "name": "python3",
      "display_name": "Python 3"
    },
    "language_info": {
      "name": "python"
    }
  },
  "cells": [
    {
      "cell_type": "markdown",
      "source": [
        "#### (inverse) Fourier transform"
      ],
      "metadata": {
        "id": "IV1ymdEa-4U7"
      }
    },
    {
      "cell_type": "markdown",
      "source": [
        "Fourier transform of $f(t)$, evaluted at $s$\n",
        "\n",
        "$$Ff(s)=\\int_{-\\infty}^{\\infty}e^{-2\\pi ist}f(t) dt$$\n",
        "\n",
        "Inverse Fourier transform of $Ff(s)$, evaluted at $t$\n",
        "\n",
        "$$f(t)=\\int_{-\\infty}^{\\infty}e^{2\\pi ist}Ff(s) ds$$"
      ],
      "metadata": {
        "id": "JrR7URwoPHha"
      }
    },
    {
      "cell_type": "markdown",
      "source": [
        "For Fourier transform, it is straightforward to see it is linear operation\n",
        "\n",
        "$$F(f+g)=Ff+Fg$$\n",
        "\n",
        "But, what is $(Fg)(Ff)$?"
      ],
      "metadata": {
        "id": "aBPe3wsnVjz3"
      }
    },
    {
      "cell_type": "markdown",
      "source": [
        "#### `Convolution`"
      ],
      "metadata": {
        "id": "WxOZR_7uQFBx"
      }
    },
    {
      "cell_type": "markdown",
      "source": [
        "$$\\begin{align*}\n",
        "Fg(s)\\cdot Ff(s) &= \\int e^{-2\\pi i st} g(t) dt \\int e^{-2\\pi i sx} f(x) \\, dx\\\\\n",
        "&=\\iint e^{-2\\pi i st} e^{-2\\pi i sx} g(t)  f(x)\\, dtdx\\\\\n",
        "&=\\iint e^{-2\\pi i s(t+x)} g(t)  f(x)\\, dtdx \\\\\n",
        "&=\\int \\left(\\int e^{-2\\pi i s(t+x)} g(t) \\,dt \\right)\\, f(x)\\, dx \\\\\n",
        "& \\text{let }\\, u=t+x, du=dt, t=u-x \\\\\n",
        "&=\\int \\left(\\int e^{-2\\pi i su} g(u-x) \\,du \\right)\\, f(x)\\, dx \\\\\n",
        "&=\\int \\left(\\int  g(u-x) f(x)\\,\\,dx \\right)\\,  e^{-2\\pi i su} du \\\\\n",
        "& \\text{define}\\, h(u)= \\int  g(u-x) f(x)\\,\\,dx\\\\\n",
        "&=\\int  e^{-2\\pi i su} h(u) \\, du\\\\\n",
        "&=Fh(s)\n",
        "\\end{align*}$$"
      ],
      "metadata": {
        "id": "8IAeeNtQV9am"
      }
    },
    {
      "cell_type": "markdown",
      "source": [
        "Define $$(g*f)(u)=h(u)= \\int  g(u-x) f(x)\\,\\,dx$$ as `convolution`\n",
        "\n",
        "We have\n",
        "\n",
        "$$F(g*f)=(Fg)(Ff)$$\n",
        "\n",
        "or\n",
        "\n",
        "$$\\boxed{\\begin{align*}\n",
        "f(t) &\\leftrightharpoons F(s) \\\\\n",
        "g(t) &\\leftrightharpoons G(s) \\\\\n",
        "(g*f)(t) &\\leftrightharpoons G(s)F(s)\n",
        "\\end{align*}}$$\n",
        "\n",
        "That is, `convolution` in $t$ is `multiplication` in $s$"
      ],
      "metadata": {
        "id": "jfDY1xmRYTS3"
      }
    },
    {
      "cell_type": "markdown",
      "source": [
        "#### Convolution is `commutative`"
      ],
      "metadata": {
        "id": "sreApLVbVSJO"
      }
    },
    {
      "cell_type": "markdown",
      "source": [
        "$$\\begin{align*}\n",
        "(g*f)(u)&=\\int_{-\\infty}^{\\infty} g(u-x) f(x)\\,\\,dx \\\\\n",
        "& y=u-x\\\\\n",
        "&=-\\int_{\\infty}^{-\\infty}   f(u-y)g(y)\\,\\,dy \\\\\n",
        "&=\\int_{-\\infty}^{\\infty}   f(u-y)g(y)\\,\\,dy \\\\\n",
        "&=(f*g)(u)\n",
        "\\end{align*}$$"
      ],
      "metadata": {
        "id": "rjNmiaNHVU21"
      }
    },
    {
      "cell_type": "code",
      "execution_count": null,
      "metadata": {
        "id": "tXOxl43V-mKU"
      },
      "outputs": [],
      "source": []
    }
  ]
}