{
  "nbformat": 4,
  "nbformat_minor": 0,
  "metadata": {
    "colab": {
      "provenance": []
    },
    "kernelspec": {
      "name": "python3",
      "display_name": "Python 3"
    },
    "language_info": {
      "name": "python"
    }
  },
  "cells": [
    {
      "cell_type": "markdown",
      "source": [
        "#### Setup"
      ],
      "metadata": {
        "id": "IV1ymdEa-4U7"
      }
    },
    {
      "cell_type": "markdown",
      "source": [
        "Fourier series to Fourier transform extends analysis from periodic function to `non-periodic` function\n",
        "\n",
        "If $f(t)$ has period $T$, then we want $T \\rightarrow \\infty$"
      ],
      "metadata": {
        "id": "rPFsRgkjKIXF"
      }
    },
    {
      "cell_type": "markdown",
      "source": [
        "With period $T$, we use orthonormal basis $e^{2\\pi i \\left(\\frac{k}{T}\\right)t}$\n",
        "\n",
        "To see where this comes from, we let $$g(t)=f(Tt)$$\n",
        "\n",
        "then $g(t)$ has `period 1`\n",
        "\n",
        "And we have Fourier series\n",
        "\n",
        "$$g(t)=\\sum_{k=-\\infty}^{\\infty}c_ke^{2\\pi i kt}$$\n",
        "\n",
        "write $a=Tt$, such that $g(t)=f(a)$, then\n",
        "\n",
        "$$f(a)=g(t)=\\sum_{k=-\\infty}^{\\infty}c_ke^{2\\pi i kt}=\\sum_{k=-\\infty}^{\\infty}c_k \\boxed{e^{2\\pi i \\left(\\frac{k}{T}\\right)a}}$$"
      ],
      "metadata": {
        "id": "kPgBaOK6IyBU"
      }
    },
    {
      "cell_type": "markdown",
      "source": [
        "We can still use variable $t$ and write\n",
        "\n",
        "$$f(t)=\\sum_{k=-\\infty}^{\\infty}c_ke^{2\\pi i \\left(\\frac{k}{T}\\right)t}$$"
      ],
      "metadata": {
        "id": "r34SIq3TNiZo"
      }
    },
    {
      "cell_type": "markdown",
      "source": [
        "So, what is $c_k$ in this case?\n",
        "\n",
        "Recall for $g(t)$, we have\n",
        "\n",
        "$$c_k=\\int_0^1e^{-2\\pi ikt}g(t) \\,dt$$\n",
        "\n",
        "We again use $a=Tt, g(t)=f(a)$ to get\n",
        "\n",
        "$$c_k=\\frac{1}{T}\\int_0^Te^{-2\\pi i \\left(\\frac{k}{T}\\right)a}f(a) \\,da$$\n",
        "\n",
        "And we can integrate over any interval of length $T$ and use variable $t$ instead of $a$\n",
        "\n",
        "$$\\boxed{c_k=\\frac{1}{T}\\int_{-\\frac{T}{2}}^{\\frac{T}{2}}e^{-2\\pi i \\left(\\frac{k}{T}\\right)t}f(t)\\, dt}$$"
      ],
      "metadata": {
        "id": "hZHwJRHjKZZr"
      }
    },
    {
      "cell_type": "markdown",
      "source": [
        "#### What `does not work`"
      ],
      "metadata": {
        "id": "jnGnJMC_NgIE"
      }
    },
    {
      "cell_type": "markdown",
      "source": [
        "For `non-periodic` function over $[a, b]$, if we choose $T$ large enough to cover this range, we get\n",
        "\n",
        "$$c_k=\\frac{1}{T}\\int_{a}^{b}e^{-2\\pi i \\left(\\frac{k}{T}\\right)t}f(t) dt$$\n",
        "\n",
        "We can estimate\n",
        "\n",
        "$$\\begin{align}|c_k|&=\\frac{1}{T}\\left|\\int_{a}^{b}e^{-2\\pi i \\left(\\frac{k}{T}\\right)t}f(t) dt\\right|\\\\\n",
        "&\\leq \\frac{1}{T}\\int_{a}^{b}\\left|e^{-2\\pi i \\left(\\frac{k}{T}\\right)t}\\right| \\, \\left|f(t)\\right| dt \\\\\n",
        "&=\\frac{1}{T}\\int_{a}^{b}\\left|f(t)\\right| dt\n",
        "\\end{align}$$\n",
        "\n",
        "Apparently, as $T\\rightarrow \\infty$, $|c_k|$ goes to zero\n",
        "\n",
        "So naively increasing $T$ does not work"
      ],
      "metadata": {
        "id": "pxdm_j9BLV95"
      }
    },
    {
      "cell_type": "markdown",
      "source": [
        "#### What `works`"
      ],
      "metadata": {
        "id": "bAmlkvGUNhy_"
      }
    },
    {
      "cell_type": "markdown",
      "source": [
        "Define\n",
        "\n",
        "$$Ff\\left(\\frac{k}{T}\\right)=\\int_{-\\frac{T}{2}}^{\\frac{T}{2}}e^{-2\\pi i \\left(\\frac{k}{T}\\right)t}f(t) dt$$\n",
        "\n",
        "Then\n",
        "\n",
        "$$\\begin{align}\n",
        "f(t)&=\\sum_{k=-\\infty}^{\\infty}\\color{cyan}{c_k}e^{2\\pi i \\left(\\frac{k}{T}\\right)t} \\\\\n",
        "&=\\sum_{k=-\\infty}^{\\infty}\\color{cyan}{Ff\\left(\\frac{k}{T}\\right)}e^{2\\pi i \\left(\\frac{k}{T}\\right)t}\\color{cyan}{\\frac{1}{T}}\n",
        "\\end{align}$$"
      ],
      "metadata": {
        "id": "_y7b9fPpOTXi"
      }
    },
    {
      "cell_type": "markdown",
      "source": [
        "Now, as we let $T\\rightarrow \\infty$, $\\frac{k}{T}$ becomes `continuous variable` $s$\n",
        "\n",
        "Therefore, we have\n",
        "\n",
        "$$Ff(s)=\\int_{-\\infty}^{\\infty}e^{-2\\pi ist}f(t) \\,dt$$\n",
        "\n",
        "and $f(t)$ becomes `integral`\n",
        "\n",
        "$$f(t)=\\int_{-\\infty}^{\\infty}e^{2\\pi ist}Ff(s) \\,ds$$"
      ],
      "metadata": {
        "id": "JrR7URwoPHha"
      }
    },
    {
      "cell_type": "markdown",
      "source": [
        "#### What are the `variables`?"
      ],
      "metadata": {
        "id": "WxOZR_7uQFBx"
      }
    },
    {
      "cell_type": "markdown",
      "source": [
        "* $Ff(s)$ is `Fourier transform` of $f$, `evaluted` at $\\color{cyan}{s}$\n",
        "* $f(t)$ is `inverse Fourier transform` of $Ff$, `evaluted` at $\\color{yellow}{t}$"
      ],
      "metadata": {
        "id": "L4TviKB2QJdD"
      }
    },
    {
      "cell_type": "code",
      "execution_count": null,
      "metadata": {
        "id": "tXOxl43V-mKU"
      },
      "outputs": [],
      "source": []
    }
  ]
}