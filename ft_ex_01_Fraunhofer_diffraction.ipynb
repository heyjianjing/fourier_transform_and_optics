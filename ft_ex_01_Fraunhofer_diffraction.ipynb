{
  "nbformat": 4,
  "nbformat_minor": 0,
  "metadata": {
    "colab": {
      "provenance": []
    },
    "kernelspec": {
      "name": "python3",
      "display_name": "Python 3"
    },
    "language_info": {
      "name": "python"
    }
  },
  "cells": [
    {
      "cell_type": "markdown",
      "source": [
        "#### Fraunhofer diffraction"
      ],
      "metadata": {
        "id": "dnMMC7e-rPS9"
      }
    },
    {
      "cell_type": "code",
      "source": [
        "import matplotlib.pyplot as plt\n",
        "from matplotlib.patches import Circle, Arc\n",
        "\n",
        "import numpy as np\n",
        "\n",
        "plt.style.use('dark_background')"
      ],
      "metadata": {
        "id": "FxzyEoq_E1mY"
      },
      "execution_count": null,
      "outputs": []
    },
    {
      "cell_type": "code",
      "source": [
        "fig, ax = plt.subplots(figsize=(8, 4))\n",
        "\n",
        "ax.plot([0, 0], [3,5], 'w', linewidth=2, zorder=0)\n",
        "ax.plot([0, 0], [-0.5,1], 'w', linewidth=2, zorder=0)\n",
        "ax.plot([0, 0], [-0.5,-5], 'w', linewidth=2, zorder=0)\n",
        "\n",
        "ax.plot([8, 8], [-5,5], 'w', linewidth=2, zorder=0)\n",
        "\n",
        "ax.plot([0, 0.5], [2.25,2.25], 'w-', linewidth=1, zorder=0)\n",
        "ax.plot([0, 0.5], [1.75,1.75], 'w-', linewidth=1, zorder=0)\n",
        "\n",
        "source = Circle((-8,0), 0.1, edgecolor='none', facecolor='skyblue', zorder=-5)\n",
        "ax.add_patch(source)\n",
        "\n",
        "for i in [7,10]:\n",
        "    wave = Arc((-10,0), i,i, theta1=-15, theta2=15,  zorder=-5, color='c')\n",
        "    ax.add_patch(wave)\n",
        "\n",
        "wave = Arc((-32,0), 60,60, theta1=-7, theta2=7,  zorder=-5, color='c')\n",
        "ax.add_patch(wave)\n",
        "\n",
        "ax.text(-3, 0, '...', horizontalalignment='center',fontsize=14, color='c')\n",
        "ax.text(-8, 1, 'light \\nsource', horizontalalignment='center',fontsize=14, color='c')\n",
        "ax.text(-2.5, 0.-5, 'aperture plane', horizontalalignment='center',fontsize=14)\n",
        "ax.text(5.5, -5, 'image plane', horizontalalignment='center',fontsize=14)\n",
        "\n",
        "p = Circle((8,3.5), 0.1, facecolor='red', zorder=5)\n",
        "ax.add_patch(p)\n",
        "ax.text(8.5, 3.5, 'p', horizontalalignment='center',fontsize=14, color='r')\n",
        "\n",
        "origin = Circle((0, 0), 0.1, facecolor='m', zorder=5)\n",
        "ax.add_patch(origin)\n",
        "ax.text(-0.5, 0, '0', verticalalignment='center',fontsize=14, color='m')\n",
        "\n",
        "origin = Circle((0, 2), 0.1, facecolor='m', zorder=5)\n",
        "ax.add_patch(origin)\n",
        "ax.text(-0.5, 2, r'$x$', verticalalignment='center',fontsize=14, color='m')\n",
        "ax.text(0.7, 2, r'$dx$', verticalalignment='center',fontsize=14, color='w')\n",
        "\n",
        "ax.plot([0, 8], [2,3.5], 'm', linewidth=2, zorder=0)\n",
        "ax.text(4, 3.2, r'$r$', verticalalignment='center',fontsize=14, color='m')\n",
        "\n",
        "ax.plot([0, 8], [0,3.5], 'm--', linewidth=2, zorder=0)\n",
        "ax.text(4, 1.2, r'$r_0$', verticalalignment='center',fontsize=14, color='m')\n",
        "\n",
        "ax.plot([0, 8], [0, 0], 'm--', linewidth=2, zorder=0)\n",
        "ax.text(1.5, 0.3, r'$\\theta$', verticalalignment='center',fontsize=14, color='m')\n",
        "\n",
        "theta = Arc((0,0), 2.5,2.5, theta1=0, theta2=26,  zorder=-5, color='m')\n",
        "ax.add_patch(theta)\n",
        "\n",
        "# ax.arrow(2-0.5*2/3, 1-0.5/3, 0.002, 0.001, head_width=0.3, head_length=0.5, color='r')\n",
        "\n",
        "ax.set_xlim(-10, 10)\n",
        "ax.set_ylim(-5, 5)\n",
        "ax.set_aspect('equal')\n",
        "\n",
        "ax.axis(\"off\")\n",
        "plt.tight_layout()\n",
        "\n",
        "plt.show()"
      ],
      "metadata": {
        "colab": {
          "base_uri": "https://localhost:8080/",
          "height": 407
        },
        "id": "GFLmBIgB602T",
        "outputId": "b0b53e94-b2ec-4f11-d2d0-d1f4a21b1b90"
      },
      "execution_count": null,
      "outputs": [
        {
          "output_type": "display_data",
          "data": {
            "text/plain": [
              "<Figure size 800x400 with 1 Axes>"
            ],
            "image/png": "[encoded data removed]"
          },
          "metadata": {}
        }
      ]
    },
    {
      "cell_type": "markdown",
      "source": [
        "#### Setup"
      ],
      "metadata": {
        "id": "1xcKDLdEQccx"
      }
    },
    {
      "cell_type": "markdown",
      "source": [
        "* `light source` placed far from aperture plane, spherical wave arriving at aperture plane with `same phase` (e.g., aperture plane approximated as wavefront)\n",
        "* represent light at `aperture` plane as ($E_0$ as `strength` of field, and $\\nu$ as `frequency`)\n",
        "\n",
        "$$E_0e^{2\\pi i \\nu t}$$\n",
        "\n",
        "* field at $dx$ is\n",
        "\n",
        "$$E_0e^{2\\pi i \\nu t}\\,dx$$\n",
        "\n",
        "* we want to know what is the `field at point` $p$ on image plane, after light passes through slits and arriving at $p$ `via different paths`\n",
        "* Huygens principle: each point on the wavefront can itself be considered as a new point source"
      ],
      "metadata": {
        "id": "yRKp25GrQeYw"
      }
    },
    {
      "cell_type": "markdown",
      "source": [
        "#### What `happens` when the light reaches image plane?"
      ],
      "metadata": {
        "id": "vJiPL6xZZY9V"
      }
    },
    {
      "cell_type": "markdown",
      "source": [
        "Main effect is change in `phase`\n",
        "\n",
        "If travelling distance is $r$, then the wave goes through $\\frac{r}{\\lambda}$ cycles. So the `phase change` is\n",
        "\n",
        "$$e^{2\\pi\\frac{r}{\\lambda}}$$"
      ],
      "metadata": {
        "id": "QAAlE2bdZeKz"
      }
    },
    {
      "cell_type": "markdown",
      "source": [
        "Therefore, the field at $p$ due to field at $x$ is\n",
        "\n",
        "$$\\boxed{dE=E_0e^{2\\pi i \\nu t}e^{2\\pi i\\frac{r}{\\lambda}}\\,dx}$$"
      ],
      "metadata": {
        "id": "HBOUXZoBaXIc"
      }
    },
    {
      "cell_type": "markdown",
      "source": [
        "#### `Total` field"
      ],
      "metadata": {
        "id": "HMqnSWAua-qz"
      }
    },
    {
      "cell_type": "markdown",
      "source": [
        "$$\\begin{align*}\n",
        "E&=\\int_{\\text{aperture}}E_0e^{2\\pi i \\nu t}e^{2\\pi i\\frac{r}{\\lambda}}\\,dx \\\\\n",
        "&=C\\cdot \\int_{\\text{aperture}}e^{2\\pi i\\frac{r}{\\lambda}}\\,dx\n",
        "\\end{align*}$$"
      ],
      "metadata": {
        "id": "QbZwVZBDbBAM"
      }
    },
    {
      "cell_type": "markdown",
      "source": [
        "#### `Fraunhofer` approximation"
      ],
      "metadata": {
        "id": "UWDT16a2b5hb"
      }
    },
    {
      "cell_type": "markdown",
      "source": [
        "When\n",
        "\n",
        "$$r\\gg x $$\n",
        "\n",
        "then, we approximate\n",
        "\n",
        "$$r=r_0-x\\sin \\theta$$"
      ],
      "metadata": {
        "id": "afOk33G1cy3j"
      }
    },
    {
      "cell_type": "markdown",
      "source": [
        "Let $A(x)$ is the aperture function\n",
        "\n",
        "$$A(x) = \\left\\{\\begin{array}{cl}1 & \\text{aperture area} \\\\0 & \\text{otherwise} \\end{array}\\right.$$"
      ],
      "metadata": {
        "id": "V9Ag1VqP0kXE"
      }
    },
    {
      "cell_type": "markdown",
      "source": [
        "Plug these into integral"
      ],
      "metadata": {
        "id": "fLdc_UKDdScf"
      }
    },
    {
      "cell_type": "markdown",
      "source": [
        "$$\\begin{align*}\n",
        "E&=C\\cdot \\int A(x)e^{2\\pi i\\frac{r_0-x\\sin \\theta}{\\lambda}}\\,dx \\\\\n",
        "&=C\\cdot e^{2\\pi i\\frac{r_0}{\\lambda}}\\cdot\\int A(x)e^{-2\\pi i x\\frac{\\sin \\theta}{\\lambda}}\\,dx \\\\\n",
        "&=C' \\cdot\\int A(x)e^{-2\\pi i x\\frac{\\sin \\theta}{\\lambda}}\\,dx \\\\\n",
        "&=C' \\cdot FA(\\frac{\\sin \\theta}{\\lambda}) \\\\\n",
        "& p=\\frac{\\sin \\theta}{\\lambda} \\\\\n",
        "& \\propto FA(p)\n",
        "\\end{align*}$$"
      ],
      "metadata": {
        "id": "Ur1ElZZSdUrk"
      }
    },
    {
      "cell_type": "markdown",
      "source": [
        "Therefore, far-field diffraction intensity pattern is given by magnitude of Fourier transform of `aperture function`"
      ],
      "metadata": {
        "id": "yH7UtUEs1Q4S"
      }
    },
    {
      "cell_type": "markdown",
      "source": [
        "#### `Single slit`"
      ],
      "metadata": {
        "id": "gmHdXOFd2CGV"
      }
    },
    {
      "cell_type": "markdown",
      "source": [
        "A slit with `width` a is given by $\\text{II}_a(x)$\n",
        "\n",
        "Intensity pattern on image plane is\n",
        "\n",
        "$$F\\text{II}_a(p)=a\\text{sinc}\\left(\\frac{a\\sin \\theta}{\\lambda}\\right)$$"
      ],
      "metadata": {
        "id": "2Xu1-FP42E1f"
      }
    },
    {
      "cell_type": "markdown",
      "source": [
        "#### `Point source`"
      ],
      "metadata": {
        "id": "oCxRC0K06AM-"
      }
    },
    {
      "cell_type": "markdown",
      "source": [
        "$$A(x)=\\delta(x)$$\n",
        "\n",
        "We know\n",
        "\n",
        "$$|F\\delta|^2 =1$$\n",
        "\n",
        "as expected, we will see constant illumination"
      ],
      "metadata": {
        "id": "ibRcyHEn3GfQ"
      }
    },
    {
      "cell_type": "markdown",
      "source": [
        "#### `Double slits`"
      ],
      "metadata": {
        "id": "C4Wf81HA3zOp"
      }
    },
    {
      "cell_type": "markdown",
      "source": [
        "$$A(x)=\\text{II}_a\\left(x-\\frac{b}{2}\\right)+\\text{II}_a\\left(x+\\frac{b}{2}\\right)$$\n",
        "\n",
        "$$FA(p)=2a\\cos\\left(\\frac{\\pi b \\sin \\theta}{\\lambda}\\right)\\text{sinc}\\left(\\frac{a\\sin \\theta}{\\lambda}\\right)$$"
      ],
      "metadata": {
        "id": "70vabGq931qt"
      }
    },
    {
      "cell_type": "markdown",
      "source": [
        "#### `Two` point sources"
      ],
      "metadata": {
        "id": "7S5lN_o55xsK"
      }
    },
    {
      "cell_type": "markdown",
      "source": [
        "$$A(x)=\\delta\\left(x-\\frac{b}{2}\\right)+\\delta\\left(x+\\frac{b}{2}\\right)$$\n",
        "\n",
        "$$FA(p)=2\\cos\\left(\\frac{\\pi b\\sin \\theta}{\\lambda}\\right)$$"
      ],
      "metadata": {
        "id": "bMPFSizE51F9"
      }
    },
    {
      "cell_type": "code",
      "source": [],
      "metadata": {
        "id": "GaMFAP-X50S5"
      },
      "execution_count": null,
      "outputs": []
    }
  ]
}