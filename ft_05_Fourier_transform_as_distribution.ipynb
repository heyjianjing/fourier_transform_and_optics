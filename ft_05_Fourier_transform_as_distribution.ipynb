{
  "nbformat": 4,
  "nbformat_minor": 0,
  "metadata": {
    "colab": {
      "provenance": []
    },
    "kernelspec": {
      "name": "python3",
      "display_name": "Python 3"
    },
    "language_info": {
      "name": "python"
    }
  },
  "cells": [
    {
      "cell_type": "markdown",
      "source": [
        "#### `Problem` with `classic` Fourier transform definition"
      ],
      "metadata": {
        "id": "IV1ymdEa-4U7"
      }
    },
    {
      "cell_type": "markdown",
      "source": [
        "Classic definition of Fourier transform does not work most of the time\n",
        "\n",
        "For example, $f(t)=1$\n",
        "\n",
        "$$Ff=\\int e^{-2\\pi i s t}\\cdot 1\\, dt$$\n",
        "\n",
        "just `does not make any sense`\n",
        "\n",
        "We need new formulation, so how is it solved?"
      ],
      "metadata": {
        "id": "kPIPPp7QtGFA"
      }
    },
    {
      "cell_type": "markdown",
      "source": [
        "#### `Rapidly decreasing` functions"
      ],
      "metadata": {
        "id": "Vm9XVej21OCL"
      }
    },
    {
      "cell_type": "markdown",
      "source": [
        "First, identify the `best functions`: a class of functions $S$ for which everything we want of Fourier transform just works. Specifically, we want\n",
        "* its Fourier transform can be classically computed through integral and is also in $S$\n",
        "* same for inverse Fourier transform"
      ],
      "metadata": {
        "id": "JrR7URwoPHha"
      }
    },
    {
      "cell_type": "markdown",
      "source": [
        "$S$: class of `rapidly decreasing functions`\n",
        "* `infinitely` differentiable (so no square function or triangle function)\n",
        "* any derivative of $\\varphi(x)$ goes to zero faster than any power of $x$, independently\n",
        "\n",
        "$$|x|^n\\left|\\frac{d^m}{dx^m}\\varphi(x)\\right|\\rightarrow 0\\,\\, \\text{as} \\,\\,x \\rightarrow \\infty$$\n",
        "\n",
        "* one of such functions is Gaussian $\\varphi(x)=e^{-\\pi x^2}\\in S$\n",
        "* for these functions, $F\\varphi\\in S$, $F^{-1}F\\varphi=\\varphi$, and $FF^{-1}\\varphi=\\varphi$\n",
        "\n",
        "So, how this class of functions can be `useful`?"
      ],
      "metadata": {
        "id": "J6AvUdha1oUC"
      }
    },
    {
      "cell_type": "markdown",
      "source": [
        "#### Generalized functions or `distributions`"
      ],
      "metadata": {
        "id": "Nwk1mt471EAq"
      }
    },
    {
      "cell_type": "markdown",
      "source": [
        "Prime examples are functions like `Dirac delta function` $\\delta$\n",
        "\n",
        "One `limiting process` example for $\\delta$ is\n",
        "\n",
        "$$\\lim_{\\epsilon \\rightarrow 0}\\frac{1}{\\epsilon}\\pi_{\\epsilon}(x)$$\n",
        "\n",
        "To make sense of it, we need to concentrate on `operational outcome` when paired with another function, rather than the `limiting process`, and turn this into a `definition`"
      ],
      "metadata": {
        "id": "MwmZ1MhG1G7d"
      }
    },
    {
      "cell_type": "markdown",
      "source": [
        "`Definition` of distributions\n",
        "\n",
        "* start with class of test functions $\\varphi$, which includes the `best` functions for the `properties` that we worry about. For Fourier transform, it is the `rapidly decreasing functions`\n",
        "* associated with these `test functions` is a class of `distributions` $T$\n",
        "* $T$ is a `linear operator` on test functions to produce a `number` $\\langle T, \\varphi \\rangle$\n",
        "* `continuity` property, if a `sequence` of test functions $\\varphi_n \\rightarrow \\varphi \\Longrightarrow \\langle T, \\varphi_n \\rangle \\rightarrow \\langle T, \\varphi \\rangle$"
      ],
      "metadata": {
        "id": "_am6EDMR4jtN"
      }
    },
    {
      "cell_type": "markdown",
      "source": [
        "#### Now, back to `delta function`"
      ],
      "metadata": {
        "id": "v-FMhlgzpKPt"
      }
    },
    {
      "cell_type": "markdown",
      "source": [
        "`Define` delta function $\\delta$ through\n",
        "\n",
        "$$\\boxed{\\langle \\delta, \\varphi \\rangle=\\varphi(0)}$$\n",
        "\n",
        "and shifted delta function $\\delta_a$ through\n",
        "\n",
        "$$\\boxed{\\langle \\delta_a, \\varphi \\rangle=\\varphi(a)}$$\n",
        "\n",
        "These definition focus on the `operational outcome` when they act on test function $\\varphi$"
      ],
      "metadata": {
        "id": "YkhsKj2rpN4_"
      }
    },
    {
      "cell_type": "markdown",
      "source": [
        "#### How to consider `ordinary functions` in this context?"
      ],
      "metadata": {
        "id": "WuHzcDIf9y8W"
      }
    },
    {
      "cell_type": "markdown",
      "source": [
        "For example, how to consider constant function as a `distribution`?\n",
        "\n",
        "Well, we need to define how this distribution can be `paired` with a test function to produce a number"
      ],
      "metadata": {
        "id": "sORgbZNb93Mr"
      }
    },
    {
      "cell_type": "markdown",
      "source": [
        "Pairing is `defined` by `integration`\n",
        "\n",
        "$$\\langle 1, \\varphi \\rangle = \\int 1 \\cdot\\varphi(x) \\,dx$$\n",
        "\n",
        "Why this works? Because $\\varphi$ is the best function containing all properties we need, so the integral will converge"
      ],
      "metadata": {
        "id": "R03oX9CtpwxI"
      }
    },
    {
      "cell_type": "markdown",
      "source": [
        "Likewise, we now can `define` other functions we want to analyze as `distributions`. For example\n",
        "\n",
        "$$\\langle \\sin 2\\pi x, \\varphi \\rangle=\\int \\sin 2\\pi x \\,\\varphi(x) \\, dx$$\n",
        "\n",
        "and more generally\n",
        "\n",
        "$$\\langle f(x), \\varphi \\rangle=\\int f(x) \\,\\varphi(x) \\, dx$$\n",
        "\n",
        "The `nicer` the $\\varphi$ is, the `more complex and wild` a function can be to be considered as distribution\n",
        "\n",
        "If $f(x)$ is `Fourier transform` of some function, then $S$ is just the right class of test functions $\\varphi$"
      ],
      "metadata": {
        "id": "tMZ5Ushw_Ngb"
      }
    },
    {
      "cell_type": "markdown",
      "source": [
        "#### `Fourier transform` (of distribution) as distribution"
      ],
      "metadata": {
        "id": "JIpACt0sqDpF"
      }
    },
    {
      "cell_type": "markdown",
      "source": [
        "We first describe how Fourier transform of distribution `operates` on `test function` $\\varphi$\n",
        "\n",
        "$$\\begin{align*}\\langle FT, \\varphi \\rangle&=\\int FT(x)\\varphi(x) \\, dx \\\\\n",
        "&=\\int \\left(\\int e^{-2\\pi i x y} T(y) \\, dy\\right)\\varphi(x) \\, dx \\\\\n",
        "&=\\int \\int e^{-2\\pi i x y} T(y) \\varphi(x)  \\, dydx \\\\\n",
        "&=\\int \\left(\\int e^{-2\\pi i xy}\\varphi(x) \\,dx\\right)T(y)\\, dy \\\\\n",
        "&=\\int F\\varphi(y)T(y) \\, dy \\\\\n",
        "&=\\langle T, F\\varphi \\rangle\n",
        "\\end{align*}$$\n",
        "\n",
        "As $\\varphi\\in S$, so is $F\\varphi\\in S$, and the right hand side makes sense\n",
        "\n",
        "Now, we can define `Fourier transform` of distribution through $\\boxed{\\langle FT, \\varphi \\rangle=\\langle T, F\\varphi \\rangle}$\n",
        "\n",
        "Similarly, we have `inverse Fourier transform` defined through $\\boxed{\\langle F^{-1}T, \\varphi \\rangle=\\langle T, F^{-1}\\varphi \\rangle}$"
      ],
      "metadata": {
        "id": "zdNMtGqxqZqe"
      }
    },
    {
      "cell_type": "markdown",
      "source": [
        "#### With all above, we can `compute` some Fourier transform"
      ],
      "metadata": {
        "id": "uGsZxS-Ksiei"
      }
    },
    {
      "cell_type": "markdown",
      "source": [
        "$$\\begin{align*}\\langle F^{-1}FT, \\varphi \\rangle&=\\langle FT, F^{-1}\\varphi \\rangle \\\\\n",
        "&=\\langle T, FF^{-1}\\varphi \\rangle \\\\\n",
        "&=\\langle T, \\varphi \\rangle\n",
        "\\end{align*}$$\n",
        "\n",
        "Therefore\n",
        "\n",
        "$$\\boxed{F^{-1}FT=T}$$\n",
        "\n",
        "The key is that `everything works` on the test function $\\varphi$"
      ],
      "metadata": {
        "id": "QZQc20VXtisG"
      }
    },
    {
      "cell_type": "markdown",
      "source": [
        "$$\\begin{align*}\\langle F\\delta, \\varphi \\rangle&=\\langle \\delta, F\\varphi \\rangle \\\\\n",
        "&=F\\varphi (0) \\\\\n",
        "&=\\int e^{-2\\pi i 0 x} \\varphi(x) \\, dx \\\\\n",
        "&=\\int 1\\cdot  \\varphi(x) \\, dx \\\\\n",
        "&=\\langle 1, \\varphi \\rangle\n",
        "\\end{align*}$$\n",
        "\n",
        "Therefore\n",
        "\n",
        "$$\\boxed{F\\delta=1}$$"
      ],
      "metadata": {
        "id": "Tmp4iFfQuPgl"
      }
    },
    {
      "cell_type": "markdown",
      "source": [
        "Let $\\delta_a = \\delta(x-a)$\n",
        "\n",
        "$$\\begin{align*}\\langle F\\delta_a, \\varphi \\rangle&=\\langle \\delta_a, F\\varphi \\rangle \\\\\n",
        "&=F\\varphi (a) \\\\\n",
        "&=\\int e^{-2\\pi i a x} \\varphi(x) \\, dx \\\\\n",
        "&=\\langle e^{-2\\pi i a x}, \\varphi \\rangle\n",
        "\\end{align*}$$\n",
        "\n",
        "Therefore (with $x$ as variable)\n",
        "\n",
        "$$\\boxed{F\\delta_a=e^{-2\\pi i a x}}$$"
      ],
      "metadata": {
        "id": "mJTvx6IevhwR"
      }
    },
    {
      "cell_type": "markdown",
      "source": [
        "$$\\begin{align*}\\langle F e^{2\\pi i a x}, \\varphi \\rangle&=\\langle e^{2\\pi i a x}, F\\varphi \\rangle \\\\\n",
        "&= \\int e^{2\\pi i a x}F\\varphi(x) \\, dx \\\\\n",
        "&= F^{-1}F\\varphi(a) \\\\\n",
        "&=\\varphi(a)\\\\\n",
        "&=\\langle \\delta_a, \\varphi \\rangle\n",
        "\\end{align*}$$\n",
        "\n",
        "Therefore\n",
        "\n",
        "$$\\boxed{Fe^{2\\pi i a x} = \\delta_a}$$\n",
        "\n",
        "Let $a=0$, we have\n",
        "\n",
        "$$\\boxed{F1 = \\delta}$$\n"
      ],
      "metadata": {
        "id": "75eclhduv0cL"
      }
    },
    {
      "cell_type": "markdown",
      "source": [
        "$$\\begin{align*}\\langle F \\cos(2\\pi ax), \\varphi \\rangle&=\\langle \\frac{1}{2}\\left(e^{2\\pi i a x}+e^{-2\\pi i a x}\\right), F\\varphi \\rangle \\\\\n",
        "\\end{align*}$$\n",
        "\n",
        "Therefore, through linearity\n",
        "\n",
        "$$\\boxed{F \\cos(2\\pi ax)=\\frac{1}{2}(\\delta_a+\\delta_{-a})}$$"
      ],
      "metadata": {
        "id": "A-910jqWwsoY"
      }
    },
    {
      "cell_type": "markdown",
      "source": [
        "Similarly\n",
        "\n",
        "$$\\boxed{F \\sin(2\\pi ax)=\\frac{1}{2i}(\\delta_a-\\delta_{-a})}$$"
      ],
      "metadata": {
        "id": "XUgafK4uwt6x"
      }
    },
    {
      "cell_type": "markdown",
      "source": [
        "#### `Derivative` of distribution $T$"
      ],
      "metadata": {
        "id": "jsvGu9QyIoR9"
      }
    },
    {
      "cell_type": "markdown",
      "source": [
        "$$\\begin{align*}\n",
        "\\langle T', \\varphi \\rangle & =\\int T'(x)\\varphi(x) \\, dx \\\\\n",
        "&=[T(x)\\varphi(x)]\\Big|_{-\\infty}^{\\infty}-\\int T(x)\\varphi'(x) \\,dx \\\\\n",
        "& \\text{first term goes away as } \\varphi(x) \\text{ is rapidly decreasing function} \\\\\n",
        "&=-\\int T(x)\\varphi'(x) \\,dx\\\\\n",
        "&=-\\langle T, \\varphi' \\rangle\n",
        "\\end{align*}$$\n",
        "\n",
        "So we define `derivative` of distribution through $\\boxed{\\langle T', \\varphi \\rangle=-\\langle T, \\varphi' \\rangle}$"
      ],
      "metadata": {
        "id": "QhvBibuKIrob"
      }
    },
    {
      "cell_type": "markdown",
      "source": [
        "For example, the `step function`, we want to know its `derivative`\n",
        "\n",
        "$$u(x) = \\left\\{\\begin{array}{cl}1 &x>0 \\\\0 &x\\leq0 \\end{array}\\right.$$"
      ],
      "metadata": {
        "id": "GLTCK-41KGzW"
      }
    },
    {
      "cell_type": "markdown",
      "source": [
        "$$\\begin{align*}\n",
        "\\langle u', \\varphi \\rangle &= - \\langle u, \\varphi' \\rangle \\\\\n",
        "&= -\\int u(x) \\varphi'(x)\\, dx \\\\\n",
        "&= -\\int_{0}^{\\infty} \\varphi'(x) \\, dx \\\\\n",
        "&= -\\varphi(x)\\Big|_{0}^{\\infty} \\\\\n",
        "&=\\varphi(0)\\\\\n",
        "&=\\langle \\delta, \\varphi \\rangle\n",
        "\\end{align*}$$\n",
        "\n",
        "Therefore\n",
        "\n",
        "$$\\boxed{u'=\\delta}$$"
      ],
      "metadata": {
        "id": "4uEnfmDhKicg"
      }
    },
    {
      "cell_type": "code",
      "execution_count": null,
      "metadata": {
        "id": "tXOxl43V-mKU"
      },
      "outputs": [],
      "source": []
    }
  ]
}