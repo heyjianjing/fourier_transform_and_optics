{
  "nbformat": 4,
  "nbformat_minor": 0,
  "metadata": {
    "colab": {
      "provenance": []
    },
    "kernelspec": {
      "name": "python3",
      "display_name": "Python 3"
    },
    "language_info": {
      "name": "python"
    }
  },
  "cells": [
    {
      "cell_type": "markdown",
      "source": [
        "#### Recap `properties` of delta function"
      ],
      "metadata": {
        "id": "IV1ymdEa-4U7"
      }
    },
    {
      "cell_type": "markdown",
      "source": [
        "`Sampling` property\n",
        "\n",
        "$$f\\delta = f(0)\\delta$$\n",
        "\n",
        "$$f\\delta_a = f(a)\\delta_a$$"
      ],
      "metadata": {
        "id": "0-cGxk_bvwUa"
      }
    },
    {
      "cell_type": "markdown",
      "source": [
        "`Shifting` property\n",
        "\n",
        "$$f * \\delta =f$$\n",
        "\n",
        "$$(f*\\delta_a)(x) = f(x-a)$$"
      ],
      "metadata": {
        "id": "fAihuzb01gvP"
      }
    },
    {
      "cell_type": "markdown",
      "source": [
        "#### Recap `properties` of $\\text{III}_p$"
      ],
      "metadata": {
        "id": "XgIBXe2Gwxt0"
      }
    },
    {
      "cell_type": "markdown",
      "source": [
        "$$\\text{III}_p(x)=\\sum_{-\\infty}^{\\infty}\\delta(x-kp)$$"
      ],
      "metadata": {
        "id": "u7YEnndUzswX"
      }
    },
    {
      "cell_type": "markdown",
      "source": [
        "`Fourier transform` property\n",
        "\n",
        "$$\\boxed{F\\text{III}_p =F^{-1}\\text{III}_p =\\frac{1}{p}\\text{III}_{\\frac{1}{p}}} $$"
      ],
      "metadata": {
        "id": "l3GOqLlMw4rg"
      }
    },
    {
      "cell_type": "markdown",
      "source": [
        "`Sampling` property, use `sampling` property of $\\delta$, then add together\n",
        "\n",
        "$$\\boxed{f(x)\\,\\text{III}_p(x)=f(x)\\,\\sum_{-\\infty}^{\\infty}\\delta(x-kp)=\\sum_{-\\infty}^{\\infty}f(kp)\\,\\delta(x-kp)}$$"
      ],
      "metadata": {
        "id": "U4R-7nK6xDvl"
      }
    },
    {
      "cell_type": "markdown",
      "source": [
        "`Periodizing` property, use `shifting` property of $\\delta$, then add together\n",
        "\n",
        "$$\\boxed{(f*\\text{III}_p)(s)=\\sum_{-\\infty}^{\\infty}f(s-kp)}$$"
      ],
      "metadata": {
        "id": "Ade5sjQVxhw_"
      }
    },
    {
      "cell_type": "markdown",
      "source": [
        "#### `Sampling theorem` for bandlimited function $f(t)$"
      ],
      "metadata": {
        "id": "LBIGA2tF07Ky"
      }
    },
    {
      "cell_type": "markdown",
      "source": [
        "Goal: `interpolate all values` of a function from a discrete set of `measurements` at `equal` intervals"
      ],
      "metadata": {
        "id": "gN_l65gc1DtX"
      }
    },
    {
      "cell_type": "markdown",
      "source": [
        "When $f(t)$ is a `bandlimited` function, then\n",
        "\n",
        "$$Ff(s)=0 \\, \\text{if}\\,|s|\\geq \\frac{p}{2}$$\n",
        "\n",
        "the smallest $p$ is known as `bandwidth`\n",
        "\n",
        "Interpolation in this case can be `solved exactly`"
      ],
      "metadata": {
        "id": "MmdWz_wB4xUI"
      }
    },
    {
      "cell_type": "markdown",
      "source": [
        "(1) `Periodize` $Ff$ with $\\text{III}_p$ through convolution\n",
        "\n",
        "$$Ff*\\text{III}_p$$"
      ],
      "metadata": {
        "id": "Th3Sx08J54Ti"
      }
    },
    {
      "cell_type": "markdown",
      "source": [
        "(2) Recover original $Ff$ by cutting `periodized` function with a rectangle function $\\text{II}_p$\n",
        "\n",
        "$$\\color{red}{Ff=\\text{II}_p\\left(Ff*\\text{III}_p\\right)}$$"
      ],
      "metadata": {
        "id": "tTpMdS1G6Kah"
      }
    },
    {
      "cell_type": "markdown",
      "source": [
        "(3) Take `inverse Fourier transform` to swap multiplication and convolution\n",
        "\n",
        "$$\\begin{align*}\n",
        "f&=F^{-1}Ff\\\\\n",
        "&=F^{-1}\\left(\\text{II}_p\\left(Ff*\\text{III}_p\\right)\\right) \\\\\n",
        "&=F^{-1}(\\text{II}_p)*F^{-1}\\left(Ff*\\text{III}_p\\right) \\\\\n",
        "&=p \\,\\text{sinc}(pt) * \\left(f(t)\\frac{1}{p}\\text{III}_{\\frac{1}{p}}(t)\\right)\n",
        "\\end{align*}$$"
      ],
      "metadata": {
        "id": "ArNalG4c6jKg"
      }
    },
    {
      "cell_type": "markdown",
      "source": [
        "(4) Use `sampling` property of $\\text{III}_{\\frac{1}{p}}$\n",
        "\n",
        "$$\\begin{align*}\n",
        "f&=p \\,\\text{sinc}(pt) * \\left(f(t)\\frac{1}{p}\\text{III}_{\\frac{1}{p}}(t)\\right) \\\\\n",
        "&=p \\,\\text{sinc}(pt) * \\frac{1}{p} f(t)\\sum_{k=-\\infty}^{\\infty}\\delta\\left(t-\\frac{k}{p}\\right) \\\\\n",
        "&=p \\,\\text{sinc}(pt) * \\frac{1}{p} \\sum_{k=-\\infty}^{\\infty}\\color{orange}{f\\left(\\frac{k}{p}\\right)}\\delta\\left(t-\\frac{k}{p}\\right)\n",
        "\\end{align*}$$\n",
        "\n",
        "where $\\color{orange}{f\\left(\\frac{k}{p}\\right)}$ are discrete `measurements` taken with intervals $\\frac{1}{p}$"
      ],
      "metadata": {
        "id": "8VPh0wRx8PfE"
      }
    },
    {
      "cell_type": "markdown",
      "source": [
        "(5) Use `shifting` property of $\\delta$\n",
        "\n",
        "$$\\begin{align*}\n",
        "f&=\\text{sinc}(pt) * \\sum_{k=-\\infty}^{\\infty}f\\left(\\frac{k}{p}\\right)\\delta\\left(t-\\frac{k}{p}\\right) \\\\\n",
        "&=\\sum_{k=-\\infty}^{\\infty}f\\left(\\frac{k}{p}\\right)\\text{sinc}(pt) * \\delta\\left(t-\\frac{k}{p}\\right) \\\\\n",
        "&=\\boxed{\\sum_{k=-\\infty}^{\\infty}f\\left(\\frac{k}{p}\\right)\\text{sinc}\\left(p\\left(t-\\frac{k}{p}\\right)\\right) }\n",
        "\\end{align*}$$"
      ],
      "metadata": {
        "id": "nLjbUEG6_NxD"
      }
    },
    {
      "cell_type": "markdown",
      "source": [
        "So, we found `all values` of $f(t)$ based on the discrete measurements\n",
        "\n",
        "This also shows that function `cannot` be both bandlimited in time and frequency, $f$ is bandlimited in $s$, but not in $t$"
      ],
      "metadata": {
        "id": "vvDi3CKTAGrG"
      }
    },
    {
      "cell_type": "markdown",
      "source": [
        "#### What if we use $p'\\color{red}{>}p$?"
      ],
      "metadata": {
        "id": "rKUM2wkTD6Oc"
      }
    },
    {
      "cell_type": "markdown",
      "source": [
        "This is fine, as the following still holds after `periodizing` and `cut-off`\n",
        "\n",
        "$$Ff=\\pi_p\\left(Ff*\\text{III}_p\\right)$$\n",
        "\n",
        "So we stil can recover $f$ `exactly` using\n",
        "\n",
        "$$\\begin{align}\n",
        "f&=\\sum_{k=-\\infty}^{\\infty}f\\left(\\frac{k}{p}\\right)\\text{sinc}\\left(p\\left(t-\\frac{k}{p}\\right)\\right)\n",
        "\\end{align}$$\n",
        "\n",
        "We just do more work than we have to"
      ],
      "metadata": {
        "id": "KElCi80OD7m6"
      }
    },
    {
      "cell_type": "markdown",
      "source": [
        "#### What if we use $p'\\color{red}{<}p$?"
      ],
      "metadata": {
        "id": "Y-dXR-lkDS2_"
      }
    },
    {
      "cell_type": "markdown",
      "source": [
        "The following no longer holds (visually, $F(s)$ `overlaps` with its neighboring duplicates)\n",
        "\n",
        "$$Ff\\neq\\pi_{\\color{red}{p'}}\\left(Ff*\\text{III}_{\\color{red}{p'}}\\right)$$\n",
        "\n",
        "We take inverse Fourier transform anyway, and get\n",
        "\n",
        "$$\\begin{align}\n",
        "g&=\\boxed{\\sum_{k=-\\infty}^{\\infty}f\\left(\\frac{k}{\\color{red}{p'}}\\right)\\text{sinc}\\left(\\color{red}{p'}\\left(t-\\frac{k}{\\color{red}{p'}}\\right)\\right) }\n",
        "\\end{align}$$\n",
        "\n",
        "But this is `not` $f$"
      ],
      "metadata": {
        "id": "FPtakYqDDcZm"
      }
    },
    {
      "cell_type": "markdown",
      "source": [
        "#### `Aliasing`"
      ],
      "metadata": {
        "id": "zHtEoNXSHfIS"
      }
    },
    {
      "cell_type": "markdown",
      "source": [
        "So, what is $g$?\n",
        "\n",
        "Notice\n",
        "\n",
        "$$\\begin{align*}\n",
        "g\\left(\\color{orange}{\\frac{m}{p'}}\\right)&=\\sum_{k=-\\infty}^{\\infty}f\\left(\\frac{k}{p'}\\right)\\text{sinc}\\left(p'\\left(\\color{orange}{\\frac{m}{p'}}-\\frac{k}{p'}\\right)\\right) \\\\\n",
        "&=\\sum_{k=-\\infty}^{\\infty}f\\left(\\frac{k}{p'}\\right)\\text{sinc}\\left(m-k\\right) \\\\\n",
        "& \\text{sinc function has roots at integer values except 0} \\\\\n",
        "&=f\\left(\\frac{m}{p'}\\right) \\, \\text{when } m=k\n",
        "\\end{align*}$$\n",
        "\n",
        "Therefore, $g$ and $f$ agree at `sampled values` at $\\frac{1}{\\color{red}{p'}}$\n",
        "\n",
        "We say $g$ is an `alias` of $f$, that is, with sampled values, we `cannot distinguish` one from the other\n",
        "\n",
        "If we choose $p$ too small, we reconstruct an alias of true function (but we would not know it...)"
      ],
      "metadata": {
        "id": "s3oNUBpTHjlm"
      }
    },
    {
      "cell_type": "markdown",
      "source": [
        "#### `Example` of aliasing"
      ],
      "metadata": {
        "id": "6FSqXcgaKgX2"
      }
    },
    {
      "cell_type": "markdown",
      "source": [
        "Let $f(t)=\\cos\\left(\\frac{9}{2}\\pi t\\right)$, with $p=\\frac{9}{4}$ (Hz)\n",
        "\n",
        "$$Ff=\\frac{1}{2}\\left(\\delta(s+\\frac{9}{4})+\\delta(s-\\frac{9}{4})\\right)$$"
      ],
      "metadata": {
        "id": "2UCXGN9iK41h"
      }
    },
    {
      "cell_type": "markdown",
      "source": [
        "If we sample with $\\boxed{p'=1}$ (Hz)\n",
        "\n",
        "$$\\text{II}_1\\left(Ff*\\text{III}_{1}\\right)=\\text{II}_1\\left(\\frac{1}{2}\\left(\\delta(s+\\frac{9}{4})+\\delta(s-\\frac{9}{4})\\right)*\\sum_{-\\infty}^{\\infty}\\delta(s-k)\\right)$$"
      ],
      "metadata": {
        "id": "-biA4HP5Lg5R"
      }
    },
    {
      "cell_type": "markdown",
      "source": [
        "Check a few $k$'s in the neighbourhood of zero $k=-3, -2, -1, 0, 1, 2, 3$\n",
        "\n",
        "$-\\frac{9}{4}$ becomes $-\\frac{21}{4}, -\\frac{17}{4},-\\frac{13}{4},-\\frac{9}{4},-\\frac{5}{4},-\\frac{1}{4},\\frac{3}{4}$\n",
        "\n",
        "$\\frac{9}{4}$ becomes $-\\frac{3}{4}, \\frac{1}{4},\\frac{5}{4},\\frac{9}{4},\\frac{13}{4},\\frac{17}{4}, \\frac{21}{4}$\n",
        "\n",
        "So, only two $\\delta$'s fall `within` $-1/2 < s < 1/2$\n",
        "\n",
        "When $k=-2$\n",
        "\n",
        "$$\\delta(s-\\frac{9}{4})*\\delta(s+2)=\\delta(s-\\frac{1}{4})$$\n",
        "\n",
        "When $k=2$\n",
        "\n",
        "$$\\delta(s+\\frac{9}{4})*\\delta(s-2)=\\delta(s+\\frac{1}{4})$$"
      ],
      "metadata": {
        "id": "lb-k_MNgNHzo"
      }
    },
    {
      "cell_type": "markdown",
      "source": [
        "Therefore\n",
        "\n",
        "$$\\text{II}_1\\left(Ff*\\text{III}_{1}\\right)=\\frac{1}{2}\\left(\\delta(s+\\frac{1}{4})+\\delta(s-\\frac{1}{4})\\right)$$\n",
        "\n",
        "and\n",
        "\n",
        "$$\\boxed{g(t)=\\cos\\left(\\frac{\\pi}{2}t\\right)}$$"
      ],
      "metadata": {
        "id": "tWEVrL5ePjAs"
      }
    },
    {
      "cell_type": "code",
      "execution_count": null,
      "metadata": {
        "id": "tXOxl43V-mKU"
      },
      "outputs": [],
      "source": []
    }
  ]
}