{
  "nbformat": 4,
  "nbformat_minor": 0,
  "metadata": {
    "colab": {
      "provenance": []
    },
    "kernelspec": {
      "name": "python3",
      "display_name": "Python 3"
    },
    "language_info": {
      "name": "python"
    }
  },
  "cells": [
    {
      "cell_type": "markdown",
      "source": [
        "#### `Recap`"
      ],
      "metadata": {
        "id": "IV1ymdEa-4U7"
      }
    },
    {
      "cell_type": "markdown",
      "source": [
        "Discrete complex exponentials\n",
        "\n",
        "$$\\boxed{\\omega=e^{2\\pi i/N}}$$\n",
        "\n",
        "$$\\omega^n[m]=\\omega^{nm}=\\omega^m[n]$$\n",
        "$$\\omega^{-n}[m]=\\omega^{-nm}=\\omega^{-m}[n]$$\n",
        "\n",
        "DFT\n",
        "\n",
        "$$\\boxed{F[m]=\\sum_{n=0}^{N-1}f[n]\\omega^{-n}[m]}$$\n",
        "\n",
        "iDFT\n",
        "\n",
        "$$\n",
        "\\boxed{F^{-1}f[m]=\\frac{1}{N}\\sum_{n=0}^{N-1}f[n]\\omega^n[m]}\n",
        "$$"
      ],
      "metadata": {
        "id": "i1X0zSoJlAz0"
      }
    },
    {
      "cell_type": "markdown",
      "source": [
        "#### Discrete version of `convolution`"
      ],
      "metadata": {
        "id": "kIcfSuggMtnW"
      }
    },
    {
      "cell_type": "markdown",
      "source": [
        "If $F=Ff$ and $G=Fg$, $f$ and $g$ are discrete functions, is there an $h$ such that $FG=Fh$?"
      ],
      "metadata": {
        "id": "oMtkVYSrMvnA"
      }
    },
    {
      "cell_type": "markdown",
      "source": [
        "$$\\begin{align*}\n",
        "h[m]&=F^{-1}(FG)[m]\\\\\n",
        "&=\\frac{1}{N}\\sum_{n=0}^{N-1}F[n]G[n]\\omega^{mn}\\\\\n",
        "&=\\frac{1}{N}\\sum_{n=0}^{N-1}\\left(\\sum_{k=0}^{N-1}f[k]\\omega^{-kn}\\right)\\left(\\sum_{l=0}^{N-1}g[l]\\omega^{-ln}\\right)\\omega^{mn}\\\\\n",
        "&=\\sum_{k=0}^{N-1}f[k]\\sum_{l=0}^{N-1}g[l]\\left(\\frac{1}{N}\\sum_{n=0}^{N-1}\\omega^{mn}\\omega^{-kn}\\omega^{-ln}\\right) \\\\\n",
        "&=\\sum_{k=0}^{N-1}f[k]\\sum_{l=0}^{N-1}g[l]\\left(\\frac{1}{N}\\sum_{n=0}^{N-1}\\omega^{n(m-k-l)}\\right) \\\\\n",
        "& \\text{only term with} \\, m-k-l=0 \\, \\text{can survive} \\\\\n",
        "&=\\sum_{k=0}^{N-1}f[k]g[m-k] \\\\\n",
        "&=\\sum_{l=0}^{N-1}f[m-l]g[l]\n",
        "\\end{align*}$$"
      ],
      "metadata": {
        "id": "_UEtw8XiNGlm"
      }
    },
    {
      "cell_type": "markdown",
      "source": [
        "Therefore, we `define` convolution of two periodic discrete functions $f$ and $g$ as\n",
        "\n",
        "$$\\boxed{\\begin{align*}(f*g)[m]&=\\sum_{k=0}^{N-1}f[k]g[m-k] \\\\\n",
        "&=\\sum_{l=0}^{N-1}f[m-l]g[l]\\end{align*}}$$\n",
        "\n",
        "Looks pretty close to continous version\n",
        "\n",
        "$$(f*g)(u)=h(u)= \\int  f(u-x) g(x)\\,\\,dx$$\n",
        "\n",
        "It is also straightforward to see that discrete version of convolution is `commutative`"
      ],
      "metadata": {
        "id": "OFr6d_XmPn4L"
      }
    },
    {
      "cell_type": "markdown",
      "source": [
        "$$$$ `Shift` and convolution"
      ],
      "metadata": {
        "id": "AhQRUWvFSuLn"
      }
    },
    {
      "cell_type": "markdown",
      "source": [
        "$$\\begin{align*}\n",
        "((\\tau_pf)*g)[m]&=\\sum_{n=0}^{N-1}\\tau_pf[m-n]g[n]\\\\\n",
        "&=\\sum_{n=0}^{N-1}f[m-n-p]g[n]\\\\\n",
        "&=(f*g)[m-p]\\\\\n",
        "&=\\tau_p(f*g)[m]\n",
        "\\end{align*}$$\n",
        "\n",
        "Based on this and commutative property of convolution, we have\n",
        "\n",
        "$$\\boxed{(\\tau_pf)*g=\\tau_p(f*g)=(\\tau_pg)*f}$$"
      ],
      "metadata": {
        "id": "KbSZ7EOgS3S5"
      }
    },
    {
      "cell_type": "code",
      "execution_count": null,
      "metadata": {
        "id": "tXOxl43V-mKU"
      },
      "outputs": [],
      "source": []
    }
  ]
}