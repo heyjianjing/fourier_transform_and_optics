{
  "nbformat": 4,
  "nbformat_minor": 0,
  "metadata": {
    "colab": {
      "provenance": []
    },
    "kernelspec": {
      "name": "python3",
      "display_name": "Python 3"
    },
    "language_info": {
      "name": "python"
    }
  },
  "cells": [
    {
      "cell_type": "markdown",
      "source": [
        "#### `Multiplication` between distributions"
      ],
      "metadata": {
        "id": "IV1ymdEa-4U7"
      }
    },
    {
      "cell_type": "markdown",
      "source": [
        "If $S$ and $T$ are distributions, their product is `generally not defined`"
      ],
      "metadata": {
        "id": "kTMnohX_t-On"
      }
    },
    {
      "cell_type": "markdown",
      "source": [
        "What can often be described is `multiplication between a function and a distribution`, $fT$ where $f$ is a `function`, when acting on a test function\n",
        "\n",
        "$$\\begin{align*}\\langle fT, \\varphi \\rangle&=\\int f(x)T(x)\\varphi(x) \\,dx \\\\\n",
        "&=\\int T(x)\\left(f(x)\\varphi(x)\\right) \\,dx \\\\\n",
        "&=\\langle T, f\\varphi \\rangle\n",
        "\\end{align*}$$\n",
        "\n",
        "This makes sense only if $f\\varphi$ is a `test function`\n",
        "\n",
        "In this case, we turn this into an `definition`\n",
        "\n",
        "$$\\boxed{\\begin{align*}\\langle fT, \\varphi \\rangle=\\langle T, f\\varphi \\rangle\n",
        "\\end{align*}}$$"
      ],
      "metadata": {
        "id": "CALLRvGiuLGJ"
      }
    },
    {
      "cell_type": "markdown",
      "source": [
        "#### `Sampling` property of delta function via `multiplication`"
      ],
      "metadata": {
        "id": "CZ5F9AODvqeB"
      }
    },
    {
      "cell_type": "markdown",
      "source": [
        "If the `distribution` $T$ is a `delta function`, we have\n",
        "\n",
        "$$\\begin{align*}\\langle f\\delta , \\varphi \\rangle &= \\langle \\delta, f\\varphi \\rangle \\\\\n",
        "&= f(0)\\varphi(0) \\\\\n",
        "& f(0) \\text{ is a constant} \\\\\n",
        "&=\\langle f(0)\\delta, \\varphi \\rangle\n",
        "\\end{align*}$$\n",
        "\n",
        "Therefore\n",
        "\n",
        "$$\\boxed{f\\delta = f(0)\\delta}$$"
      ],
      "metadata": {
        "id": "0-cGxk_bvwUa"
      }
    },
    {
      "cell_type": "markdown",
      "source": [
        "Similarly\n",
        "\n",
        "$$\\begin{align*}\\langle f\\delta_a , \\varphi \\rangle &= \\langle \\delta_a, f\\varphi \\rangle \\\\\n",
        "&= f(a)\\varphi(a) \\\\\n",
        "& f(a) \\text{ is a constant} \\\\\n",
        "&=\\langle f(a)\\delta_a, \\varphi \\rangle\n",
        "\\end{align*}$$\n",
        "\n",
        "Therefore\n",
        "\n",
        "$$\\boxed{f\\delta_a = f(a)\\delta_a}$$"
      ],
      "metadata": {
        "id": "OKKgceSqwpaa"
      }
    },
    {
      "cell_type": "markdown",
      "source": [
        "To `sample` means to `multiply by delta function` and use this property"
      ],
      "metadata": {
        "id": "nmGBEkOgx0LS"
      }
    },
    {
      "cell_type": "markdown",
      "source": [
        "#### `Convolution` between distributions"
      ],
      "metadata": {
        "id": "rA23uwXmyOkD"
      }
    },
    {
      "cell_type": "markdown",
      "source": [
        "If $S$ and $T$ are distributions, their convolution can be complicated and is not the focus here...\n",
        "\n",
        "But `convolution of a function with a distribution`, $f*T$ often times makes sense, although $f*T$ requires some setup, and the `convolution theorem` holds\n",
        "\n",
        "$$F(f*T)=(Ff)(FT)$$\n",
        "\n",
        "(if we consider $f$ is a distribution, then, $Ff$ and $FT$ are both distributions and `multiplication` between distributions on the right hand side is generally not defined. Therefore, it is really the `connected issue` in multiplication and convolution, when it comes to `two distributions`)"
      ],
      "metadata": {
        "id": "xtM_7AHlyUn3"
      }
    },
    {
      "cell_type": "markdown",
      "source": [
        "Setup for $f*T$ to treat it as distribution, we need to describe how it acts on a test function\n",
        "\n",
        "$$\\begin{align*}\n",
        "\\langle f*T, \\varphi \\rangle &= \\int (f * T)(x)\\varphi(x) \\, dx \\\\\n",
        "&=\\int \\left(\\int f(x-y)T(y)dy\\right) \\varphi(x) \\,dx \\\\\n",
        "&=\\iint f(x-y)T(y)\\varphi(x)\\,dydx \\\\\n",
        "&=\\int \\left(\\int f(x-y)\\varphi(x)\\,dx\\right) T(y) \\,dy \\\\\n",
        "& \\text{let } f^{-}(x)=f(-x) \\\\\n",
        "&=\\int (f^{-}*\\varphi)(y) T(y) \\,dy \\\\\n",
        "&=\\langle T, f^{-}*\\varphi \\rangle\n",
        "\\end{align*}$$\n",
        "\n",
        "So, when $f^{-}*\\varphi$ is also a test function, we can `define` convolution between a function and a distribution as\n",
        "\n",
        "$$\\boxed{\\begin{align*}\n",
        "\\langle f*T, \\varphi \\rangle =\\langle T, f^{-}*\\varphi \\rangle\n",
        "\\end{align*}}$$"
      ],
      "metadata": {
        "id": "kFbJ6jLO4KFp"
      }
    },
    {
      "cell_type": "markdown",
      "source": [
        "#### `Shifting` property of delta function via `convolution`"
      ],
      "metadata": {
        "id": "pDZovCfr071-"
      }
    },
    {
      "cell_type": "markdown",
      "source": [
        "If the `distribution` $T$ is a `delta function`, we have\n",
        "\n",
        "$$\\begin{align*}\n",
        "\\langle f*\\delta, \\varphi \\rangle &= \\langle \\delta, f^{-}*\\varphi \\rangle \\\\\n",
        "&=(f^{-}*\\varphi)(0) \\\\\n",
        "&=\\int f^{-}(0-y)\\varphi(y)\\,dy \\\\\n",
        "&=\\int f(y)\\varphi(y) \\, dy \\\\\n",
        "&=\\langle f, \\varphi \\rangle\n",
        "\\end{align*}$$\n",
        "\n",
        "Therefore\n",
        "\n",
        "$$\\boxed{f*\\delta = f}$$\n",
        "\n",
        "That is, $\\delta$ serves as the `identity` element in `convolution`, if you convolve a function with a delta function, you get the function back\n",
        "\n",
        "For example\n",
        "\n",
        "$$\\delta * \\delta =\\delta$$"
      ],
      "metadata": {
        "id": "fAihuzb01gvP"
      }
    },
    {
      "cell_type": "markdown",
      "source": [
        "More generally, we get the `shifting property`\n",
        "\n",
        "$$\\begin{align}\n",
        "\\langle f*\\delta_a, \\varphi \\rangle &= \\langle \\delta_a, f^{-}*\\varphi \\rangle \\\\\n",
        "&=(f^{-}*\\varphi)(a) \\\\\n",
        "&=\\int f^{-}(a-y)\\varphi(y)\\,dy \\\\\n",
        "&=\\int f(y-a)\\varphi(y) \\, dy \\\\\n",
        "&=\\langle f(y-a), \\varphi \\rangle\n",
        "\\end{align}$$\n",
        "\n",
        "or\n",
        "\n",
        "$$\\boxed{(f*\\delta_a)(x) = f(x-a)}$$"
      ],
      "metadata": {
        "id": "uLrzfMDe8yVM"
      }
    },
    {
      "cell_type": "markdown",
      "source": [
        "We also have $$\\boxed{\\delta_a * \\delta_b = \\delta_{a+b}}$$"
      ],
      "metadata": {
        "id": "caXgQUPLNigm"
      }
    },
    {
      "cell_type": "markdown",
      "source": [
        "#### `Scaling` of delta function"
      ],
      "metadata": {
        "id": "-LcXH6BxsIOT"
      }
    },
    {
      "cell_type": "markdown",
      "source": [
        "That is, we want to know what is $\\delta(ax)$ by describing how it acts on a test function\n",
        "\n",
        "$$\\begin{align*}\n",
        "\\langle \\delta(ax), \\varphi \\rangle &=\\int \\delta(ax)\\varphi(x) \\,dx\\\\\n",
        "& u=ax\\, (a>0)\\, du=adx\\\\\n",
        "&=\\frac{1}{a}\\int \\delta(u)\\varphi\\left(\\frac{u}{a}\\right) \\,du\\\\\n",
        "&=\\frac{1}{a}\\varphi(0)\\\\\n",
        "&=\\frac{1}{a}\\langle \\delta, \\varphi \\rangle\n",
        "\\end{align*}$$\n",
        "\n",
        "Therefore\n",
        "\n",
        "$$\\boxed{\\delta(ax)=\\frac{1}{|a|}\\delta(x)}$$"
      ],
      "metadata": {
        "id": "LU4spG6MsLfg"
      }
    },
    {
      "cell_type": "code",
      "execution_count": null,
      "metadata": {
        "id": "tXOxl43V-mKU"
      },
      "outputs": [],
      "source": []
    }
  ]
}