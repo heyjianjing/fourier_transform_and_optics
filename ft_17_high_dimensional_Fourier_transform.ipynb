{
  "nbformat": 4,
  "nbformat_minor": 0,
  "metadata": {
    "colab": {
      "provenance": []
    },
    "kernelspec": {
      "name": "python3",
      "display_name": "Python 3"
    },
    "language_info": {
      "name": "python"
    }
  },
  "cells": [
    {
      "cell_type": "markdown",
      "source": [
        "#### `2D` case setup"
      ],
      "metadata": {
        "id": "Dal9h0CjeuPD"
      }
    },
    {
      "cell_type": "markdown",
      "source": [
        "* `spatial` variable\n",
        "$$x=(x_1, x_2)$$\n",
        "* `frequency` variable\n",
        "$$\\mathbf{\\xi}=(\\xi_1, \\xi_2)$$\n",
        "* `complex exponential`\n",
        "$$e^{-2\\pi i x\\cdot\\mathbf{\\xi} }=e^{-2\\pi i (x_1\\xi_1+x_2\\xi_2) }$$"
      ],
      "metadata": {
        "id": "j-Ksdmx7eyCi"
      }
    },
    {
      "cell_type": "markdown",
      "source": [
        "#### 2D (continuous) Fourier transform"
      ],
      "metadata": {
        "id": "l0Vdaq1j_CZH"
      }
    },
    {
      "cell_type": "markdown",
      "source": [
        "$$Ff(\\xi_1, \\xi_2)=\\iint e^{-2\\pi i (x_1\\xi_1+x_2\\xi_2)}f(x_1, x_2)\\,dx_1 dx_2$$\n",
        "\n",
        "and 2D `inverse` Fourier transform is\n",
        "\n",
        "$$F^{-1}g(x_1, x_2)=\\iint e^{2\\pi i (x_1\\xi_1+x_2\\xi_2)}g(\\xi_1, \\xi_2)\\,d\\xi_1 d\\xi_2$$"
      ],
      "metadata": {
        "id": "q7h936M5_F0Z"
      }
    },
    {
      "cell_type": "markdown",
      "source": [
        "#### `Intuition` behind 2D complex exponentials"
      ],
      "metadata": {
        "id": "BixruP43BCVw"
      }
    },
    {
      "cell_type": "markdown",
      "source": [
        "From `1D case`, $e^{2\\pi i s t}$, if we fix frequency $s$, then it is a complex exponential of $t$ with period of $\\frac{1}{s}$\n",
        "\n",
        "$$e^{2\\pi i s \\left(t+\\frac{1}{s}\\right)}=e^{2\\pi i s t}e^{2\\pi i s\\frac{1}{s}}=e^{2\\pi i st}$$"
      ],
      "metadata": {
        "id": "fBbRajFXC89W"
      }
    },
    {
      "cell_type": "markdown",
      "source": [
        "* This shows how `rapidly` this complex exponential (with particular $s$) `oscillate` over $t$\n",
        "* or `when complex exponential equals one`: when $t=0, \\pm \\frac{1}{s}, \\cdots, \\pm \\frac{N}{s} \\cdots$, that is, at points `spaced` $\\frac{1}{s}$ apart\n",
        "* Then, Fourier transform $F(s)$ `measures how significant` the original function contains each of these complex exponentials (with different $s$)"
      ],
      "metadata": {
        "id": "zwOyZJE3DqoE"
      }
    },
    {
      "cell_type": "markdown",
      "source": [
        "`2D case` is similar"
      ],
      "metadata": {
        "id": "KvnYI1r8FzL4"
      }
    },
    {
      "cell_type": "code",
      "source": [
        "import matplotlib.pyplot as plt\n",
        "import numpy as np\n",
        "\n",
        "plt.style.use('dark_background')"
      ],
      "metadata": {
        "id": "qk-cKItk-C4T"
      },
      "execution_count": null,
      "outputs": []
    },
    {
      "cell_type": "code",
      "source": [
        "fig, ax = plt.subplots(figsize=(5, 5))\n",
        "\n",
        "ax.plot([-4, 4], [0, 0], 'w', linewidth=2, zorder=0)\n",
        "ax.plot([0, 0], [-4, 4], 'w', linewidth=2, zorder=0)\n",
        "\n",
        "ax.text(0, 4.5, r\"$x_2$\", horizontalalignment='center',fontsize=14)\n",
        "ax.text(4.5, 0, r\"$x_1$\", horizontalalignment='center',fontsize=14)\n",
        "ax.text(3, 3, r\"$e^{2\\pi i (x_1\\xi_1+x_2\\xi_2)}$\", horizontalalignment='center',fontsize=14)\n",
        "\n",
        "ax.plot([0, 2], [0, 1], 'r', linewidth=2, zorder=0)\n",
        "ax.arrow(2-0.5*2/3, 1-0.5/3, 0.002, 0.001, head_width=0.3, head_length=0.5, color='r')\n",
        "ax.text(3, 1, r\"$(\\xi_1, \\xi_2)$\", horizontalalignment='center',fontsize=14, color='r')\n",
        "\n",
        "ax.plot([-2, 2], [4, -4], 'c', linewidth=2, zorder=0)\n",
        "ax.text(2, -4.5, r\"$(x_1\\xi_1+x_2\\xi_2)=0$\", horizontalalignment='center',fontsize=14, color='c')\n",
        "\n",
        "ax.plot([-2+1, 2+1], [4, -4], 'y', linewidth=2, zorder=0)\n",
        "ax.text(3.5, -1, r\"$(x_1\\xi_1+x_2\\xi_2)=1$\", horizontalalignment='center',fontsize=14, color='y')\n",
        "\n",
        "ax.plot([-2-1, 2-1], [4, -4], 'magenta', linewidth=2, zorder=0)\n",
        "ax.text(-3, -1, r\"$(x_1\\xi_1+x_2\\xi_2)=-1$\", horizontalalignment='center',fontsize=14, color='magenta')\n",
        "\n",
        "ax.set_xlim(-5, 5)\n",
        "ax.set_ylim(-5, 5)\n",
        "ax.set_aspect('equal')\n",
        "\n",
        "ax.set_title('2D complex exponential geometric intuition')\n",
        "ax.axis(\"off\")\n",
        "plt.tight_layout()\n",
        "\n",
        "plt.show()"
      ],
      "metadata": {
        "colab": {
          "base_uri": "https://localhost:8080/",
          "height": 497
        },
        "id": "PhPdEgVVHUlP",
        "outputId": "d630584e-3738-4fb2-bc47-05a070d9971f"
      },
      "execution_count": null,
      "outputs": [
        {
          "output_type": "display_data",
          "data": {
            "text/plain": [
              "<Figure size 500x500 with 1 Axes>"
            ],
            "image/png": "[encoded data removed]"
          },
          "metadata": {}
        }
      ]
    },
    {
      "cell_type": "markdown",
      "source": [
        "If we fix frequency `vector` $\\xi_1, \\xi_2$, then it is a complex exponential of $x_1, x_2$\n",
        "\n",
        "$$e^{2\\pi i (x_1\\xi_1+x_2\\xi_2)}$$"
      ],
      "metadata": {
        "id": "Gh7JDyvLKbyu"
      }
    },
    {
      "cell_type": "markdown",
      "source": [
        "* we first find when this thing `equals one`: when the `dot product` $x_1\\xi_1+x_2\\xi_2=n$, where $n$ is `integer`\n",
        "* it is not very difficult to see that for all $(x_1, x_2)$ on one of these parallel lines, the dot product $x_1\\xi_1+x_2\\xi_2$ is a `constant`, but where are the lines that make the dot product `integer` values?\n",
        "* the case of $n=0$ is simple, just a line perpendicular to $(\\xi_1, \\xi_2)$ and passes through the `origin`\n",
        "* for case of $n=1$, we recall `concept of dot product` between $(x_1, x_2)$ and $(\\xi_1, \\xi_2)$ is the projection length of $(x_1, x_2)$ in the direction of $(\\xi_1, \\xi_2)$, which is then `scaled` by length of $(\\xi_1, \\xi_2)$\n",
        "* since the projection length of $(x_1, x_2)$ in the direction of $(\\xi_1, \\xi_2)$ is just the distance $d$ between two parallel lines, which gives\n",
        "\n",
        "$$d\\cdot\\|(\\xi_1, \\xi_2)\\|=x_1\\xi_1+x_2\\xi_2$$\n",
        "\n",
        "Finally, we `set the dot product to 1`, to get the distance $d$ between two adjacent parallel lines\n",
        "\n",
        "$$\\boxed{d=\\frac{x_1\\xi_1+x_2\\xi_2}{\\|(\\xi_1, \\xi_2)\\|}=\\frac{1}{\\|(\\xi_1, \\xi_2)\\|}}$$"
      ],
      "metadata": {
        "id": "xr1Z4LqDKUht"
      }
    },
    {
      "cell_type": "markdown",
      "source": [
        "We see once more the `reciprocal` relationship, that is, the `larger` the norm of `spatial frequency vector` $\\xi$, the `faster` the corresponding complex exponential oscillates in the `direction` of $\\xi$\n",
        "\n",
        "Or we can say the complex exponential\n",
        "\n",
        "$$e^{2\\pi i (x\\cdot \\xi)}$$\n",
        "\n",
        "is `periodic` in the direction of $\\xi$, with `spatial period` $\\frac{1}{\\|\\xi\\|}$"
      ],
      "metadata": {
        "id": "xrCrKe5BPsE1"
      }
    },
    {
      "cell_type": "markdown",
      "source": [
        "Then, Fourier transform $F(\\xi)$ `measures how significant` the original 2D function contains each of these complex exponentials (with different $\\xi$)"
      ],
      "metadata": {
        "id": "a7ZHZZfaPPpH"
      }
    },
    {
      "cell_type": "code",
      "source": [],
      "metadata": {
        "id": "uE0Q0cQSsr1A"
      },
      "execution_count": null,
      "outputs": []
    }
  ]
}