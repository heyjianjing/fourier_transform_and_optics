{
  "nbformat": 4,
  "nbformat_minor": 0,
  "metadata": {
    "colab": {
      "provenance": []
    },
    "kernelspec": {
      "name": "python3",
      "display_name": "Python 3"
    },
    "language_info": {
      "name": "python"
    }
  },
  "cells": [
    {
      "cell_type": "markdown",
      "source": [
        "#### Linear system"
      ],
      "metadata": {
        "id": "IV1ymdEa-4U7"
      }
    },
    {
      "cell_type": "markdown",
      "source": [
        "A `function` $L$ from inputs $v(t)$ to outputs $w(t)$ that satisfies principles of `superposition`\n",
        "\n",
        "$$\\begin{align*}\n",
        "L(v_1(t)+v_2(t))&=L(v_1(t))+L(v_2(t)) \\\\\n",
        "L(a v(t))&=a L(v(t))\n",
        "\\end{align*}$$\n",
        "\n"
      ],
      "metadata": {
        "id": "x2y9bGx489BO"
      }
    },
    {
      "cell_type": "markdown",
      "source": [
        "One direct consequence for superposition is that `zero` input corresponds to a `zero` output, as\n",
        "\n",
        "$$L(0)=L(0\\cdot0)=0\\cdot L(0)=0$$"
      ],
      "metadata": {
        "id": "qPk46435-CS0"
      }
    },
    {
      "cell_type": "markdown",
      "source": [
        "#### Direct `proportionality`"
      ],
      "metadata": {
        "id": "oCIfLQ08_It_"
      }
    },
    {
      "cell_type": "markdown",
      "source": [
        "One basic example of linear system is `direct proportionality`, and the `constant` can be a function\n",
        "\n",
        "$$Lv(t)=h(t)v(t)$$\n",
        "\n",
        "We can verify\n",
        "\n",
        "$$\\begin{align*}\n",
        "L(av_1(t)+bv_2(t))&=h(t)(av_1(t)+bv_2(t))\\\\\n",
        "&=ah(t)v_1(t)+bh(t)v_2(t)\\\\\n",
        "&=aLv_1(t)+bLv_2(t)\n",
        "\\end{align*}$$"
      ],
      "metadata": {
        "id": "2VI-K00T_MLP"
      }
    },
    {
      "cell_type": "markdown",
      "source": [
        "#### `Sampling` is a linear system"
      ],
      "metadata": {
        "id": "A2IFEb-gAGMR"
      }
    },
    {
      "cell_type": "markdown",
      "source": [
        "$$Lv(t)=v(t)\\text{III}_p(t)=\\sum_{k=-\\infty}^{\\infty}v(kp)\\delta(t-kp)$$\n",
        "\n",
        "Almost trivial as `sampling the sum of two functions` is the same as the `sum of two sampled functions`"
      ],
      "metadata": {
        "id": "c0OSUYHPAK13"
      }
    },
    {
      "cell_type": "markdown",
      "source": [
        "#### Matrix multiplication"
      ],
      "metadata": {
        "id": "etAh5WtLBcYD"
      }
    },
    {
      "cell_type": "markdown",
      "source": [
        "$$w=Av$$\n",
        "\n",
        "where $A \\in \\mathbf{R}^{m \\times n}$, then each element in $w$ can be written out as `direct proportion` + `adding`\n",
        "\n",
        "$$w_i=\\sum_{j=1}^na_{ij}v_j$$"
      ],
      "metadata": {
        "id": "k1oFtvKSBgH3"
      }
    },
    {
      "cell_type": "markdown",
      "source": [
        "#### Integration with `kernel` as `infinite dimensional` $w=Av$"
      ],
      "metadata": {
        "id": "s_22jcZzCl-Z"
      }
    },
    {
      "cell_type": "markdown",
      "source": [
        "$$w(x)=Lv(x)=\\int k(x, y)v(y)dy$$"
      ],
      "metadata": {
        "id": "_RcmBaNgCs-K"
      }
    },
    {
      "cell_type": "markdown",
      "source": [
        "We won't be far off if we think $x$ as `row index` for infinite dimensional `vector` $w$, and $y$ as `column index` for infinite dimensional `vector` $v$, and the integration carries out infinite dimensional `summation` over a row of an infinite dimensional `matrix` whose entries are $k(x, y)$"
      ],
      "metadata": {
        "id": "AbWDLFm9Ffo0"
      }
    },
    {
      "cell_type": "markdown",
      "source": [
        "#### `Symmetry`"
      ],
      "metadata": {
        "id": "1hQAZSkALjin"
      }
    },
    {
      "cell_type": "markdown",
      "source": [
        "If\n",
        "\n",
        "$$k(x, y)=k(y, x)$$\n",
        "\n",
        "then, it is a `symmetric` linear system\n",
        "\n",
        "`Fourier transform` is one example, as\n",
        "\n",
        "$$k(x, y)=e^{-2\\pi i xy}=k(y, x)$$"
      ],
      "metadata": {
        "id": "1VUcc_kmLmip"
      }
    },
    {
      "cell_type": "markdown",
      "source": [
        "#### Integration with `kernel` is the `only form` of (continuous) linear system"
      ],
      "metadata": {
        "id": "a-wzJ0ZYNYik"
      }
    },
    {
      "cell_type": "markdown",
      "source": [
        "Just like $w=Av$ is the `only form` of discrete linear system"
      ],
      "metadata": {
        "id": "i9vcJ846N3f_"
      }
    },
    {
      "cell_type": "markdown",
      "source": [
        "So, what is $k(x, y)$ for a linear system in general?\n",
        "\n",
        "Need a few steps to see this"
      ],
      "metadata": {
        "id": "C8C3PXuiPUgk"
      }
    },
    {
      "cell_type": "markdown",
      "source": [
        "##### `Cascading` linear systems"
      ],
      "metadata": {
        "id": "fStCGsKCPglq"
      }
    },
    {
      "cell_type": "markdown",
      "source": [
        "Two linear systems $L$ and $M$ are each linear, then\n",
        "\n",
        "$$w=MLv$$\n",
        "\n",
        "is also linear"
      ],
      "metadata": {
        "id": "wBeq9SY5PmXe"
      }
    },
    {
      "cell_type": "markdown",
      "source": [
        "If we let\n",
        "\n",
        "$$Lv = \\int k(x, y) v(y)\\, dy$$\n",
        "\n",
        "then, what is $M$ applied to $Lv$?\n",
        "\n",
        "$$MLv=\\int M_x\\left(k(x, y)\\right) v(y) \\, dy$$\n",
        "\n",
        "Subscript $x$ indicates $M$ acts on $x$ as if $y$ is `fixed`"
      ],
      "metadata": {
        "id": "ruldkHYZP1fW"
      }
    },
    {
      "cell_type": "markdown",
      "source": [
        "##### `Why` is this true? Intuitively"
      ],
      "metadata": {
        "id": "8ju3L8B6QoGe"
      }
    },
    {
      "cell_type": "markdown",
      "source": [
        "We approximate integral by summation to see more clearly\n",
        "\n",
        "$$\\int k(x, y) v(y) \\, dy\\approx\\sum_{i} k(x, y_i) v(y_i) \\Delta y_i$$\n",
        "\n",
        "Now, if $M$ acts on this (and it operates on $x$, as that's the variable of $Lv$)\n",
        "\n",
        "$$\\begin{align*}\n",
        "M\\left(\\sum_{i} k(x, y_i) v(y_i) \\Delta y_i\\right) &=\\sum_{i} \\left(M k(x, y_i) v(y_i) \\Delta y_i\\right)\\\\\n",
        "&=\\sum_{i} M_x \\left(k(x, y_i)\\right) v(y_i) \\Delta y_i \\\\\n",
        "&\\approx \\int M_x\\left(k(x, y)\\right) v(y) \\, dy\n",
        "\\end{align*}$$"
      ],
      "metadata": {
        "id": "s9QQRuTJQ06a"
      }
    },
    {
      "cell_type": "markdown",
      "source": [
        "##### `Delta function` and `impulse response`"
      ],
      "metadata": {
        "id": "gO7twGi_TDHb"
      }
    },
    {
      "cell_type": "markdown",
      "source": [
        "From the properties of delta function, we have\n",
        "\n",
        "$$\\boxed{v(x)=(\\delta*v)(x)=\\int \\delta (x-y)v(y)\\, dy}$$\n",
        "\n",
        "This is analogous to discrete case where shifted delta functions $\\delta(x-y)$ are `basis` and $v(y)$ provides `coefficients`"
      ],
      "metadata": {
        "id": "tUbqG6ndTFdY"
      }
    },
    {
      "cell_type": "markdown",
      "source": [
        "Consider this integral as linear system with `kernel` being the `delta function`, and we apply another linear system $L$ to $v$"
      ],
      "metadata": {
        "id": "gNcC9uz2rCrr"
      }
    },
    {
      "cell_type": "markdown",
      "source": [
        "$$\\begin{align*}\n",
        "Lv(x)&=L\\left(\\int \\delta(x-y)v(y)\\, dy\\right) \\\\\n",
        "& \\text{bring}\\, L \\,\\text{inside} \\\\\n",
        "&=\\int \\color{orange}{L_x\\left(\\delta(x-y)\\right)}v(y)\\, dy\n",
        "\\end{align*}$$"
      ],
      "metadata": {
        "id": "Ck5lr37prKZd"
      }
    },
    {
      "cell_type": "markdown",
      "source": [
        "We simply choose the `kernel` corresponding to (any) `linear system` $L$ to be\n",
        "\n",
        "$$\\boxed{h(x, y)=k(x,y)=\\color{orange}{L\\left(\\delta(x-y)\\right)}}$$"
      ],
      "metadata": {
        "id": "EExufmZUr9-3"
      }
    },
    {
      "cell_type": "markdown",
      "source": [
        "The kernel is `what the system does when you feed delta function`"
      ],
      "metadata": {
        "id": "gqTwRlZcsghO"
      }
    },
    {
      "cell_type": "markdown",
      "source": [
        "Delta functions are impulses, and the kernel reflects how system reacts to impulses (shifted to $y$), and are therefore called `impulse reponse` (denoted as $h(x, y)$ most of the time)"
      ],
      "metadata": {
        "id": "yE-UWY__sTvm"
      }
    },
    {
      "cell_type": "markdown",
      "source": [
        "Again, analogous to discrete cases $w=Av$, where each `entry` $A(x, y)$ is `impulse response` for the discrete version of $\\delta_y$ that is $e_y$ (here $x, y$ are `indices` for $w$ and $v$)\n",
        "\n",
        "$$\\begin{bmatrix}w[1]\\\\\\vdots\\\\w[x]\\\\ \\vdots\\\\w[m]\\end{bmatrix}=\\begin{bmatrix}\n",
        "a_{1,1} & \\cdots & \\vdots & \\color{limegreen}{a_{1,y}} & \\cdots & a_{1,n} \\\\\n",
        "\\vdots & \\cdots & \\vdots & \\vdots & \\cdots  & \\vdots\\\\\n",
        "a_{x,1} & \\cdots & \\vdots & \\color{limegreen}{a_{x,y}} & \\cdots  & a_{x,n}\\\\\n",
        "\\vdots & \\ddots & \\vdots & \\vdots & \\ddots  & \\vdots\\\\\n",
        "a_{m,1} & \\cdots & \\vdots & \\color{limegreen}{a_{m,y}} & \\cdots  & a_{1,n}\\\\\n",
        "\\end{bmatrix}\\begin{bmatrix}0\\\\\\vdots\\\\\\vdots\\\\ \\color{limegreen}{1}\\\\\\vdots\\\\0\\end{bmatrix}$$\n",
        "\n",
        "So, its impulse response is simply $A$"
      ],
      "metadata": {
        "id": "RRF3NE4rtxDC"
      }
    },
    {
      "cell_type": "markdown",
      "source": [
        "`Schwartz kernel theorem`: if $L$ is a linear operator on distributions, then there is a `unique` kernel $k$ which is another distribution, such that\n",
        "\n",
        "$$Lv(x)=\\langle k, v \\rangle$$"
      ],
      "metadata": {
        "id": "eXYmy2D3xU0_"
      }
    },
    {
      "cell_type": "markdown",
      "source": [
        "#### Impulse response of `Fourier transform`"
      ],
      "metadata": {
        "id": "rZIyxUtXyFyX"
      }
    },
    {
      "cell_type": "markdown",
      "source": [
        "(1) We can answer use `definition` directly, that is, finding Fourier transform of `shifted delta function`\n",
        "\n",
        "$$F\\left(\\delta(x-y)\\right)$$\n",
        "\n",
        "which we know is $e^{-2\\pi i xy}$"
      ],
      "metadata": {
        "id": "ypx1v8KlJbrL"
      }
    },
    {
      "cell_type": "markdown",
      "source": [
        "(2) or, since Fourier transform is a linear system, which is expressed as integration with a kernel\n",
        "\n",
        "$$Ff=\\int e^{-2\\pi i xy} f(y) \\, dy$$\n",
        "\n",
        "Therefore, the `kernel` must be the impulse response (and it is unique)\n",
        "\n",
        "$$\\boxed{h(x, y)=e^{-2\\pi i xy}}$$"
      ],
      "metadata": {
        "id": "O44VcICxyWRE"
      }
    },
    {
      "cell_type": "markdown",
      "source": [
        "#### Impulse response of `switch`"
      ],
      "metadata": {
        "id": "QxqTvYnG1V_I"
      }
    },
    {
      "cell_type": "markdown",
      "source": [
        "Switch is defined by\n",
        "\n",
        "$$Lv=\\text{II} v$$\n",
        "\n",
        "By definition, impulse response is how linear operator acts on shifted delta function\n",
        "\n",
        "$$\\begin{align*}\n",
        "L\\delta(x-y)&=\\text{II}(x)\\delta(x-y) \\\\\n",
        "& \\text{sampling property of delta} \\\\\n",
        "&=\\text{II}(y)\\delta(x-y)\n",
        "\\end{align*}$$\n",
        "\n",
        "Therefore\n",
        "\n",
        "$$\\boxed{h(x, y)=\\text{II}(y)\\delta(x-y)}$$"
      ],
      "metadata": {
        "id": "YsDf02Lc1X6x"
      }
    },
    {
      "cell_type": "markdown",
      "source": [
        "And we can check by plugging $h(x, y)$ into integration and see if $Lv=\\text{II} v$ comes out\n",
        "\n",
        "$$\\begin{align*}\n",
        "Lv&=\\int \\text{II}(y)\\delta(x-y)v(y) \\, dy \\\\\n",
        "&=\\int \\delta(x-y)\\left(\\text{II}(y)v(y)\\right) \\, dy \\\\\n",
        "&=\\left(\\delta*(\\text{II} v)\\right)(x) \\\\\n",
        "& \\delta * f =f\\\\\n",
        "&=\\text{II}(x)v(x) \\\\\n",
        "\\end{align*}$$"
      ],
      "metadata": {
        "id": "FY8fAyOz5nWR"
      }
    },
    {
      "cell_type": "code",
      "source": [],
      "metadata": {
        "id": "w0wuO1AZGf-U"
      },
      "execution_count": null,
      "outputs": []
    }
  ]
}