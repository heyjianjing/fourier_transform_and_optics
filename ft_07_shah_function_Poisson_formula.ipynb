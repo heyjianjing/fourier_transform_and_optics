{
  "nbformat": 4,
  "nbformat_minor": 0,
  "metadata": {
    "colab": {
      "provenance": []
    },
    "kernelspec": {
      "name": "python3",
      "display_name": "Python 3"
    },
    "language_info": {
      "name": "python"
    }
  },
  "cells": [
    {
      "cell_type": "markdown",
      "source": [
        "#### Recap: properties of delta function"
      ],
      "metadata": {
        "id": "IV1ymdEa-4U7"
      }
    },
    {
      "cell_type": "markdown",
      "source": [
        "`Sampling`\n",
        "\n",
        "$$\\boxed{f\\delta = f(0)\\delta}$$\n",
        "\n",
        "$$\\boxed{f\\delta_a = f(a)\\delta_a}$$"
      ],
      "metadata": {
        "id": "0-cGxk_bvwUa"
      }
    },
    {
      "cell_type": "markdown",
      "source": [
        "`Shifting`\n",
        "\n",
        "$$\\boxed{f * \\delta =f}$$\n",
        "\n",
        "$$\\boxed{(f*\\delta_a)(x) = f(x-a)}$$"
      ],
      "metadata": {
        "id": "fAihuzb01gvP"
      }
    },
    {
      "cell_type": "markdown",
      "source": [
        "`Scaling`\n",
        "\n",
        "$$\\boxed{\\delta(ax)=\\frac{1}{|a|}\\delta(x)}$$"
      ],
      "metadata": {
        "id": "9n48L8c-465Q"
      }
    },
    {
      "cell_type": "markdown",
      "source": [
        "#### `Setup` for Shah function"
      ],
      "metadata": {
        "id": "1rMrStsVHsZo"
      }
    },
    {
      "cell_type": "markdown",
      "source": [
        "A function $\\rho(x)$ that is `periodized` with period $p$\n",
        "\n",
        "An example is 1D crystal where a long sequence of atoms are placed $p$ apart, and we want to study `electron density distribution` for `individual atom` $\\rho(x)$, which is `periodized` over entire crystal\n",
        "\n",
        "$$\\rho_p(x)=\\sum_{k=-\\infty}^{\\infty}\\rho(x-kp)$$"
      ],
      "metadata": {
        "id": "TQPmd_zEHzl5"
      }
    },
    {
      "cell_type": "markdown",
      "source": [
        "The far-field X-ray `diffraction pattern` over 1D crystal should be `Fourier transform` of this periodized function $F\\rho_p$, so, what is it?"
      ],
      "metadata": {
        "id": "gdxM1ow1I1nx"
      }
    },
    {
      "cell_type": "markdown",
      "source": [
        "#### `Shah` function"
      ],
      "metadata": {
        "id": "CK3NkxJ0JLjN"
      }
    },
    {
      "cell_type": "code",
      "source": [
        "import matplotlib.pyplot as plt\n",
        "import numpy as np\n",
        "\n",
        "plt.style.use('dark_background')"
      ],
      "metadata": {
        "id": "9p_enSHWFhyC"
      },
      "execution_count": null,
      "outputs": []
    },
    {
      "cell_type": "code",
      "source": [
        "fig, ax = plt.subplots(figsize=(5, 3))\n",
        "\n",
        "ax.plot([-5, 5], [-2,-2], 'w', linewidth=2, zorder=0)\n",
        "for i,j in zip([-4, -2, 0, 2, 4], ['-2p', '-p', '0', 'p', '2p']):\n",
        "    ax.plot([i,i], [-2,0], 'w', linewidth=2, zorder=0)\n",
        "    ax.text(i, -2.8, j, horizontalalignment='center',fontsize=14)\n",
        "    ax.arrow(i, 0, 0.000, 0.001, head_width=0.3, head_length=0.5)\n",
        "\n",
        "ax.text(-5, -0.5, '...', horizontalalignment='center',fontsize=14)\n",
        "ax.text(5, -0.5, '...', horizontalalignment='center',fontsize=14)\n",
        "\n",
        "ax.set_xlim(-6, 6)\n",
        "ax.set_ylim(-4, 2)\n",
        "ax.set_aspect('equal')\n",
        "\n",
        "ax.set_title('Shah function with spacing $p$')\n",
        "ax.axis(\"off\")\n",
        "plt.tight_layout()\n",
        "\n",
        "plt.show()"
      ],
      "metadata": {
        "colab": {
          "base_uri": "https://localhost:8080/",
          "height": 296
        },
        "id": "zGsR3wzLFij1",
        "outputId": "fe736f8c-fb20-4d52-cf49-d708055cb6b5"
      },
      "execution_count": null,
      "outputs": [
        {
          "output_type": "display_data",
          "data": {
            "text/plain": [
              "<Figure size 500x300 with 1 Axes>"
            ],
            "image/png": "[encoded data removed]"
          },
          "metadata": {}
        }
      ]
    },
    {
      "cell_type": "markdown",
      "source": [
        "Compare the `periodized` function $\\rho_p(x)$ and `shifting` property of $\\delta$, we see we can write $\\rho_p(x)$ as `convolution` with a sequence of `delta` functions\n",
        "\n",
        "$$\\begin{align*}\n",
        "\\rho_p(x) &= \\sum_{k=-\\infty}^{\\infty}\\rho(x-kp) \\\\\n",
        "&= \\left(\\rho * \\sum_{k=-\\infty}^{\\infty}\\delta_{kp}\\right) (x) \\\\\n",
        "& \\text{define Shah function } \\text{III}_p =\\sum_{k=-\\infty}^{\\infty}\\delta_{kp} \\\\\n",
        "&=\\rho * \\text{III}_p\n",
        "\\end{align*}$$"
      ],
      "metadata": {
        "id": "euGPP6KVJYx4"
      }
    },
    {
      "cell_type": "markdown",
      "source": [
        "For clarity and without causing confusion, we can write\n",
        "\n",
        "$$\\boxed{\\text{III}_p(x) =\\sum_{k=-\\infty}^{\\infty}\\delta(x-kp)}$$"
      ],
      "metadata": {
        "id": "j5JZAZ6ZMuIK"
      }
    },
    {
      "cell_type": "markdown",
      "source": [
        "Pictorial depiction is just a `sequence of spikes` (delta functions), each distance $p$ away from the next, it is often refered to as `Dirac comb` with spacing $p$"
      ],
      "metadata": {
        "id": "RbCoMjPdNMaX"
      }
    },
    {
      "cell_type": "markdown",
      "source": [
        "Using `convolution theorem`\n",
        "\n",
        "$$F\\rho_p=(F\\rho)(F\\text{III}_p)$$\n",
        "\n",
        "The question is, what is $F\\text{III}_p$?"
      ],
      "metadata": {
        "id": "pyXU-_fuNkn_"
      }
    },
    {
      "cell_type": "markdown",
      "source": [
        "#### Start with `special case` of $p=1$"
      ],
      "metadata": {
        "id": "vZdsPWhkOgHr"
      }
    },
    {
      "cell_type": "markdown",
      "source": [
        "$$\\text{III}(x) =\\sum_{k=-\\infty}^{\\infty}\\delta(x-k)$$"
      ],
      "metadata": {
        "id": "Vz0SJHT-On3y"
      }
    },
    {
      "cell_type": "markdown",
      "source": [
        "You `may think` that we can simply use\n",
        "\n",
        "$$F\\text{III}=\\sum_{-\\infty}^{\\infty}F\\delta_k=\\sum_{-\\infty}^{\\infty}e^{-2\\pi i k s}$$\n",
        "\n",
        "But the series on the right hand side does not converge in classical sense...\n",
        "\n",
        "So, need to think differently"
      ],
      "metadata": {
        "id": "Gel0w3clRmCK"
      }
    },
    {
      "cell_type": "markdown",
      "source": [
        "We can see that $\\text{III}$ makes sense as `distribution`\n",
        "\n",
        "$$\\begin{align*}\n",
        "\\langle \\text{III}, \\varphi \\rangle &=\\langle \\sum_{k=-\\infty}^{\\infty}\\delta(x-k), \\varphi \\rangle \\\\\n",
        "& \\text{linearity and convergence of rapidly decreasing } \\varphi \\\\\n",
        "&=\\sum_{k=-\\infty}^{\\infty}\\varphi(k)\n",
        "\\end{align*}$$\n",
        "\n",
        "All is well, the output is the `sum of test function at integer points`"
      ],
      "metadata": {
        "id": "rVCJJbclOw05"
      }
    },
    {
      "cell_type": "markdown",
      "source": [
        "Its Fourier transform also makes sense as `distribution`\n",
        "\n",
        "$$\\begin{align*}\n",
        "\\langle F\\text{III}, \\varphi \\rangle &= \\langle \\text{III}, F\\varphi \\rangle\\\\\n",
        "&=\\sum_{k=-\\infty}^{\\infty}F\\varphi(k)\n",
        "\\end{align*}$$\n",
        "\n",
        "Same as before, just the test function becomes $F\\varphi$\n",
        "\n",
        "So, are these two related?"
      ],
      "metadata": {
        "id": "v2XdAgENPtf-"
      }
    },
    {
      "cell_type": "markdown",
      "source": [
        "#### `Poisson summation` formula"
      ],
      "metadata": {
        "id": "JKVRZQYEQ0Wz"
      }
    },
    {
      "cell_type": "markdown",
      "source": [
        "If $\\varphi$ is a `rapidly decreasing functions`, then\n",
        "\n",
        "$$\\boxed{\\sum_{k=-\\infty}^{\\infty}\\varphi(k)=\\sum_{k=-\\infty}^{\\infty}F\\varphi(k)}$$"
      ],
      "metadata": {
        "id": "x94hpDXDS3zi"
      }
    },
    {
      "cell_type": "markdown",
      "source": [
        "To see this, we `periodize` $\\varphi$ to have period of `1`\n",
        "\n",
        "$$\\begin{align*}\n",
        "\\Phi(x) &= \\sum_{-\\infty}^{\\infty}\\varphi(x-k) \\text{ (converges due to rapidly decreasing }  \\varphi)\\\\\n",
        "&=\\sum_{-\\infty}^{\\infty}c_k e^{2\\pi i kx} \\text{    (Fourier series)} \\\\\n",
        "& c_k=F\\varphi(k) \\text{    (To show next)}\\\\\n",
        "&=\\sum_{-\\infty}^{\\infty}F\\varphi(k)\\,e^{2\\pi i kx}\n",
        "\\end{align*}$$"
      ],
      "metadata": {
        "id": "-2QmiySfTpiD"
      }
    },
    {
      "cell_type": "markdown",
      "source": [
        "To show $c_k=F\\varphi(k)$\n",
        "\n",
        "$$\\begin{align*}\n",
        "c_k&= \\int_0^1 e^{-2\\pi i kx}\\Phi(x)\\,dx \\\\\n",
        "&=\\int_0^1 \\sum_{m=-\\infty}^{\\infty}e^{-2\\pi i kx} \\varphi(x-m)\\,dx \\\\\n",
        "&=\\sum_{m=-\\infty}^{\\infty}\\int_0^1 e^{-2\\pi i kx} \\varphi(x-m)\\,dx \\\\\n",
        "&=\\sum_{m=-\\infty}^{\\infty}\\int_{-m}^{-m+1} e^{-2\\pi i k(x+m)} \\varphi(x)\\,dx\n",
        " \\,\\,\\text{(any interval of 1 works)}\\\\\n",
        "&=\\sum_{m=-\\infty}^{\\infty}\\int_{-m}^{-m+1} e^{-2\\pi i kx}e^{-2\\pi i km} \\varphi(x)\\,dx \\\\\n",
        "&=\\int_{-\\infty}^{\\infty} e^{-2\\pi i kx}1 \\varphi(x)\\,dx \\\\\n",
        "&=F\\varphi(k)\n",
        "\\end{align*}$$"
      ],
      "metadata": {
        "id": "wmB4fny2V69h"
      }
    },
    {
      "cell_type": "markdown",
      "source": [
        "Put two expressions for the same $\\Phi(x)$\n",
        "\n",
        "$$\\begin{align*}\n",
        "\\Phi(x) &=\\sum_{-\\infty}^{\\infty}\\varphi(x-k) \\\\\n",
        "&=\\sum_{-\\infty}^{\\infty}F\\varphi(k)\\,e^{2\\pi i kx}\n",
        "\\end{align*}$$"
      ],
      "metadata": {
        "id": "HePInGocX7Xi"
      }
    },
    {
      "cell_type": "markdown",
      "source": [
        "If we evalute them at $x=0$\n",
        "\n",
        "$$\\Phi(0)=\\sum_{-\\infty}^{\\infty}\\varphi(-k)=\\sum_{-\\infty}^{\\infty}F\\varphi(k)1$$\n",
        "\n",
        "We have `Poisson formula`\n",
        "\n",
        "$$\\sum_{-\\infty}^{\\infty}\\varphi(k)=\\sum_{-\\infty}^{\\infty}F\\varphi(k)$$"
      ],
      "metadata": {
        "id": "dN8wzqWAYPpx"
      }
    },
    {
      "cell_type": "markdown",
      "source": [
        "#### Back to `Shah` function"
      ],
      "metadata": {
        "id": "j2tvmrfxZCfg"
      }
    },
    {
      "cell_type": "markdown",
      "source": [
        "We have\n",
        "\n",
        "$$\\begin{align}\n",
        "\\langle \\text{III}, \\varphi \\rangle &=\\sum_{k=-\\infty}^{\\infty}\\varphi(k)\n",
        "\\end{align}$$\n",
        "\n",
        "and\n",
        "\n",
        "$$\\begin{align}\n",
        "\\langle F\\text{III}, \\varphi \\rangle =\\sum_{k=-\\infty}^{\\infty}F\\varphi(k)\n",
        "\\end{align}$$"
      ],
      "metadata": {
        "id": "NUMS3D2AZG3z"
      }
    },
    {
      "cell_type": "markdown",
      "source": [
        "Therefore\n",
        "\n",
        "$$\\boxed{F\\text{III}=\\text{III}}$$"
      ],
      "metadata": {
        "id": "xdx63jtYZUE5"
      }
    },
    {
      "cell_type": "markdown",
      "source": [
        "#### Use `scaling property` of delta function to analyze `general` $\\text{III}_p$"
      ],
      "metadata": {
        "id": "cUfF7pwYZ_dV"
      }
    },
    {
      "cell_type": "markdown",
      "source": [
        "$$\\begin{align*}\n",
        "F\\text{III}_p&=F\\sum_{-\\infty}^{\\infty}\\delta(x-kp) \\\\\n",
        "&=F\\sum_{-\\infty}^{\\infty}\\color{orange}{\\delta\\left(p\\left(\\frac{x}{p}-k\\right)\\right)} \\\\\n",
        "&=F\\sum_{-\\infty}^{\\infty}\\color{orange}{\\frac{1}{p}\\delta\\left(\\frac{x}{p}-k\\right)}\\\\\n",
        "&=\\frac{1}{p}F\\color{red}{\\sum_{-\\infty}^{\\infty}\\delta\\left(\\frac{x}{p}-k\\right)} \\\\\n",
        "&=\\frac{1}{p}F\\left(\\color{red}{\\text{III}\\left(\\frac{x}{p}\\right)}\\right) \\\\\n",
        "& \\text{scaling property of Fourier transform} \\\\\n",
        "&= \\frac{1}{p}pF\\text{III}(ps) \\\\\n",
        "&= F\\text{III}(ps) \\\\\n",
        "&=\\text{III}(ps) \\\\\n",
        "&=\\sum_{-\\infty}^{\\infty}\\delta(ps-k) \\\\\n",
        "&=\\sum_{-\\infty}^{\\infty}\\delta\\left(p\\left(s-\\frac{k}{p}\\right)\\right) \\\\\n",
        "&=\\frac{1}{p}\\sum_{-\\infty}^{\\infty}\\delta\\left(s-\\frac{k}{p}\\right) \\\\\n",
        "&=\\frac{1}{p}\\text{III}_{\\frac{1}{p}}\n",
        "\\end{align*}$$"
      ],
      "metadata": {
        "id": "BAh2bGGhaLjI"
      }
    },
    {
      "cell_type": "markdown",
      "source": [
        "That is\n",
        "\n",
        "$$\\boxed{F\\text{III}_p (s)=\\frac{1}{p}\\text{III}_{\\frac{1}{p}}(s)} $$"
      ],
      "metadata": {
        "id": "pJDKS3PPdyu4"
      }
    },
    {
      "cell_type": "markdown",
      "source": [
        "#### Back to `diffraction pattern` of 1D crystal"
      ],
      "metadata": {
        "id": "Vm3-ZuUKej5-"
      }
    },
    {
      "cell_type": "markdown",
      "source": [
        "$$\\begin{align*}F\\rho_p&=(F\\rho)(F\\text{III}_p) \\\\\n",
        "&=F\\rho(s) \\cdot \\frac{1}{p}\\text{III}_{\\frac{1}{p}}(s) \\\\\n",
        "&=\\frac{1}{p}F\\rho(s) \\cdot \\sum_{-\\infty}^{\\infty}\\delta\\left(s-\\frac{k}{p}\\right) \\\\\n",
        "& \\text{sampling property of delta function} \\\\\n",
        "&=\\frac{1}{p}\\sum_{-\\infty}^{\\infty}F\\rho\\left(\\frac{k}{p}\\right)\\delta\\left(s-\\frac{k}{p}\\right)\n",
        "\\end{align*}$$\n",
        "\n",
        "So the spacing of the spots in diffraction pattern is `reciprocal` to the spacing in the crystal atom"
      ],
      "metadata": {
        "id": "dJcfUfJUen-p"
      }
    },
    {
      "cell_type": "code",
      "execution_count": null,
      "metadata": {
        "id": "tXOxl43V-mKU"
      },
      "outputs": [],
      "source": []
    }
  ]
}