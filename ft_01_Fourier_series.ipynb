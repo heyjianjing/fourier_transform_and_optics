{
  "nbformat": 4,
  "nbformat_minor": 0,
  "metadata": {
    "colab": {
      "provenance": []
    },
    "kernelspec": {
      "name": "python3",
      "display_name": "Python 3"
    },
    "language_info": {
      "name": "python"
    }
  },
  "cells": [
    {
      "cell_type": "markdown",
      "source": [
        "#### Two `questions` concerning `periodic` functions"
      ],
      "metadata": {
        "id": "IV1ymdEa-4U7"
      }
    },
    {
      "cell_type": "markdown",
      "source": [
        "For a periodic or periodized function $f(t)$ with `period 1`\n",
        "\n",
        "(1) if the function can be express as follows\n",
        "\n",
        "$$f(t)=\\sum_{k=-n}^{n} c_k e^{2\\pi i kt}$$\n",
        "\n",
        "$c_k$ is complex number, then, what are these $c_k$'s?"
      ],
      "metadata": {
        "id": "pOkYWo27-smG"
      }
    },
    {
      "cell_type": "markdown",
      "source": [
        "We can `isolate` one of these and call it $c_m$\n",
        "\n",
        "Then\n",
        "\n",
        "$$f(t) = \\cdots + c_m e^{2\\pi i mt} + \\cdots$$\n",
        "\n",
        "$$c_m =f(t)e^{-2\\pi i mt} - \\sum_{k\\neq m}{c_k}e^{2\\pi i (k-m)t}$$"
      ],
      "metadata": {
        "id": "N0zELbFu_zFM"
      }
    },
    {
      "cell_type": "markdown",
      "source": [
        "We integrate both side from $0$ to $1$\n",
        "\n",
        "$$\\begin{align}\n",
        "\\int_0^1c_mdt&=c_m\\\\\n",
        "&=\\int_0^1e^{-2\\pi imt}f(t) dt - \\sum_{k\\neq m}c_k\\left[\\frac{1}{2\\pi i (k-m)}e^{2\\pi i(k-m)t}\\right]\\Big|_0^1\\\\\n",
        "&=\\int_0^1e^{-2\\pi imt}f(t) dt - \\sum_{k\\neq m}c_k\\left[\\frac{1}{2\\pi i (k-m)}\\left(e^{2\\pi i(k-m)}-e^0\\right)\\right]\\\\\n",
        "&=\\int_0^1e^{-2\\pi imt}f(t) dt - \\sum_{k\\neq m}c_k\\left[\\frac{1}{2\\pi i (k-m)}\\left(1-1\\right)\\right]\\\\\n",
        "&=\\boxed{\\int_0^1e^{-2\\pi imt}f(t) dt}\n",
        "\\end{align}$$"
      ],
      "metadata": {
        "id": "sbpVfBKmAkpR"
      }
    },
    {
      "cell_type": "markdown",
      "source": [
        "(2) if $c_k = \\int_0^1e^{-2\\pi ikt}f(t) dt$, then, when does the following stand?\n",
        "\n",
        "$$f(t)=\\sum_{k=-n}^nc_ke^{2\\pi i kt}$$\n",
        "\n",
        "Intuitive answer is we need `infinite sum`. This is because complex exponentials are infinitely differentiable, so `finite sum` cannot model discontinuity in any of derivatives of $f(t)$. As a result\n",
        "\n",
        "$$f(t)=\\sum_{k=-\\infty}^{\\infty}c_ke^{2\\pi i kt}$$\n",
        "\n",
        "This is `Fourier series`"
      ],
      "metadata": {
        "id": "vwM4I_sUEAFi"
      }
    },
    {
      "cell_type": "markdown",
      "source": [
        "#### Inner product of functions"
      ],
      "metadata": {
        "id": "QyG6XvMRGgMr"
      }
    },
    {
      "cell_type": "markdown",
      "source": [
        "Recall\n",
        "\n",
        "$$\\int_0^1e^{2\\pi imt}e^{-2\\pi int} dt = \\left\\{\\begin{array}{rcl}0 &m\\neq n \\\\1 &m=n \\end{array}\\right.$$\n",
        "\n",
        "We can consider `inner product` of functions $f$ and $g$ as\n",
        "\n",
        "$$\\langle f, g\\rangle=\\int f(t) \\, \\overline{g(t)}\\,\\,dt$$"
      ],
      "metadata": {
        "id": "lNYy0JVdGqzb"
      }
    },
    {
      "cell_type": "markdown",
      "source": [
        "By analogy\n",
        "\n",
        "$$c_k=\\int_0^1e^{-2\\pi ikt}f(t) dt= \\boxed{\\langle f(t), e^{2\\pi ikt} \\rangle}$$"
      ],
      "metadata": {
        "id": "Hdw-KPhoH_oy"
      }
    },
    {
      "cell_type": "markdown",
      "source": [
        "#### Analysis and synthesis with `Fourier series`"
      ],
      "metadata": {
        "id": "6aYO1VPtIXyQ"
      }
    },
    {
      "cell_type": "markdown",
      "source": [
        "$$\\begin{align}\n",
        "f(t)&=\\sum_{k=-\\infty}^{\\infty}c_k e^{2\\pi i kt} \\\\\n",
        "&=\\sum_{k=-\\infty}^{\\infty} \\langle f(t), e^{2\\pi ikt} \\rangle \\cdot  e^{2\\pi i kt}\n",
        "\\end{align}$$\n",
        "\n",
        "* `resolve` $f(t)$ into directions of `orthonormal basis` $e^{2\\pi i kt}$ to get coefficients\n",
        "* `reconstruct` $f(t)$ using coefficients with orthonormal basis $e^{2\\pi i kt}$"
      ],
      "metadata": {
        "id": "t0aHXp0GIbui"
      }
    }
  ]
}
