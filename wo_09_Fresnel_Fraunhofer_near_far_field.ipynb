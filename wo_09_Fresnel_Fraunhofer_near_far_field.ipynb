{
  "nbformat": 4,
  "nbformat_minor": 0,
  "metadata": {
    "colab": {
      "provenance": []
    },
    "kernelspec": {
      "name": "python3",
      "display_name": "Python 3"
    },
    "language_info": {
      "name": "python"
    }
  },
  "cells": [
    {
      "cell_type": "markdown",
      "source": [
        "#### Wave `propagation`"
      ],
      "metadata": {
        "id": "XOEDyDz58y3u"
      }
    },
    {
      "cell_type": "markdown",
      "source": [
        "We asked the question: given a field at plane $z=0$, how will we find the `propagated field` at some other $z$? We used `angular spectrum` approach\n",
        "\n",
        "* Decompose field $U(x, y, 0)$ into 2d plane waves (Fourier transform of field)\n",
        "* Propagrate each plane wave separately to $z$ (Add phase term in direction of propagation)\n",
        "* Aggregate propagated plane waves together to find $U(x, y, z)$ (Inverse Fourier transform)\n",
        "\n",
        "We see\n",
        "\n",
        "$$\\begin{align*}\n",
        "U(x, y, z)&=F^{-1}\\left.\\left\\{ \\left.F \\{U(x, y, 0)\\}\\right|_{f_x, f_y} \\cdot \\exp\\left({2\\pi if_zz}\\right) \\right\\}\\right|_{x, y}\n",
        "\\end{align*}$$"
      ],
      "metadata": {
        "id": "Vcg2eYC3wmOJ"
      }
    },
    {
      "cell_type": "markdown",
      "source": [
        "#### `Huygens'` principle"
      ],
      "metadata": {
        "id": "uSimX54nX6NF"
      }
    },
    {
      "cell_type": "markdown",
      "source": [
        "Another way of approaching this is to use Huygens' principle, treating each point of the field at $z=0$ as a point source emitting spherical waves\n",
        "\n",
        "Recall spherical wave formula in context of Huygens' principle\n",
        "\n",
        "$$U(\\mathbf{r})=\\frac{1}{\\lambda i} \\cos(\\chi) \\frac{e^{i k |\\textbf{r}|}}{4\\pi|\\mathbf{r}|}$$\n",
        "\n",
        "* `Wave number` $k=\\frac{2\\pi}{\\lambda}$, and `phase velocity` $c=\\frac{\\omega}{k}$\n",
        "* $\\chi$ is the `angle` between the normal of the primary wavefront and the normal of the secondary wavefront\n",
        "* $\\cos(\\chi)$ is generally used, meaning the secondary wave decays as its wavefront normal becomes less aligned with primary wavefront normal\n",
        "* $\\frac{1}{\\lambda i}$ indicates the secondary wave is $\\frac{\\pi}{2}$ out of phase"
      ],
      "metadata": {
        "id": "C65JvaGLYBLe"
      }
    },
    {
      "cell_type": "markdown",
      "source": [
        "Using $(x',y')$ for original plane at $z_0=0$, if $z$ is large compared to size of field at $z_0$ (near field to far field), we can simplify $U(\\mathbf{r})$ for $(x, y)$ at $z$ as\n",
        "\n",
        "$$\\boxed{\\frac{1}{\\lambda i}U(x', y', 0)\\cdot \\frac{z}{r^2}e^{ikr}}$$\n",
        "\n",
        "where $r$ points from $(x',y')$ to $(x, y)$ and has angle from horizontal optical axis $\\chi$, where $\\cos\\chi$ can be approximated by $\\frac{z}{r}$\n",
        "\n",
        "$r$ can be calculated using\n",
        "\n",
        "$$\\boxed{r=\\sqrt{(x-x')^2+(y-y')^2+z^2}}$$"
      ],
      "metadata": {
        "id": "f3KBFZ8OY5n7"
      }
    },
    {
      "cell_type": "code",
      "source": [
        "import matplotlib.pyplot as plt\n",
        "from matplotlib.patches import Arc, Rectangle, Ellipse, Circle\n",
        "import numpy as np\n",
        "\n",
        "plt.style.use('dark_background')\n",
        "# color: https://matplotlib.org/stable/gallery/color/named_colors.html"
      ],
      "metadata": {
        "id": "Df9mNXbHY9xm"
      },
      "execution_count": null,
      "outputs": []
    },
    {
      "cell_type": "code",
      "source": [
        "fig_1, ax_1 = plt.subplots(figsize=(10, 4))\n",
        "\n",
        "ax_1.plot([0, 0],[-1,1],'w')\n",
        "ax_1.plot([4, 4],[-1,1],'w')\n",
        "ax_1.plot([-1, 5],[0,0], 'w')\n",
        "\n",
        "ax_1.text(-0.4, -0.3, r\"$(x', y', 0)$\", horizontalalignment='center', verticalalignment='center', fontsize=12, color='w')\n",
        "ax_1.text(3.6, -0.3, r'$(x, y, z)$', horizontalalignment='center', verticalalignment='center', fontsize=12, color='w')\n",
        "\n",
        "ax_1.arrow(0, 1-0.15, 0, 0,  head_width=0.1, head_length=0.2, fc='w', ec='none')\n",
        "ax_1.arrow(4, 1-0.15, 0, 0,  head_width=0.1, head_length=0.2, fc='w', ec='none')\n",
        "\n",
        "\n",
        "xy_prine = Circle((0,0.2), 0.05, edgecolor='none', facecolor='skyblue', zorder=-6)\n",
        "ax_1.add_patch(xy_prine)\n",
        "\n",
        "xy = Circle((4,0.5), 0.05, edgecolor='none', facecolor='skyblue', zorder=-6)\n",
        "ax_1.add_patch(xy)\n",
        "\n",
        "ax_1.plot([0, 4],[0.2,0.5], 'r')\n",
        "ax_1.plot([0, 4],[0.2,0.2], 'w--')\n",
        "\n",
        "ax_1.text(2, 0.6, r'$r$', horizontalalignment='center', verticalalignment='center', fontsize=12, color='r')\n",
        "\n",
        "arc = Arc([0, 0.2], 5.5, 5.5, theta1=0, theta2=np.rad2deg(np.arctan2(0.3, 4)), color='w')\n",
        "ax_1.add_patch(arc)\n",
        "ax_1.text(3, 0.32, r'$\\chi$', horizontalalignment='center', verticalalignment='center', fontsize=12, color='w')\n",
        "\n",
        "ax_1.set_aspect('equal')\n",
        "plt.show()"
      ],
      "metadata": {
        "colab": {
          "base_uri": "https://localhost:8080/",
          "height": 325
        },
        "id": "B8LGClIpcofD",
        "outputId": "2c20717e-baf8-4d64-9b5a-485ab800be90"
      },
      "execution_count": null,
      "outputs": [
        {
          "output_type": "display_data",
          "data": {
            "text/plain": [
              "<Figure size 1000x400 with 1 Axes>"
            ],
            "image/png": "[encoded data removed]"
          },
          "metadata": {}
        }
      ]
    },
    {
      "cell_type": "markdown",
      "source": [
        "#### `Rayleigh-Sommerfeld` integral"
      ],
      "metadata": {
        "id": "VfwQk8K5fzlV"
      }
    },
    {
      "cell_type": "markdown",
      "source": [
        "Using the above setup, we can write R-S integral of field at $z$\n",
        "\n",
        "$$\\boxed{U(x, y, z)=\\frac{1}{\\lambda i} \\iint U(x', y', 0)\\cdot \\frac{z}{r^2}e^{ikr}dx'dy'}$$\n",
        "\n",
        "When $z$ is large, we can simplify\n",
        "\n",
        "$$\\boxed{\\frac{1}{r^2}\\approx \\frac{1}{z^2}}$$\n",
        "\n",
        "This is valid as small perturbation (e.g., at the level of $\\lambda$) to the actual $r$ won't matter\n",
        "\n",
        "$$\\frac{1}{\\left(r+\\frac{\\lambda}{2}\\right)^2}\\approx \\frac{1}{r^2} \\approx \\frac{1}{z^2}$$\n",
        "\n",
        "However, we `cannot` simplify similarly $e^{ikr}$ as $e^{ikr}\\approx e^{ikz}$, as small perturbation leads to `wrong sign`, regardless of $r$\n",
        "\n",
        "$$e^{ik\\left(r+\\frac{\\lambda}{2}\\right)}=e^{ikr+i\\pi}=-e^{ikr}$$"
      ],
      "metadata": {
        "id": "rGJr6_KHf1yp"
      }
    },
    {
      "cell_type": "markdown",
      "source": [
        "#### `Fresnel` and `Fraunhofer` approximation"
      ],
      "metadata": {
        "id": "uYQRjUU1jN7i"
      }
    },
    {
      "cell_type": "markdown",
      "source": [
        " Rewrite $r=\\sqrt{(x-x')^2+(y-y')^2+z^2}$ after we pull $z$ out of square root\n",
        "\n",
        "$$r=z\\sqrt{1+\\frac{(x-x')^2+(y-y')^2}{z^2}}$$\n",
        "\n",
        "Again, assuming $z\\gg x, y$, we can approximate this using first two terms in Taylor expansion\n",
        "\n",
        "$$\\sqrt{1+a}\\approx 1+\\frac{a}{2}-\\frac{a^2}{8}+ \\cdots$$\n",
        "\n",
        "and we get `Fresnel approxmation` for `near to intermediate field`\n",
        "\n",
        "$$r\\approx \\boxed{z\\left(1+\\frac{(x-x')^2+(y-y')^2}{2z^2}\\right)}$$\n",
        "\n",
        "by ignoring the quadratic terms $x'^2$ and $y'^2$, we can get `Fraunhofer approximation` for `far field`\n",
        "\n",
        "$$r\\approx \\boxed{z\\left(1+\\frac{x^2+y^2-2xx'-2yy'}{2z^2}\\right)}$$"
      ],
      "metadata": {
        "id": "ce6-53tLjs6J"
      }
    },
    {
      "cell_type": "markdown",
      "source": [
        "#### R-S integral under `Fresnel` approximation"
      ],
      "metadata": {
        "id": "AvHWNsIGnGNy"
      }
    },
    {
      "cell_type": "markdown",
      "source": [
        "$$\\begin{align}\n",
        "U(x, y, z)&=\\frac{1}{\\lambda i} \\iint U(x', y', 0)\\cdot \\frac{z}{r^2}e^{ikr}dx'dy'\\\\\n",
        "&\\approx\\frac{1}{\\lambda i} \\iint U(x', y', 0)\\cdot \\frac{1}{z}e^{ik\\left(z+\\frac{x^2+y^2}{2z}+\\frac{x'^2+y'^2}{2z}+\\frac{-xx'-yy'}{z}\\right)}dx'dy'\\\\\n",
        "&=\\frac{1}{\\lambda z i} e^{ik\\left(z+\\frac{x^2+y^2}{2z}\\right)}\\iint U(x', y', 0)\\cdot e^{ik \\frac{x'^2+y'^2}{2z} } e^{ik\\left(\\frac{-xx'-yy'}{z}\\right)}dx'dy'\\\\\n",
        "&=\\frac{1}{\\lambda z i} e^{ik\\left(z+\\frac{x^2+y^2}{2z}\\right)}\\iint U(x', y', 0)\\cdot e^{ik\\frac{x'^2+y'^2}{2z}} e^{-2\\pi i\\left(\\frac{x}{\\lambda z}x'+\\frac{y}{\\lambda z}y'\\right)}dx'dy' \\,\\,\\,(k=\\frac{2\\pi}{\\lambda}) \\\\\n",
        "&=\\boxed{\\frac{1}{\\lambda z i} e^{ik\\left(z+\\frac{x^2+y^2}{2z}\\right)} F\\left.\\left(U(x', y', 0)\\cdot e^{ik \\frac{x'^2+y'^2}{2z}}\\right)\\right|_{\\frac{x}{\\lambda z},\\frac{y}{\\lambda z}}} \\\\\n",
        "\\end{align}$$\n",
        "\n",
        "In essence, for Fresnel approximation, we `multiply` original field with a `quadratic phase factor` from the source plane, then `Fourier transform` it to evaluate at target plane"
      ],
      "metadata": {
        "id": "dYLbX2ThnOl0"
      }
    },
    {
      "cell_type": "markdown",
      "source": [
        "#### R-S integral under `Fraunhofer` approximation"
      ],
      "metadata": {
        "id": "WMl-HK0_rQAw"
      }
    },
    {
      "cell_type": "markdown",
      "source": [
        "We drop the quadratic phase factor and get\n",
        "\n",
        "$$\\begin{align}\n",
        "U(x, y, z)\\approx\\boxed{\\frac{1}{\\lambda z i} e^{ik\\left(z+\\frac{x^2+y^2}{2z}\\right)} F\\left.\\left(U(x', y', 0)\\right)\\right|_{\\frac{x}{\\lambda z},\\frac{y}{\\lambda z}}} \\\\\n",
        "\\end{align}$$\n",
        "\n",
        "This means far field pattern is the Fourier transform of the original field"
      ],
      "metadata": {
        "id": "xdW_cNh5rR4S"
      }
    },
    {
      "cell_type": "markdown",
      "source": [
        "#### `Short notation`"
      ],
      "metadata": {
        "id": "ihQn9ouJK5Ev"
      }
    },
    {
      "cell_type": "markdown",
      "source": [
        "Let\n",
        "\n",
        "$$Q_z(x, y)=e^{ik\\frac{x^2+y^2}{2z}}$$\n",
        "\n",
        "Then, we can write R-S under `Fresnel` as (ignore $\\frac{1}{\\lambda z i} e^{ikz})$\n",
        "\n",
        "$$U(x, y, z)=\\boxed{Q_z(x, y)\\cdot F\\left.\\left(U(x', y', 0)\\cdot Q_z(x', y')\\right)\\right|_{\\frac{x}{\\lambda z},\\frac{y}{\\lambda z}}}$$\n",
        "\n",
        "and R-S under `Fraunhofer` as\n",
        "\n",
        "$$U(x, y, z)=\\boxed{Q_z(x, y)\\cdot F\\left.\\left(U(x', y', 0)\\right)\\right|_{\\frac{x}{\\lambda z},\\frac{y}{\\lambda z}}}$$\n",
        "\n",
        "In this form, distinguishing $x$ from $x'$ is not neceesary, as one is placed `outside` of Fourier transform, and one is `inside`, there should be no misunderstanding regarding which correspond to initial plane and which correspond to target plane"
      ],
      "metadata": {
        "id": "8KSOmVgmhFNZ"
      }
    },
    {
      "cell_type": "markdown",
      "source": [
        "#### When is `Fresnel` approximation `valid`?"
      ],
      "metadata": {
        "id": "buFp1yNSr0kR"
      }
    },
    {
      "cell_type": "markdown",
      "source": [
        "For clarity, we let $\\rho=\\sqrt{(x-x'^2)+(y-y'^2)}$, then $r$ becomes (using Taylor approximation)\n",
        "\n",
        "$$\\begin{align}\n",
        "r&=z\\sqrt{1+\\frac{\\rho^2}{z^2}}\\\\\n",
        "&\\approx z\\left(1+\\frac{1}{2}\\frac{\\rho^2}{z^2}-\\frac{1}{8}\\frac{\\rho^4}{z^4}\\right)\n",
        "\\end{align}\n",
        "$$\n",
        "\n",
        "Therefore, for `Fresnel` approximation, the error is in the order of\n",
        "\n",
        "$$k \\frac{1}{8}\\frac{\\rho^4}{z^3}=\\frac{2\\pi}{\\lambda}\\frac{1}{8}\\frac{\\rho^4}{z^3}$$\n",
        "\n",
        "As this is in $e^{ikr}$, we want the error to be much smaller than $2\\pi$\n",
        "\n",
        "$$\\frac{2\\pi}{8\\lambda}\\frac{\\rho^4}{z^3}\\ll 2\\pi$$\n",
        "\n",
        "After rearranging...\n",
        "\n",
        "$$\\boxed{\\frac{z}{\\lambda}\\gg \\frac{1}{2}\\left(\\frac{\\rho}{\\lambda}\\right)^{\\frac{4}{3}}}$$"
      ],
      "metadata": {
        "id": "a0TVPhnHtevj"
      }
    },
    {
      "cell_type": "markdown",
      "source": [
        "#### When is `Fraunhofer` approximation `valid`?"
      ],
      "metadata": {
        "id": "ir-ksAMxwYWs"
      }
    },
    {
      "cell_type": "markdown",
      "source": [
        "Assume original field is within circle of radius $R$ (e.g., could be the aperture size), as a result\n",
        "\n",
        "$$x'^2+y'^2<R^2$$\n",
        "\n",
        "We want the `quadratic phase term to be negligible`, or\n",
        "\n",
        "$$k\\frac{x'^2+y'^2}{2z}=\\frac{2\\pi}{\\lambda}\\cdot \\frac{x'^2+y'^2}{2z} \\ll 2\\pi$$\n",
        "\n",
        "We need\n",
        "\n",
        "$$\\frac{2\\pi}{\\lambda}\\frac{R^2}{2z}\\ll 2\\pi$$\n",
        "\n",
        "or\n",
        "\n",
        "$$\\boxed{z\\gg \\frac{R^2}{2\\lambda}}$$"
      ],
      "metadata": {
        "id": "PnEOGavBw4B7"
      }
    },
    {
      "cell_type": "markdown",
      "source": [
        "#### `Fresnel` number"
      ],
      "metadata": {
        "id": "T7khZtqWyKuX"
      }
    },
    {
      "cell_type": "markdown",
      "source": [
        "We can define Fresnel number using $\\frac{R^2}{\\lambda z}$\n",
        "\n",
        "If $\\boxed{\\frac{R^2}{\\lambda z}\\ll 1}$, we are in the `far field`, otherwise, we are in the `near to intermediate field`"
      ],
      "metadata": {
        "id": "LbYGez6FyNdv"
      }
    },
    {
      "cell_type": "code",
      "source": [],
      "metadata": {
        "id": "B3UiWsE9yAii"
      },
      "execution_count": null,
      "outputs": []
    }
  ]
}