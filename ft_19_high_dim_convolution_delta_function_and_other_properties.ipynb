{
  "nbformat": 4,
  "nbformat_minor": 0,
  "metadata": {
    "colab": {
      "provenance": []
    },
    "kernelspec": {
      "name": "python3",
      "display_name": "Python 3"
    },
    "language_info": {
      "name": "python"
    }
  },
  "cells": [
    {
      "cell_type": "markdown",
      "source": [
        "#### Setup"
      ],
      "metadata": {
        "id": "l0Vdaq1j_CZH"
      }
    },
    {
      "cell_type": "markdown",
      "source": [
        "2D (continuous) `Fourier transform`\n",
        "\n",
        "$$Ff(\\xi_1, \\xi_2)=\\iint e^{-2\\pi i (x_1\\xi_1+x_2\\xi_2)}f(x_1, x_2)\\,dx_1 dx_2$$\n",
        "\n",
        "and 2D `inverse` Fourier transform is\n",
        "\n",
        "$$F^{-1}g(x_1, x_2)=\\iint e^{2\\pi i (x_1\\xi_1+x_2\\xi_2)}g(\\xi_1, \\xi_2)\\,d\\xi_1 d\\xi_2$$"
      ],
      "metadata": {
        "id": "q7h936M5_F0Z"
      }
    },
    {
      "cell_type": "markdown",
      "source": [
        "#### `Convolution`"
      ],
      "metadata": {
        "id": "BixruP43BCVw"
      }
    },
    {
      "cell_type": "markdown",
      "source": [
        "$$(f*g)(x)=\\int_{\\mathbf{R}^n}f(x-y)g(y)\\, dy$$"
      ],
      "metadata": {
        "id": "V_91AGjMe8mT"
      }
    },
    {
      "cell_type": "markdown",
      "source": [
        "For $n=2$, we have\n",
        "\n",
        "$$(f*g)(x_1, x_2)=\\iint f(x_1-y_1, x_2-y_2)g(y_1, y_2)\\,dy_1dy_2$$"
      ],
      "metadata": {
        "id": "ODPvLBB_fRja"
      }
    },
    {
      "cell_type": "markdown",
      "source": [
        "For Fourier transform\n",
        "\n",
        "$$F(f*g)(\\xi)=Ff(\\xi)Fg(\\xi)$$\n",
        "\n",
        "and\n",
        "\n",
        "$$F(fg)(\\xi)=(Ff*Fg)(\\xi)$$"
      ],
      "metadata": {
        "id": "74BJz_HlfnSY"
      }
    },
    {
      "cell_type": "markdown",
      "source": [
        "#### `Shift` theorem"
      ],
      "metadata": {
        "id": "m4Vci96ugts9"
      }
    },
    {
      "cell_type": "markdown",
      "source": [
        "1D case, `translation` in $t$ $\\leftrightharpoons$ `phase shift` in $s$\n",
        "\n",
        "$$\\boxed{\\begin{align*}\n",
        "f(t) &\\leftrightharpoons Ff(s) \\\\\n",
        "f(t\\pm b) &\\leftrightharpoons e^{\\pm 2\\pi i s\\color{red}{b}}Ff(s)\n",
        "\\end{align*}}$$"
      ],
      "metadata": {
        "id": "w-zwAauDgyWA"
      }
    },
    {
      "cell_type": "markdown",
      "source": [
        "2D case\n",
        "\n",
        "$$f(x_1, x_2) \\leftrightharpoons Ff(\\xi_1,\\xi_2)$$\n",
        "\n",
        "Then, Fourier transform of shifted version\n",
        "\n",
        "$$\\begin{align*}\n",
        "&\\iint e^{-2\\pi i (x_1\\xi_1+x_2\\xi_2)}f(x_1-b_1, x_2-b_2)\\, dx_1dx_2 \\\\\n",
        "& u=x_1-b_1, v=x_2-b_2 \\\\\n",
        "&=\\iint e^{-2\\pi i \\left((u+b_1)\\xi_1+(v+b_2)\\xi_2\\right)}f(u, v)\\, dudv \\\\\n",
        "&=\\iint e^{-2\\pi i b_1\\xi_1}e^{-2\\pi i b_2\\xi_2}e^{-2\\pi i (u\\xi_1+v\\xi_2)}f(u, v)\\, dudv \\\\\n",
        "&=e^{-2\\pi i (b_1\\xi_1+b_2\\xi_2)}\\iint e^{-2\\pi i (u\\xi_1+v\\xi_2)}f(u, v)\\, dudv \\\\\n",
        "&=e^{-2\\pi i (b_1\\xi_1+b_2\\xi_2)}Ff(\\xi_1,\\xi_2) \\\\\n",
        "\\end{align*}$$\n",
        "\n",
        "Therefore\n",
        "\n",
        "$$\\boxed{f(x_1\\pm b_1, x_2\\pm b_2) \\leftrightharpoons e^{\\pm 2\\pi i (\\color{red}{b_1}\\xi_1+\\color{red}{b_2}\\xi_2)}Ff(\\xi_1,\\xi_2)}$$\n",
        "\n",
        "or using `vector` notation (to make it resemble 1D case more)\n",
        "\n",
        "$$f(x\\pm b) \\leftrightharpoons e^{\\pm 2\\pi i \\xi\\cdot \\color{red}{b}}Ff(\\xi)$$"
      ],
      "metadata": {
        "id": "Nmvqjxl7hD_h"
      }
    },
    {
      "cell_type": "markdown",
      "source": [
        "#### `Scaling` theorem"
      ],
      "metadata": {
        "id": "S79m1VOdnwh2"
      }
    },
    {
      "cell_type": "markdown",
      "source": [
        "1D case\n",
        "\n",
        "$$\\boxed{\\begin{align*}\n",
        "f(t) &\\leftrightharpoons Ff(s) \\\\\n",
        "f(at) &\\leftrightharpoons \\frac{1}{|a|}Ff(\\frac{s}{a})\n",
        "\\end{align*}}$$"
      ],
      "metadata": {
        "id": "_aGQd3Kcn4es"
      }
    },
    {
      "cell_type": "markdown",
      "source": [
        "2D case\n",
        "\n",
        "$$f(x_1, x_2) \\leftrightharpoons Ff(\\xi_1,\\xi_2)$$\n",
        "\n",
        "Then, Fourier transform of `scaled` version\n",
        "\n",
        "$$\\begin{align*}\n",
        "&\\iint e^{-2\\pi i (x_1\\xi_1+x_2\\xi_2)}f(a_1x_1, a_2x_2)\\, dx_1dx_2 \\\\\n",
        "& u=a_1x_1, v=a_2x_2 \\\\\n",
        "&=\\frac{1}{|a_1||a_2|}\\iint e^{-2\\pi i \\left(\\frac{\\xi_1}{a_1}u+\\frac{\\xi_2}{a_2}v\\right)}f(u, v)\\, dudv \\\\\n",
        "&=\\frac{1}{|a_1||a_2|}Ff\\left(\\frac{\\xi_1}{a_1},\\frac{\\xi_2}{a_2}\\right) \\\\\n",
        "\\end{align*}$$\n"
      ],
      "metadata": {
        "id": "KtCeg1vxoSFC"
      }
    },
    {
      "cell_type": "markdown",
      "source": [
        "Therefore\n",
        "\n",
        "$$\\boxed{f(a_1x_1,a_2x_2) \\leftrightharpoons \\frac{1}{|a_1||a_2|}Ff\\left(\\frac{\\xi_1}{a_1},\\frac{\\xi_2}{a_2}\\right)}$$"
      ],
      "metadata": {
        "id": "SmqayFjaqTGQ"
      }
    },
    {
      "cell_type": "markdown",
      "source": [
        "#### Scaling, `general version`"
      ],
      "metadata": {
        "id": "dnMMC7e-rPS9"
      }
    },
    {
      "cell_type": "markdown",
      "source": [
        "When scaling of variables $x_1, x_2$ are `coupled`, rather than independent, for example\n",
        "\n",
        "$$\\begin{align*}u_1& = ax_1+bx_2 \\\\\n",
        "u_2 &= cx_1+dx_2\n",
        "\\end{align*}$$\n",
        "\n",
        "which is a matrix multiplication\n",
        "\n",
        "$$\\begin{bmatrix}u_1 \\\\ u_2\\end{bmatrix}\\begin{bmatrix}a  &b \\\\ c& d\\end{bmatrix}\\begin{bmatrix}x_1 \\\\ x_2\\end{bmatrix}$$\n",
        "\n",
        "So\n",
        "\n",
        "$$\\boxed{\\begin{align*}\n",
        "f(x) &\\leftrightharpoons Ff(\\xi) \\\\\n",
        "f(Ax) &\\leftrightharpoons \\, \\color{red}{??}\n",
        "\\end{align*}}$$\n",
        "\n",
        "(Write $x$ instead of $\\mathbf{x}$, unless there's ambiguity)\n"
      ],
      "metadata": {
        "id": "VfSLuAvGrcCk"
      }
    },
    {
      "cell_type": "markdown",
      "source": [
        "By definition\n",
        "\n",
        "$$\\begin{align*}\n",
        "F(f(Ax))&=\\int_{\\mathbf{R}^n}e^{-2\\pi i (x\\cdot \\xi)}f(Ax) \\,dx \\\\\n",
        "& \\boxed{u=Ax, du=|\\det A| dx, x\\cdot \\xi = A^{-1}u\\cdot \\xi = u\\cdot A^{-T}\\xi}\\\\\n",
        "&=\\int_{\\mathbf{R}^n}e^{-2\\pi i (u\\cdot A^{-T}\\xi)}f(u) \\frac{1}{|\\det A|}\\,du \\\\\n",
        "&=\\frac{1}{|\\det A|}\\int_{\\mathbf{R}^n}e^{-2\\pi i (u\\cdot A^{-T}\\xi)}f(u) \\,du \\\\\n",
        "&=\\frac{1}{|\\det A|}Ff(A^{-T}\\xi)\n",
        "\\end{align*}$$\n",
        "\n",
        "Therefore\n",
        "\n",
        "$$\\boxed{\\begin{align*}\n",
        "f(x) &\\leftrightharpoons Ff(\\xi) \\\\\n",
        "f(Ax) &\\leftrightharpoons \\, \\color{red}{\\frac{1}{|\\det A|}Ff(A^{-T}\\xi)}\n",
        "\\end{align*}}$$\n",
        "\n",
        "In high dimension cases, `reciprocal relationship` is more generally described as $\\color{red}{A^{-T}}$"
      ],
      "metadata": {
        "id": "EnsvM32i1s9m"
      }
    },
    {
      "cell_type": "markdown",
      "source": [
        "#### `Delta` functions"
      ],
      "metadata": {
        "id": "etwSMMnI-kBs"
      }
    },
    {
      "cell_type": "markdown",
      "source": [
        "$$\\langle \\delta_b, \\varphi \\rangle = \\varphi(b)$$"
      ],
      "metadata": {
        "id": "03vVjE9u-xJl"
      }
    },
    {
      "cell_type": "markdown",
      "source": [
        "Fourier transform\n",
        "\n",
        "$$F\\delta_{b}=e^{-2\\pi i (b\\cdot \\xi)}$$"
      ],
      "metadata": {
        "id": "NpiGP2Re_GaO"
      }
    },
    {
      "cell_type": "markdown",
      "source": [
        "`Sampling` property\n",
        "\n",
        "$$f\\delta_{b}=f(b)\\delta_{b}$$"
      ],
      "metadata": {
        "id": "IvuXWe56_aJJ"
      }
    },
    {
      "cell_type": "markdown",
      "source": [
        "`Scaled` delta function\n",
        "\n",
        "$$\\delta(Ax)=\\frac{1}{|\\det A|}\\delta(x)$$"
      ],
      "metadata": {
        "id": "32oG2kkB_nyd"
      }
    },
    {
      "cell_type": "markdown",
      "source": [
        "Compare to `1D versions`\n",
        "\n",
        "$$\\langle \\delta_a, \\varphi \\rangle=\\varphi(a)$$\n",
        "\n",
        "Fourier transform\n",
        "\n",
        "$$F\\delta_a=e^{-2\\pi i a x}$$\n",
        "\n",
        "`Sampling` property\n",
        "\n",
        "$$\\delta_a = f(a)\\delta_a$$\n",
        "\n",
        "`Scaled` delta function\n",
        "\n",
        "$$\\delta(ax)=\\frac{1}{|a|}\\delta(x)$$"
      ],
      "metadata": {
        "id": "oOvqvboe_2JQ"
      }
    }
  ]
}