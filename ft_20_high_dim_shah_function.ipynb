{
  "nbformat": 4,
  "nbformat_minor": 0,
  "metadata": {
    "colab": {
      "provenance": []
    },
    "kernelspec": {
      "name": "python3",
      "display_name": "Python 3"
    },
    "language_info": {
      "name": "python"
    }
  },
  "cells": [
    {
      "cell_type": "markdown",
      "source": [
        "#### Recap, scaling, `general version`"
      ],
      "metadata": {
        "id": "dnMMC7e-rPS9"
      }
    },
    {
      "cell_type": "markdown",
      "source": [
        "$$\\boxed{\\begin{align}\n",
        "f(x) &\\leftrightharpoons Ff(\\xi) \\\\\n",
        "f(Ax) &\\leftrightharpoons \\, \\color{red}{\\frac{1}{|\\det A|}Ff(A^{-T}\\xi)}\n",
        "\\end{align}}$$"
      ],
      "metadata": {
        "id": "EnsvM32i1s9m"
      }
    },
    {
      "cell_type": "markdown",
      "source": [
        "#### `Shah` function"
      ],
      "metadata": {
        "id": "aeqCQI3VEz5S"
      }
    },
    {
      "cell_type": "markdown",
      "source": [
        "`1D case`"
      ],
      "metadata": {
        "id": "0VYM14BGe4Zm"
      }
    },
    {
      "cell_type": "markdown",
      "source": [
        "$$\\text{III}_p(x) =\\sum_{k=-\\infty}^{\\infty}\\delta(x-kp)$$\n",
        "\n",
        "Fourier transform\n",
        "\n",
        "$$F\\text{III}_p (s)=\\frac{1}{p}\\text{III}_{\\frac{1}{p}}(s) $$"
      ],
      "metadata": {
        "id": "LIQ7_PR4E1-e"
      }
    },
    {
      "cell_type": "markdown",
      "source": [
        "`2D` case"
      ],
      "metadata": {
        "id": "GC_6lsB9e6Pe"
      }
    },
    {
      "cell_type": "markdown",
      "source": [
        "* Evenly spaced points in $\\mathbf{R}^2$, we take a `grid` on the plane whose points coordinates have `integer` values $\\mathbf{k}=(k_1, k_2)$, forming integer `lattice`\n",
        "* Then, for Shah function, we put a `spike` at each of these lattice points\n",
        "\n",
        "$$\\text{III}_{Z^2}(\\mathbf{x})=\\sum_{\\mathbf{k}\\in Z^2}\\delta(\\mathbf{x-k})$$"
      ],
      "metadata": {
        "id": "Jo1dnMycct9d"
      }
    },
    {
      "cell_type": "markdown",
      "source": [
        "Not surprisingly,\n",
        "\n",
        "$$F\\text{III}_{Z^2}(\\mathbf{\\xi})=\\text{III}_{Z^2}(\\mathbf{\\xi})$$"
      ],
      "metadata": {
        "id": "C1Nh5yZ5ekHm"
      }
    },
    {
      "cell_type": "markdown",
      "source": [
        "##### How `change of spacing` is defined for 2D?"
      ],
      "metadata": {
        "id": "b_a0HutPev-h"
      }
    },
    {
      "cell_type": "markdown",
      "source": [
        "We obtain an `oblique lattice` $L$ by applying a linear transformation $A$ to the integer lattice $A(Z^2)$\n",
        "\n",
        "$$L: \\begin{bmatrix}Ae_1 & Ae_2\\end{bmatrix}\\begin{bmatrix}k_1 \\\\k_2\\end{bmatrix}$$"
      ],
      "metadata": {
        "id": "ego1b0yIga94"
      }
    },
    {
      "cell_type": "markdown",
      "source": [
        "So, the Shah function after transformation is to place the spikes onto all `lattice points` in $L$, denoted as $\\mathbf{p}$\n",
        "\n",
        "$$\\text{III}_L(\\mathbf{x})=\\sum_{\\mathbf{p}\\in L}\\delta(\\mathbf{x-p})$$"
      ],
      "metadata": {
        "id": "AtWuN3hDj1YI"
      }
    },
    {
      "cell_type": "markdown",
      "source": [
        "#### What is the `Fourier transform`?"
      ],
      "metadata": {
        "id": "rAufB8Bekj00"
      }
    },
    {
      "cell_type": "markdown",
      "source": [
        "Define a `reciprocal` lattice $L^*$\n",
        "\n",
        "$$L^*=A^{-T}(Z^2)$$"
      ],
      "metadata": {
        "id": "ZN173V_8lnyP"
      }
    },
    {
      "cell_type": "markdown",
      "source": [
        "The `area of parallelogram` in $L^*$ is `reciprocal` to that in $L$"
      ],
      "metadata": {
        "id": "NwrebgxzmFXL"
      }
    },
    {
      "cell_type": "markdown",
      "source": [
        "Then, it can be shown that\n",
        "\n",
        "$$\\begin{align}\n",
        "F\\text{III}_L&=\\frac{1}{\\text{Area}(L)}\\text{III}_{L^*} \\\\\n",
        "&=\\frac{1}{|\\det A|}\\text{III}_{L^*}\n",
        "\\end{align}$$"
      ],
      "metadata": {
        "id": "xQc4xuTxmijk"
      }
    },
    {
      "cell_type": "markdown",
      "source": [
        "Looks to me this can be done through\n",
        "\n",
        "$$\\boxed{\\begin{align}\n",
        "\\text{III}_{Z^2}(\\mathbf{x}) &\\leftrightharpoons \\text{III}_{Z^2}(\\mathbf{\\xi}) \\\\\n",
        "\\text{III}_{Z^2}(A\\mathbf{x}) &\\leftrightharpoons \\, \\color{red}{\\frac{1}{|\\det A|}Ff(A^{-T}\\xi)}=\\frac{1}{|\\det A|}\\text{III}_{Z^2}(A^{-T}\\xi)\n",
        "\\end{align}}$$\n",
        "\n",
        "where $A\\mathbf{x}$ transform lattice points on $Z^2$ to lattice points on $L$, and $A^{-T}\\xi$ transform lattice points on $Z^2$ to lattice points on $L^*$\n"
      ],
      "metadata": {
        "id": "0wRABr46sF7i"
      }
    },
    {
      "cell_type": "code",
      "source": [],
      "metadata": {
        "id": "FxzyEoq_E1mY"
      },
      "execution_count": null,
      "outputs": []
    }
  ]
}