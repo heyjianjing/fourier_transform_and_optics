{
  "nbformat": 4,
  "nbformat_minor": 0,
  "metadata": {
    "colab": {
      "provenance": []
    },
    "kernelspec": {
      "name": "python3",
      "display_name": "Python 3"
    },
    "language_info": {
      "name": "python"
    }
  },
  "cells": [
    {
      "cell_type": "markdown",
      "source": [
        "#### Any linear system can be expressed as `integration against kernel`"
      ],
      "metadata": {
        "id": "s_22jcZzCl-Z"
      }
    },
    {
      "cell_type": "markdown",
      "source": [
        "$$Lv(x)=\\int k(x, y)v(y)dy$$"
      ],
      "metadata": {
        "id": "_RcmBaNgCs-K"
      }
    },
    {
      "cell_type": "markdown",
      "source": [
        "The `kernel` corresponding is the `impulse response` of the system\n",
        "\n",
        "$$\\boxed{h(x, y)=k(x,y)=L\\left(\\delta(x-y)\\right)}$$"
      ],
      "metadata": {
        "id": "EExufmZUr9-3"
      }
    },
    {
      "cell_type": "markdown",
      "source": [
        "The kernel is `what the system does when you feed delta function`"
      ],
      "metadata": {
        "id": "gqTwRlZcsghO"
      }
    },
    {
      "cell_type": "markdown",
      "source": [
        "#### Case of `convolution`"
      ],
      "metadata": {
        "id": "Inkvt-5c0il1"
      }
    },
    {
      "cell_type": "markdown",
      "source": [
        "where\n",
        "\n",
        "$$\\begin{align*}\n",
        "Lv&=h*v\\\\\n",
        "&=\\int h(x-y)v(y) \\, dy\n",
        "\\end{align*}$$"
      ],
      "metadata": {
        "id": "OHhF25g-0ncx"
      }
    },
    {
      "cell_type": "markdown",
      "source": [
        "Since it is expressed as integration against kernel, then the kernel is the impulse response\n",
        "\n",
        "$$L\\delta (x-y)=h(x,y)=h(x-y)$$"
      ],
      "metadata": {
        "id": "2AAM2vCW0730"
      }
    },
    {
      "cell_type": "markdown",
      "source": [
        "#### Simple relationship between `convolution` and `shift` or delay"
      ],
      "metadata": {
        "id": "4apWFzo2KvDs"
      }
    },
    {
      "cell_type": "code",
      "source": [
        "import matplotlib.pyplot as plt\n",
        "import numpy as np\n",
        "\n",
        "plt.style.use('dark_background')"
      ],
      "metadata": {
        "id": "DuRbtROVP1EK"
      },
      "execution_count": null,
      "outputs": []
    },
    {
      "cell_type": "code",
      "source": [
        "fig, ax = plt.subplots(figsize=(7, 3))\n",
        "\n",
        "ax.plot([-2,1.5], [2,2], 'w', linewidth=2, zorder=0)\n",
        "ax.arrow(1.5-0.5, 2, 0.001, 0, head_width=0.3, head_length=0.5, fc='w')\n",
        "\n",
        "ax.plot([-2,1.5], [-2,-2], 'w', linewidth=2, zorder=0)\n",
        "ax.arrow(1.5-0.5, -2, 0.001, 0, head_width=0.3, head_length=0.5, fc='w')\n",
        "\n",
        "ax.plot([-3,-3], [1,-1], 'w', linewidth=2, zorder=0)\n",
        "ax.arrow(-3, -1+0.5, 0.000, -0.001, head_width=0.3, head_length=0.5, fc='w')\n",
        "\n",
        "ax.plot([4,4], [1,-1], 'w', linewidth=2, zorder=0)\n",
        "ax.arrow(4, -1+0.5, 0.000, -0.001, head_width=0.3, head_length=0.5, fc='w')\n",
        "\n",
        "ax.text(-3, 2, r\"$v$\", horizontalalignment='center',fontsize=15)\n",
        "ax.text(-3, -2, r\"$w$\", horizontalalignment='center',fontsize=15)\n",
        "ax.text(4, 2, r\"$v(t-a)$\", horizontalalignment='center',fontsize=15)\n",
        "ax.text(4, -2, r\"$w(t-a)$\", horizontalalignment='center',fontsize=15)\n",
        "\n",
        "ax.text(0, 2.5, r\"$\\tau_av$\", horizontalalignment='center',fontsize=15)\n",
        "ax.text(0, -3, r\"$\\tau_aw=\\tau_a(h*v)$\", horizontalalignment='center',fontsize=15, color='r')\n",
        "\n",
        "ax.text(-6, 0, r\"$Lv=h*v$\", horizontalalignment='center',fontsize=15)\n",
        "\n",
        "ax.text(8, 0, r\"$L(\\tau_av)=h*(\\tau_av)$\", horizontalalignment='center',fontsize=15, color='c')\n",
        "\n",
        "\n",
        "ax.set_xlim(-9, 14)\n",
        "ax.set_ylim(-4, 3.5)\n",
        "ax.set_aspect('equal')\n",
        "\n",
        "ax.set_title('Convolution and delay')\n",
        "ax.axis(\"off\")\n",
        "plt.tight_layout()\n",
        "\n",
        "plt.show()"
      ],
      "metadata": {
        "colab": {
          "base_uri": "https://localhost:8080/",
          "height": 277
        },
        "id": "8eq7d9oDP28h",
        "outputId": "9b2fc9a9-9e28-4a35-ec60-338f5582a38c"
      },
      "execution_count": null,
      "outputs": [
        {
          "output_type": "display_data",
          "data": {
            "text/plain": [
              "<Figure size 700x300 with 1 Axes>"
            ],
            "image/png": "[encoded data removed]"
          },
          "metadata": {}
        }
      ]
    },
    {
      "cell_type": "markdown",
      "source": [
        "Introduce `delay operator`\n",
        "\n",
        "$$(\\tau_av)(x)=v(x-a)$$"
      ],
      "metadata": {
        "id": "CLGM25bdK3It"
      }
    },
    {
      "cell_type": "markdown",
      "source": [
        "`Convolution of a delayed function` is the `delay of the convolution of the function`\n",
        "\n",
        "$$\\begin{align*}\n",
        "\\color{skyblue}{h*(\\tau_av)}&=\\int h(x-y) \\tau_a v(y) \\, dy \\\\\n",
        "&= \\int h(x-y) (y-a) \\, dy \\\\\n",
        "& s=y-a \\\\\n",
        "&=\\int h((x-a)-s)v(s) \\, ds \\\\\n",
        "&=(h*v)(x-a) \\\\\n",
        "&=\\color{red}{\\tau_a(h*v)}\n",
        "\\end{align*}$$"
      ],
      "metadata": {
        "id": "X0g_d2B6LVNH"
      }
    },
    {
      "cell_type": "markdown",
      "source": [
        "If we let\n",
        "\n",
        "$$w=Lv=h*v$$\n",
        "\n",
        "Then, `shift of input` $v\\rightarrow v(x-a)$ causes an `identical shift of output` $v\\rightarrow w(x-a)$"
      ],
      "metadata": {
        "id": "NjSxqdn7MzXs"
      }
    },
    {
      "cell_type": "markdown",
      "source": [
        "Such system is often refered to as linear `time-invariant` (LTI) or `shift-invariant`"
      ],
      "metadata": {
        "id": "9I5_XAx-Q-Ge"
      }
    },
    {
      "cell_type": "markdown",
      "source": [
        "#### Convolution is the `only form of LTI system`"
      ],
      "metadata": {
        "id": "10UykHkxRjf4"
      }
    },
    {
      "cell_type": "markdown",
      "source": [
        "Previously we see that convolution $\\rightarrow$ LTI\n",
        "\n",
        "The inverse is also true that LTI $\\rightarrow$ convolution"
      ],
      "metadata": {
        "id": "PsAh14LrRteB"
      }
    },
    {
      "cell_type": "markdown",
      "source": [
        "But `why`?"
      ],
      "metadata": {
        "id": "6rmPL0CiTU6Y"
      }
    },
    {
      "cell_type": "markdown",
      "source": [
        "For any linear system, we have\n",
        "\n",
        "$$Lv(x)=\\int L\\delta(x-y)v(y)\\, dy$$"
      ],
      "metadata": {
        "id": "aZzR04dOU1OH"
      }
    },
    {
      "cell_type": "markdown",
      "source": [
        "Define $h(x)$ as $L$ operating on `unshifted` delta function\n",
        "\n",
        "$$h(x)=L\\delta(x)$$"
      ],
      "metadata": {
        "id": "MH5qUEEfVPr0"
      }
    },
    {
      "cell_type": "markdown",
      "source": [
        "Then\n",
        "\n",
        "$$L\\delta(x-y)=L(\\tau_y\\delta)$$\n",
        "\n",
        "For a LTI system, shifted input goes to shifted output, therefore\n",
        "\n",
        "$$L\\delta(x-y)=L(\\tau_y\\delta)=\\tau_y(L\\delta)=h(x-y)$$\n",
        "\n",
        "and we are done"
      ],
      "metadata": {
        "id": "7JDk2_liVeDn"
      }
    },
    {
      "cell_type": "markdown",
      "source": [
        "For LTI system, the impulse response is `not` a function of $x$ and $y$ `independently`, but a function of their `difference` only"
      ],
      "metadata": {
        "id": "gH-8lpHPW-Th"
      }
    },
    {
      "cell_type": "code",
      "source": [],
      "metadata": {
        "id": "OqLep-JZNeju"
      },
      "execution_count": null,
      "outputs": []
    }
  ]
}