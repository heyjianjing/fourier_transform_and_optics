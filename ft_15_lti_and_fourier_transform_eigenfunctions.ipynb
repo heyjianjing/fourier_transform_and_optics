{
  "nbformat": 4,
  "nbformat_minor": 0,
  "metadata": {
    "colab": {
      "provenance": []
    },
    "kernelspec": {
      "name": "python3",
      "display_name": "Python 3"
    },
    "language_info": {
      "name": "python"
    }
  },
  "cells": [
    {
      "cell_type": "markdown",
      "source": [
        "#### Recap, any linear system can be expressed as `integration against kernel`"
      ],
      "metadata": {
        "id": "s_22jcZzCl-Z"
      }
    },
    {
      "cell_type": "markdown",
      "source": [
        "$$Lv(x)=\\int k(x, y)v(y)dy$$"
      ],
      "metadata": {
        "id": "_RcmBaNgCs-K"
      }
    },
    {
      "cell_type": "markdown",
      "source": [
        "The `kernel` corresponding is the `impulse response` of the system\n",
        "\n",
        "$$\\boxed{h(x, y)=k(x,y)=L\\left(\\delta(x-y)\\right)}$$"
      ],
      "metadata": {
        "id": "EExufmZUr9-3"
      }
    },
    {
      "cell_type": "markdown",
      "source": [
        "The kernel is `what the system does when you feed delta function`"
      ],
      "metadata": {
        "id": "gqTwRlZcsghO"
      }
    },
    {
      "cell_type": "markdown",
      "source": [
        "#### Any `LTI system` can be expressed as `convolution`"
      ],
      "metadata": {
        "id": "10UykHkxRjf4"
      }
    },
    {
      "cell_type": "markdown",
      "source": [
        "For any linear system, we have\n",
        "\n",
        "$$Lv(x)=\\int L\\delta(x-y)v(y)\\, dy$$"
      ],
      "metadata": {
        "id": "aZzR04dOU1OH"
      }
    },
    {
      "cell_type": "markdown",
      "source": [
        "Define $h(x)$ as $L$ operating on `unshifted` delta function\n",
        "\n",
        "$$h(x)=L\\delta(x)$$"
      ],
      "metadata": {
        "id": "MH5qUEEfVPr0"
      }
    },
    {
      "cell_type": "markdown",
      "source": [
        "If the `shift in input translates into identical shift in output`, then\n",
        "\n",
        "$$L\\delta(x-y)=L(\\tau_y\\delta)=\\tau_y(L\\delta)=\\boxed{h(x-y)}$$\n",
        "\n",
        "which gives `convolution`"
      ],
      "metadata": {
        "id": "7JDk2_liVeDn"
      }
    },
    {
      "cell_type": "markdown",
      "source": [
        "#### With convolution, `Fourier transform` is not very far away"
      ],
      "metadata": {
        "id": "gH-8lpHPW-Th"
      }
    },
    {
      "cell_type": "markdown",
      "source": [
        "As $w=h*v$, we have\n",
        "\n",
        "$$Fw=(Fh)(Fv)$$\n",
        "\n",
        "Write\n",
        "\n",
        "$$W(s)=H(s)V(s)$$\n",
        "\n",
        "where $H(s)$ is called `transfer function`"
      ],
      "metadata": {
        "id": "yXE_Hqs8ksQQ"
      }
    },
    {
      "cell_type": "markdown",
      "source": [
        "#### Complex exponentials are `eigenfunctions`"
      ],
      "metadata": {
        "id": "MVivKH5inUs2"
      }
    },
    {
      "cell_type": "markdown",
      "source": [
        "What if we feed a `complex exponentials` to $w=h*v$?"
      ],
      "metadata": {
        "id": "7h75-aJVns_2"
      }
    },
    {
      "cell_type": "markdown",
      "source": [
        "Let\n",
        "\n",
        "$$v(x)=e^{2\\pi i \\nu x}$$"
      ],
      "metadata": {
        "id": "Op9ALIrin5dU"
      }
    },
    {
      "cell_type": "markdown",
      "source": [
        "We know previously that\n",
        "\n",
        "$$Fe^{2\\pi i \\nu x}=\\delta_{\\nu}$$"
      ],
      "metadata": {
        "id": "ZZiJCy7_oETl"
      }
    },
    {
      "cell_type": "markdown",
      "source": [
        "With `sampling property` of delta function\n",
        "\n",
        "$$\\begin{align}\n",
        "W(s)&=H(s)\\delta(s-\\nu) \\\\\n",
        "&=H(\\nu)\\delta(s-\\nu)\n",
        "\\end{align}$$"
      ],
      "metadata": {
        "id": "jJpsLlIwoj1M"
      }
    },
    {
      "cell_type": "markdown",
      "source": [
        "Take `inverse` Fourier transform, we get\n",
        "\n",
        "$$w(x)=H(\\nu)e^{2\\pi i \\nu x}$$"
      ],
      "metadata": {
        "id": "oJt6yLKJo4_p"
      }
    },
    {
      "cell_type": "markdown",
      "source": [
        "That is\n",
        "\n",
        "$$L\\left(e^{2\\pi i \\nu x}\\right)=H(\\nu)e^{2\\pi i \\nu x}$$\n",
        "\n",
        "Naturally, $e^{2\\pi i \\nu x}$ is called `eigenfunction of LTI` system $L$ with `eigenvalue` $H(\\nu)$"
      ],
      "metadata": {
        "id": "7G89MtqRprHc"
      }
    }
  ]
}