{
  "nbformat": 4,
  "nbformat_minor": 0,
  "metadata": {
    "colab": {
      "provenance": []
    },
    "kernelspec": {
      "name": "python3",
      "display_name": "Python 3"
    },
    "language_info": {
      "name": "python"
    }
  },
  "cells": [
    {
      "cell_type": "markdown",
      "source": [
        "#### `Recap`"
      ],
      "metadata": {
        "id": "IV1ymdEa-4U7"
      }
    },
    {
      "cell_type": "markdown",
      "source": [
        "Discrete complex exponentials\n",
        "\n",
        "$$\\boxed{\\omega=e^{2\\pi i/N}}$$\n",
        "\n",
        "$$\\omega^n[m]=\\omega^{nm}=\\omega^m[n]$$\n",
        "$$\\omega^{-n}[m]=\\omega^{-nm}=\\omega^{-m}[n]$$\n",
        "\n",
        "DFT\n",
        "\n",
        "$$\\boxed{F[m]=\\sum_{n=0}^{N-1}f[n]\\omega^{-n}[m]}$$\n",
        "\n",
        "iDFT\n",
        "\n",
        "$$\n",
        "\\boxed{F^{-1}f[m]=\\frac{1}{N}\\sum_{n=0}^{N-1}f[n]\\omega^n[m]}\n",
        "$$"
      ],
      "metadata": {
        "id": "i1X0zSoJlAz0"
      }
    },
    {
      "cell_type": "markdown",
      "source": [
        "#### Discrete `delta function`"
      ],
      "metadata": {
        "id": "kIcfSuggMtnW"
      }
    },
    {
      "cell_type": "markdown",
      "source": [
        "##### `Multiplication`"
      ],
      "metadata": {
        "id": "x6ECo7Hbcwld"
      }
    },
    {
      "cell_type": "markdown",
      "source": [
        "$$\\begin{align*}\n",
        "f\\delta_0&=(f[0]\\cdot 1, f[1]\\cdot 0,\\cdots,f[N-1]\\cdot 0) \\\\\n",
        "&=(f[0], 0,\\cdots,0) \\\\\n",
        "&=f[0]\\delta_0\n",
        "\\end{align*}$$"
      ],
      "metadata": {
        "id": "V8-dOUCNcy4c"
      }
    },
    {
      "cell_type": "markdown",
      "source": [
        "$$\\begin{align*}\n",
        "f\\delta_k&=(f[0]\\cdot 0, \\cdots,f[k]\\cdot 1,\\cdots, f[N-1]\\cdot 0) \\\\\n",
        "&=f[k]\\delta_k\n",
        "\\end{align*}$$"
      ],
      "metadata": {
        "id": "6TtcOsf1dOwK"
      }
    },
    {
      "cell_type": "markdown",
      "source": [
        "Analogous to `continuous version`\n",
        "\n",
        "$$\\boxed{f\\delta_a = f(a)\\delta_a}$$"
      ],
      "metadata": {
        "id": "GHbJLhG-icpo"
      }
    },
    {
      "cell_type": "markdown",
      "source": [
        "##### `Convolution`"
      ],
      "metadata": {
        "id": "FGN4O2cfdYHT"
      }
    },
    {
      "cell_type": "markdown",
      "source": [
        "$$f*\\delta_k=f*\\tau_k\\delta_0=\\tau_k(f*\\delta_0)=\\tau_kf$$\n",
        "\n",
        "or element-wise\n",
        "\n",
        "$$(f*\\delta_k)[m]=f[m-k]$$"
      ],
      "metadata": {
        "id": "Od5CarSvddGn"
      }
    },
    {
      "cell_type": "markdown",
      "source": [
        "Also analogous to `continous version`\n",
        "\n",
        "$$\\boxed{(f*\\delta_a)(x) = f(x-a)}$$"
      ],
      "metadata": {
        "id": "dRPa-jRiiks0"
      }
    },
    {
      "cell_type": "code",
      "source": [],
      "metadata": {
        "id": "0TRaRY95cyLK"
      },
      "execution_count": null,
      "outputs": []
    }
  ]
}