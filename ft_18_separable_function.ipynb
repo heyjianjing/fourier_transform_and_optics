{
  "nbformat": 4,
  "nbformat_minor": 0,
  "metadata": {
    "colab": {
      "provenance": []
    },
    "kernelspec": {
      "name": "python3",
      "display_name": "Python 3"
    },
    "language_info": {
      "name": "python"
    }
  },
  "cells": [
    {
      "cell_type": "markdown",
      "source": [
        "#### Recap"
      ],
      "metadata": {
        "id": "l0Vdaq1j_CZH"
      }
    },
    {
      "cell_type": "markdown",
      "source": [
        "2D (continuous) `Fourier transform`\n",
        "\n",
        "$$Ff(\\xi_1, \\xi_2)=\\iint e^{-2\\pi i (x_1\\xi_1+x_2\\xi_2)}f(x_1, x_2)\\,dx_1 dx_2$$\n",
        "\n",
        "and 2D `inverse` Fourier transform is\n",
        "\n",
        "$$F^{-1}g(x_1, x_2)=\\iint e^{2\\pi i (x_1\\xi_1+x_2\\xi_2)}g(\\xi_1, \\xi_2)\\,d\\xi_1 d\\xi_2$$"
      ],
      "metadata": {
        "id": "q7h936M5_F0Z"
      }
    },
    {
      "cell_type": "markdown",
      "source": [
        "#### Class of examples `computable from 1D case`"
      ],
      "metadata": {
        "id": "BixruP43BCVw"
      }
    },
    {
      "cell_type": "markdown",
      "source": [
        "More generally, high dimensional Fourier transform computable from `lower dimensional` cases\n",
        "\n",
        "These are `separable functions`, that is, if\n",
        "\n",
        "$$f(x_1,x_2, \\cdots, x_n)=f_1(x_1)f_2(x_2)\\cdots f_n(x_n)$$\n",
        "\n",
        "Use 2D case to show this\n",
        "\n",
        "$$\\begin{align*}\n",
        "Ff(\\xi_1,\\xi_2)&=\\iint e^{-2\\pi i (x_1\\xi_1+x_2\\xi_2)}f(x_1, x_2)\\,dx_1 dx_2\\\\\n",
        "&=\\iint e^{-2\\pi i x_1\\xi_1}e^{-2\\pi i x_2\\xi_2}f_1(x_1)f_2(x_2)\\,dx_1 dx_2 \\\\\n",
        "&=\\int\\left(\\int e^{-2\\pi i x_1\\xi_1}f_1(x_1)\\,dx_1 \\right) e^{-2\\pi i x_2\\xi_2}f_2(x_2)\\,dx_2 \\\\\n",
        "&=Ff_1(\\xi_1)\\int e^{-2\\pi i x_2\\xi_2}f_2(x_2)\\,dx_2 \\\\\n",
        "&=Ff_1(\\xi_1)Ff_2(\\xi_2)\n",
        "\\end{align*}$$\n",
        "\n",
        "This can be extended to higher dimension similarly"
      ],
      "metadata": {
        "id": "N83GHLdhEFBM"
      }
    },
    {
      "cell_type": "markdown",
      "source": [
        "##### `Rectangle` function\n",
        "\n",
        "$$\\begin{align*}\\text{II}(x_1, x_2)&=\\left\\{\\begin{array}{cl}1 & -0.5<x_1, x_2<0.5 \\\\\n",
        "0 & \\text{otherwise}\\end{array}\\right. \\\\\n",
        "&=\\text{II}(x_1)\\text{II}(x_2)\n",
        "\\end{align*}$$\n",
        "\n",
        "Therefore\n",
        "\n",
        "$$F\\text{II}(\\xi_1,\\xi_2)=\\text{sinc}(\\xi_1)\\text{sinc}(\\xi_2)$$"
      ],
      "metadata": {
        "id": "uxtIZCqGEaBY"
      }
    },
    {
      "cell_type": "markdown",
      "source": [
        "More generally\n",
        "\n",
        "$$\\begin{align*}\\text{II}_{a_1,a_2}(x_1, x_2)&=\\left\\{\\begin{array}{cl}1 & -a_1/2<x_1<a_1/2,-a_2/2<x_2<a_2/2  \\\\\n",
        "0 & \\text{otherwise}\\end{array}\\right. \\\\\n",
        "&=\\text{II}_{a_1}(x_1)\\text{II}_{a_2}(x_2) \\\\\n",
        "&=\\text{II}(\\frac{x_1}{a_1})\\text{II}(\\frac{x_2}{a_2}) \\\\\n",
        "\\end{align*}$$\n",
        "\n",
        "Therefore (with the scaling property)\n",
        "\n",
        "$$F\\text{II}_{a_1,a_2}(\\xi_1,\\xi_2)=\\left(a_1\\text{sinc}(a_1\\xi_1)\\right)\\left(a_2\\text{sinc}(a_2\\xi_2)\\right)$$"
      ],
      "metadata": {
        "id": "cwJGEo1RXnjy"
      }
    },
    {
      "cell_type": "markdown",
      "source": [
        "##### `Gaussian` function"
      ],
      "metadata": {
        "id": "eQC33BC1ZyFj"
      }
    },
    {
      "cell_type": "markdown",
      "source": [
        "$$\\begin{align*}\n",
        "g(x_1, x_2)&=e^{-\\pi\\left(x_1^2+x_2^2\\right)} \\\\\n",
        "&=e^{-\\pi x_1^2} e^{-\\pi x_2^2}\\\\\n",
        "&=g_1(x_1)g_2(x_2)\n",
        "\\end{align*}$$\n",
        "\n",
        "Therefore\n",
        "\n",
        "$$\\begin{align*}\n",
        "Fg(\\xi_1,\\xi_2)&=e^{-\\pi \\xi_1^2} e^{-\\pi \\xi_2^2}\\\\\n",
        "&=e^{-\\pi\\left(\\xi_1^2+\\xi_2^2\\right)}\n",
        "\\end{align*}$$"
      ],
      "metadata": {
        "id": "lOYBh1gjaE1j"
      }
    },
    {
      "cell_type": "code",
      "source": [],
      "metadata": {
        "id": "ySZ7TkwotLyO"
      },
      "execution_count": null,
      "outputs": []
    }
  ]
}