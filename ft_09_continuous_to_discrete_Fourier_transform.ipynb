{
  "nbformat": 4,
  "nbformat_minor": 0,
  "metadata": {
    "colab": {
      "provenance": []
    },
    "kernelspec": {
      "name": "python3",
      "display_name": "Python 3"
    },
    "language_info": {
      "name": "python"
    }
  },
  "cells": [
    {
      "cell_type": "markdown",
      "source": [
        "#### `Setup` for discrete Fourier transform"
      ],
      "metadata": {
        "id": "IV1ymdEa-4U7"
      }
    },
    {
      "cell_type": "code",
      "source": [
        "import matplotlib.pyplot as plt\n",
        "import numpy as np\n",
        "\n",
        "plt.style.use('dark_background')"
      ],
      "metadata": {
        "id": "Mal5AmVDhzYW"
      },
      "execution_count": null,
      "outputs": []
    },
    {
      "cell_type": "code",
      "source": [
        "fig, ax = plt.subplots(figsize=(5, 3))\n",
        "\n",
        "ax.plot([-6,5], [2,2], 'w', linewidth=2, zorder=0)\n",
        "for i in [-5, -4, -3, 5]:\n",
        "    ax.plot([i,i], [2,2.2], 'w', linewidth=2, zorder=0)\n",
        "\n",
        "ax.text(-5, 1.2, r\"$\\frac{0}{2B}$\", horizontalalignment='center',fontsize=14)\n",
        "ax.text(-4, 1.2, r\"$\\frac{1}{2B}$\", horizontalalignment='center',fontsize=14)\n",
        "ax.text(-3, 1.2, r\"$\\frac{2}{2B}$\", horizontalalignment='center',fontsize=14)\n",
        "ax.text(5, 1.2, r\"$\\frac{N-1}{2B}$\", horizontalalignment='center',fontsize=14)\n",
        "\n",
        "ax.text(-5, 0.3, r\"$t_0$\", horizontalalignment='center',fontsize=14)\n",
        "ax.text(-4, 0.3, r\"$t_1$\", horizontalalignment='center',fontsize=14)\n",
        "ax.text(-3, 0.3, r\"$t_2$\", horizontalalignment='center',fontsize=14)\n",
        "ax.text(5, 0.3, r\"$t_{N-1}$\", horizontalalignment='center',fontsize=14)\n",
        "\n",
        "ax.text(1, 0.7, r\"$\\cdots \\cdots$\", horizontalalignment='center',fontsize=14)\n",
        "ax.text(0, 2.8, r\"$\\frac{1}{2B}N=L, N=2BL$\", horizontalalignment='center',fontsize=14)\n",
        "\n",
        "ax.plot([-6, 5], [-2,-2], 'w', linewidth=2, zorder=0)\n",
        "for i in [-5, -4, -3, 5]:\n",
        "    ax.plot([i,i], [-2,-1.8], 'w', linewidth=2, zorder=0)\n",
        "\n",
        "ax.text(-5, -2.8, r\"$\\frac{0}{L}$\", horizontalalignment='center',fontsize=14)\n",
        "ax.text(-4, -2.8, r\"$\\frac{1}{L}$\", horizontalalignment='center',fontsize=14)\n",
        "ax.text(-3, -2.8, r\"$\\frac{2}{L}$\", horizontalalignment='center',fontsize=14)\n",
        "ax.text(5, -2.8, r\"$\\frac{M-1}{L}$\", horizontalalignment='center',fontsize=14)\n",
        "\n",
        "ax.text(-5, -3.7, r\"$s_0$\", horizontalalignment='center',fontsize=14)\n",
        "ax.text(-4, -3.7, r\"$s_1$\", horizontalalignment='center',fontsize=14)\n",
        "ax.text(-3, -3.7, r\"$s_2$\", horizontalalignment='center',fontsize=14)\n",
        "ax.text(5, -3.7, r\"$s_{M-1}$\", horizontalalignment='center',fontsize=14)\n",
        "\n",
        "ax.text(1, -3.3, r\"$\\cdots \\cdots$\", horizontalalignment='center',fontsize=14)\n",
        "ax.text(0, -1.2, r\"$\\frac{1}{L}M=2B, M=2BL=N$\", horizontalalignment='center',fontsize=14)\n",
        "\n",
        "ax.set_xlim(-7, 6)\n",
        "ax.set_ylim(-4, 3.5)\n",
        "ax.set_aspect('equal')\n",
        "\n",
        "ax.set_title('Setup for discrete Fourier transform')\n",
        "ax.axis(\"off\")\n",
        "plt.tight_layout()\n",
        "\n",
        "plt.show()"
      ],
      "metadata": {
        "colab": {
          "base_uri": "https://localhost:8080/",
          "height": 310
        },
        "id": "J0yrFNCNh5AX",
        "outputId": "36f46200-7b9f-400b-eeb4-6e66fd3ff807"
      },
      "execution_count": null,
      "outputs": [
        {
          "output_type": "display_data",
          "data": {
            "text/plain": [
              "<Figure size 500x300 with 1 Axes>"
            ],
            "image/png": "[encoded data removed]"
          },
          "metadata": {}
        }
      ]
    },
    {
      "cell_type": "markdown",
      "source": [
        "`Assume`\n",
        "\n",
        "* $f(t)$ is limited to $0 \\leq t \\leq L$\n",
        "* $F(s)$ is limited to $0 \\leq s \\leq 2B$\n",
        "\n",
        "Unrealistic in real world, but makes `indexing` of discrete variable easier"
      ],
      "metadata": {
        "id": "i1X0zSoJlAz0"
      }
    },
    {
      "cell_type": "markdown",
      "source": [
        "#### Sampling in `time domain` to get `sampled` form of $f(t)$"
      ],
      "metadata": {
        "id": "Mimc5pD54okT"
      }
    },
    {
      "cell_type": "markdown",
      "source": [
        "Use `sampling theorem`, how function should be sampled in one domain is dictated by property of function in the other domain\n",
        "\n",
        "To get reasonable discrete approximation of $f$, we need to use `sampling rate` of $2B$ in `time` domain.\n",
        "\n",
        "Samples $\\boxed{t_k=\\frac{k}{2B}}$ are spaced $\\frac{1}{2B}$ apart, $N$ sample points, and\n",
        "\n",
        "$$\\frac{1}{2B}N=L, \\, N=2BL$$"
      ],
      "metadata": {
        "id": "mBintCILhQbV"
      }
    },
    {
      "cell_type": "markdown",
      "source": [
        "`Sampled form` of $f(t)$ is given by (using `sampling` property of delta funtion, subscript $s$ denote `sampled form` of continous function)\n",
        "\n",
        "$$\\begin{align*}\n",
        "f_s(t)&=\\boxed{f(t)\\sum_{k=0}^{N-1}\\delta(t-t_k)} \\\\\n",
        "&=\\sum_{k=0}^{N-1} f(t_k)\\delta(t-t_k)\n",
        "\\end{align*}$$\n",
        "\n",
        "The `sampled values` of the `function` are $\\boxed{f(t_k)}$\n",
        "\n",
        "$f_s(t)$ is still a function of `continuous variable` $t$"
      ],
      "metadata": {
        "id": "woznF5DQ27t6"
      }
    },
    {
      "cell_type": "markdown",
      "source": [
        "#### `Fourier transform` of sampled form of $f(t)$"
      ],
      "metadata": {
        "id": "Ouk_qqaNlr8m"
      }
    },
    {
      "cell_type": "markdown",
      "source": [
        "Its continous `Fourier transform` is (using result of shifted delta function)\n",
        "\n",
        "$$\\begin{align*}Ff_s(s)&=\\sum_{k=0}^{N-1}f(t_k)F\\delta(t-t_k) \\\\\n",
        "&=\\color{orange}{\\sum_{k=0}^{N-1}f(t_k)e^{-2\\pi i s t_k}}\n",
        "\\end{align*}$$"
      ],
      "metadata": {
        "id": "LNZnufu33v5J"
      }
    },
    {
      "cell_type": "markdown",
      "source": [
        "#### Sampling in `frequency domain` to get `sampled form` of Fourier transform (of sampled form of $f(t)$)"
      ],
      "metadata": {
        "id": "VEuKN2Ha6G3i"
      }
    },
    {
      "cell_type": "markdown",
      "source": [
        "So, what sampling theorem tells us how we should sample from $Ff_s(s)$?\n",
        "\n",
        "By analogy, we should use `sampling rate` of $L$ in `frequency` domain.\n",
        "\n",
        "Samples $\\boxed{s_m=\\frac{m}{L}}$ are spaced $\\frac{1}{L}$ apart, $M$ sample points, and\n",
        "\n",
        "$$\\frac{1}{L}M=2B, \\, \\boxed{M=2BL=N}$$\n",
        "\n",
        "and\n",
        "\n",
        "$$\\boxed{\\frac{1}{L}\\frac{1}{2B}=\\Delta s \\Delta t=\\frac{1}{N}}$$\n",
        "\n",
        "That is, sampling spacing in time and frequency domain are `reciprocally related`, the `choice` we make when sampling in `time` domain `determines` resolution we get in `frequency` domain"
      ],
      "metadata": {
        "id": "G3jVDIOQ6LAl"
      }
    },
    {
      "cell_type": "markdown",
      "source": [
        "`Sampled form` of Fourier transform of sampled form of the function, namely $F_sf_s$, is given by (again, using `sampling` property of delta function)\n",
        "\n",
        "$$\\begin{align*}\n",
        "F_sf_s(s)&=\\boxed{Ff_s(s) \\sum_{m=0}^{N-1}\\delta(s-s_m)} \\\\\n",
        "&=\\color{orange}{\\sum_{k=0}^{N-1}f(t_k)e^{-2\\pi i s t_k}} \\sum_{m=0}^{N-1}\\delta(s-s_m) \\\\\n",
        "&=\\sum_{m=0}^{N-1}\\left(\\sum_{k=0}^{N-1}f(t_k)e^{-2\\pi i {\\color{red}{s_m}} t_k}\\right) \\delta(s-s_m)\n",
        "\\end{align*}$$"
      ],
      "metadata": {
        "id": "EMJsFr627VPt"
      }
    },
    {
      "cell_type": "markdown",
      "source": [
        "The `sampled values` of the `Fourier transform of sampled form of the function` are\n",
        "\n",
        "$$\\boxed{F(s_m)=\\sum_{k=0}^{N-1}f(t_k)e^{-2\\pi i s_m t_k} \\, (m=0,\\cdots, N-1)}$$\n",
        "\n",
        "Now, we have a way of going from discrete version of $f(t)$ to discrete version of $Ff(s)$"
      ],
      "metadata": {
        "id": "Aq0--NnSAxeY"
      }
    },
    {
      "cell_type": "markdown",
      "source": [
        "#### Introduce `discrete functions`"
      ],
      "metadata": {
        "id": "dDzZZ8IKr2Gx"
      }
    },
    {
      "cell_type": "markdown",
      "source": [
        "We know\n",
        "\n",
        "$$s_m=\\frac{m}{L},\\, t_k=\\frac{k}{2B}$$\n",
        "\n",
        "where $m,n=0,\\cdots,N-1$\n",
        "\n",
        "and\n",
        "\n",
        "$$s_mt_k=\\frac{mk}{2BL}=\\frac{mk}{N}$$\n",
        "\n",
        "Therefore\n",
        "\n",
        "$$F(s_m)=\\sum_{k=0}^{N-1}f(t_k)e^{-2\\pi i \\frac{mk}{N}} \\, (m=0,\\cdots, N-1)$$"
      ],
      "metadata": {
        "id": "nK_GIRkwr8pS"
      }
    },
    {
      "cell_type": "markdown",
      "source": [
        "Final step is to identify that values of `continuous function` $f(t_k)$ at `sampled points` $t_k$ is the same as values of `discrete function` $f[k]$ at corresponding `index` $k$\n",
        "\n",
        "Same for $F(s_m)$ and $F[m]$\n",
        "\n",
        "So, we can define `discrete Fourier transform` based on discrete functions only\n",
        "\n",
        "$$\\boxed{F[m]=\\sum_{k=0}^{N-1}f[k]e^{-2\\pi i \\frac{mk}{N}} \\, (m=0,\\cdots, N-1)}$$"
      ],
      "metadata": {
        "id": "SuDHV2wYuijJ"
      }
    },
    {
      "cell_type": "code",
      "execution_count": null,
      "metadata": {
        "id": "tXOxl43V-mKU"
      },
      "outputs": [],
      "source": []
    }
  ]
}