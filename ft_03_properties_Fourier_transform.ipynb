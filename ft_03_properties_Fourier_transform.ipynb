{
  "nbformat": 4,
  "nbformat_minor": 0,
  "metadata": {
    "colab": {
      "provenance": []
    },
    "kernelspec": {
      "name": "python3",
      "display_name": "Python 3"
    },
    "language_info": {
      "name": "python"
    }
  },
  "cells": [
    {
      "cell_type": "markdown",
      "source": [
        "#### (inverse) Fourier transform"
      ],
      "metadata": {
        "id": "IV1ymdEa-4U7"
      }
    },
    {
      "cell_type": "markdown",
      "source": [
        "Fourier transform of $f(t)$, evaluted at $s$\n",
        "\n",
        "$$Ff(s)=\\int_{-\\infty}^{\\infty}e^{-2\\pi ist}f(t) dt$$\n",
        "\n",
        "Inverse Fourier transform of $Ff(s)$, evaluted at $t$\n",
        "\n",
        "$$f(t)=\\int_{-\\infty}^{\\infty}e^{2\\pi ist}Ff(s) ds$$"
      ],
      "metadata": {
        "id": "JrR7URwoPHha"
      }
    },
    {
      "cell_type": "markdown",
      "source": [
        "#### `Shift` property"
      ],
      "metadata": {
        "id": "WxOZR_7uQFBx"
      }
    },
    {
      "cell_type": "markdown",
      "source": [
        "If we shift $f(t)$ to $f(t-b)$ and let $u=t-b$, its Fourier transform becomes\n",
        "\n",
        "$$\\begin{align}\n",
        "\\int_{-\\infty}^{\\infty}e^{-2\\pi ist}f(t-b) dt &=\\int_{-\\infty}^{\\infty}e^{-2\\pi is(u+b)}f(u) du \\\\\n",
        "&=e^{-2\\pi isb}\\int_{-\\infty}^{\\infty}e^{-2\\pi isu}f(u) du\\\\\n",
        "&=e^{-2\\pi is\\color{red}{b}}Ff(s)\n",
        "\\end{align}$$\n",
        "\n"
      ],
      "metadata": {
        "id": "9B2VfM1ER3-Q"
      }
    },
    {
      "cell_type": "markdown",
      "source": [
        "Therefore, `translation` in $t$ $\\leftrightharpoons$ `phase shift` in $s$\n",
        "\n",
        "$$\\boxed{\\begin{align}\n",
        "f(t) &\\leftrightharpoons Ff(s) \\\\\n",
        "f(t\\pm b) &\\leftrightharpoons e^{\\pm 2\\pi i s\\color{red}{b}}Ff(s)\n",
        "\\end{align}}$$"
      ],
      "metadata": {
        "id": "Jew5B5A7S-nt"
      }
    },
    {
      "cell_type": "markdown",
      "source": [
        "#### `Scaling` property"
      ],
      "metadata": {
        "id": "BM9q2h5uT9rf"
      }
    },
    {
      "cell_type": "markdown",
      "source": [
        "If we scale $f(t)$ to $f(at)$ (assume $a>0)$ and let $u=at$, its Fourier transform becomes\n",
        "\n",
        "$$\\begin{align}\n",
        "\\int_{-\\infty}^{\\infty}e^{-2\\pi ist}f(at) dt &=\\int_{-\\infty}^{\\infty}e^{-2\\pi is\\frac{u}{a}}f(u) \\frac{1}{a}du \\\\\n",
        "&=\\frac{1}{a}\\int_{-\\infty}^{\\infty}e^{-2\\pi i\\frac{s}{a}u}f(u) du\\\\\n",
        "&=\\frac{1}{a}Ff(\\frac{s}{a})\n",
        "\\end{align}$$\n",
        "\n"
      ],
      "metadata": {
        "id": "N239jGRbUDqn"
      }
    },
    {
      "cell_type": "markdown",
      "source": [
        "Therefore\n",
        "\n",
        "$$\\boxed{\\begin{align}\n",
        "f(t) &\\leftrightharpoons Ff(s) \\\\\n",
        "f(at) &\\leftrightharpoons \\frac{1}{|a|}Ff(\\frac{s}{a})\n",
        "\\end{align}}$$\n",
        "\n",
        "When $a<0$, with change of variables the integral limits get swapped, so need $\\frac{1}{a}$ to become $\\frac{1}{-a}=\\frac{1}{|a|}$ to swap integral limits one more time"
      ],
      "metadata": {
        "id": "K8-xEY23UszE"
      }
    },
    {
      "cell_type": "markdown",
      "source": [
        "#### `Derivative` property"
      ],
      "metadata": {
        "id": "Fa0qzZ4Na8nK"
      }
    },
    {
      "cell_type": "markdown",
      "source": [
        "$$\\boxed{\\begin{align}\n",
        "f(t) &\\leftrightharpoons Ff(s) \\\\\n",
        "f^{n}(t) &\\leftrightharpoons (2\\pi is)^nFf(s)\n",
        "\\end{align}}$$"
      ],
      "metadata": {
        "id": "hO5IZ98Ufm14"
      }
    },
    {
      "cell_type": "markdown",
      "source": [
        "#### `Duality` with reversed function"
      ],
      "metadata": {
        "id": "GTdbkoUG3la9"
      }
    },
    {
      "cell_type": "markdown",
      "source": [
        "Let $f^-$ be `reversed function` of $f$, namely $f(-t)$, then\n",
        "\n",
        "$$\\begin{align}\n",
        "Ff^-(s)&=\\int_{-\\infty}^{\\infty} e^{-2\\pi i st}f(-t)\\,dt \\\\\n",
        "& (u=-t) \\\\\n",
        "&=\\int_{\\infty}^{-\\infty} e^{2\\pi i su}f(u)\\,(-du) \\\\\n",
        "&=\\int_{-\\infty}^{\\infty} e^{2\\pi i su}f(u)\\,du \\\\\n",
        "&=F^{-1}f(s) \\\\\n",
        "&=Ff(-s)\n",
        "\\end{align}$$\n",
        "\n",
        "\n",
        "$$\\begin{align}\n",
        "F^{-1}f^-(s)&=\\int e^{2\\pi i st}f(-t)\\,dt \\\\\n",
        "&=\\int e^{-2\\pi i su}f(u)\\,du\\\\\n",
        "&=Ff(s) \\\\\n",
        "&=F^{-1}f(-s)\n",
        "\\end{align}$$"
      ],
      "metadata": {
        "id": "39ot-UYf3rvP"
      }
    },
    {
      "cell_type": "markdown",
      "source": [
        "From above, we can get\n",
        "\n",
        "$$F\\left(Ff\\right)=F\\left(F^{-1}f^-\\right)=f^-$$\n",
        "\n",
        "and\n",
        "\n",
        "$$F^{-1}\\left(F^{-1}f\\right)=F^{-1}\\left(Ff^-\\right)=f^-$$\n",
        "\n",
        "They can be useful for computing certain Fourier transform\n",
        "\n",
        "For example, we know Fourier transform of rectangle function is the sinc function\n",
        "\n",
        "$$F\\text{II}=\\text{sinc}$$\n",
        "\n",
        "Therefore\n",
        "\n",
        "$$F\\text{sinc}=F(F\\text{II})=\\text{II}^-=\\text{II}$$"
      ],
      "metadata": {
        "id": "Nuj2fT466AtE"
      }
    },
    {
      "cell_type": "code",
      "execution_count": null,
      "metadata": {
        "id": "tXOxl43V-mKU"
      },
      "outputs": [],
      "source": []
    }
  ]
}